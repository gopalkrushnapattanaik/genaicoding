{
 "cells": [
  {
   "cell_type": "markdown",
   "id": "a95955e1",
   "metadata": {},
   "source": [
    "# LangChain Tools Lab: Weather Agent Edition 🌦️🤖\n",
    "\n",
    "Welcome to the LangChain Tools Weather Lab! In this notebook, you'll learn how to use LangChain's tool system to build an AI agent that can fetch real-time weather data. Robo6 is here to help—he loves weather, but hates getting wet!\n",
    "\n",
    "<table><tr>\n",
    "<td><img src=\"images/robo6.png\" alt=\"Robo6 - Weather Tool Master\" width=\"120\" /></td>\n",
    "<td style=\"vertical-align:top; padding-left:20px;\">\n",
    "<b>Robo6 says:</b><br>\n",
    "<i>\"I can check the weather, but don't ask me to bring an umbrella!\"</i><br>\n",
    "</td>\n",
    "</tr></table>\n",
    "\n",
    "Let's get started and see how tools make agents smarter!"
   ]
  },
  {
   "cell_type": "markdown",
   "id": "e85e41a6",
   "metadata": {},
   "source": [
    "# What Are LangChain Tools?\n",
    "LangChain tools let your AI agent interact with the world—call APIs, do math, search the web, and more. In this lab, you'll build a weather agent that can answer weather questions using a real API!"
   ]
  },
  {
   "cell_type": "markdown",
   "id": "7033a371",
   "metadata": {},
   "source": [
    "# Import Libraries and Setup\n",
    "Let's import the necessary libraries and set up our environment for weather-powered AI magic."
   ]
  },
  {
   "cell_type": "code",
<<<<<<< HEAD
   "execution_count": 11,
=======
   "execution_count": 1,
>>>>>>> 6e034406f5f4389aebfc2674bf28e8c0eeaabfe7
   "id": "b237bdc5",
   "metadata": {},
   "outputs": [],
   "source": [
    "from langchain.tools import Tool\n",
    "from langchain_openai import ChatOpenAI\n",
    "from dotenv import load_dotenv\n",
    "import os\n",
    "import requests\n",
    "\n",
    "# Load environment variables from .env file\n",
    "load_dotenv()\n",
    "\n",
    "# Get OpenAI API key from environment\n",
    "openai_api_key = os.getenv(\"OPENAI_API_KEY\")\n",
    "\n",
    "# Check if API key is loaded\n",
    "if not openai_api_key:\n",
    "    raise ValueError(\"OPENAI_API_KEY not found in environment. Please check your .env file.\")"
   ]
  },
  {
   "cell_type": "markdown",
   "id": "4e58c0e0",
   "metadata": {},
   "source": [
    "# Define a Weather Tool\n",
    "Let's create a tool that fetches weather data for any city using the OpenWeatherMap API. Robo6 is ready to check the forecast (but only if it's sunny)!"
   ]
  },
  {
   "cell_type": "code",
<<<<<<< HEAD
   "execution_count": 12,
=======
   "execution_count": 2,
>>>>>>> 6e034406f5f4389aebfc2674bf28e8c0eeaabfe7
   "id": "c721efd7",
   "metadata": {},
   "outputs": [],
   "source": [
    "def get_weather(city: str) -> str:\n",
    "    api_key = os.getenv(\"OPENWEATHER_API_KEY\")\n",
    "    url = f\"http://api.openweathermap.org/data/2.5/weather?q={city}&appid={api_key}&units=metric\"\n",
    "    response = requests.get(url)\n",
    "    data = response.json()\n",
    "    if \"weather\" in data and \"main\" in data:\n",
    "        return f\"{city.title()} weather: {data['weather'][0]['description']}, {data['main']['temp']}°C\"\n",
    "    else:\n",
    "        return f\"Could not fetch weather for {city}.\"\n",
    "\n",
    "weather_tool = Tool(\n",
    "    name=\"GetWeather\",\n",
    "    description=\"Gets current weather for a city\",\n",
    "    func=get_weather\n",
    ")"
   ]
  },
  {
   "cell_type": "markdown",
   "id": "cb47f8d0",
   "metadata": {},
   "source": [
    "# Create an Agent and Use the Tool\n",
    "Now let's create a LangChain agent that can use our weather tool to answer questions. Robo6 is ready to be your personal weather forecaster!"
   ]
  },
  {
   "cell_type": "code",
   "execution_count": 8,
   "id": "10abe82e",
   "metadata": {},
   "outputs": [
    {
     "name": "stdout",
     "output_type": "stream",
     "text": [
      "\n",
      "\n",
      "\u001b[1m> Entering new AgentExecutor chain...\u001b[0m\n",
      "\u001b[32;1m\u001b[1;3m\n",
      "Invoking: `GetWeather` with `London`\n",
<<<<<<< HEAD
      "\n",
      "\n",
      "\u001b[0m\u001b[36;1m\u001b[1;3mLondon weather: broken clouds, 14.75°C\u001b[0m\u001b[32;1m\u001b[1;3mThe weather in London is currently 14.75°C with broken clouds.\u001b[0m\n",
      "\n",
      "\u001b[1m> Finished chain.\u001b[0m\n",
      "The weather in London is currently 14.75°C with broken clouds.\n",
      "\n",
      "\n",
      "\u001b[1m> Entering new AgentExecutor chain...\u001b[0m\n",
      "\u001b[32;1m\u001b[1;3m\n",
      "Invoking: `GetWeather` with `London`\n",
      "\n",
      "\n",
      "\u001b[0m\u001b[36;1m\u001b[1;3mLondon weather: broken clouds, 14.75°C\u001b[0m\u001b[32;1m\u001b[1;3mThe weather in London is currently broken clouds with a temperature of 14.75°C.\u001b[0m\n",
      "\n",
      "\u001b[1m> Finished chain.\u001b[0m\n",
      "The weather in London is currently broken clouds with a temperature of 14.75°C.\n"
=======
      "responded: First, I need to get the current weather in London. For this, I can use the GetWeather function. Let's call this function.\n",
      "\n",
      "\u001b[0m\u001b[36;1m\u001b[1;3mLondon weather: broken clouds, 14.39°C\u001b[0m\u001b[32;1m\u001b[1;3mThe current weather in London is 14.39°C with broken clouds. Considering this weather, it would be appropriate to wear a light jacket or sweater to keep warm. If you plan to be outside for a long time, you might also want to carry an umbrella or wear a waterproof jacket in case of rain due to the broken clouds.\u001b[0m\n",
      "\n",
      "\u001b[1m> Finished chain.\u001b[0m\n",
      "The current weather in London is 14.39°C with broken clouds. Considering this weather, it would be appropriate to wear a light jacket or sweater to keep warm. If you plan to be outside for a long time, you might also want to carry an umbrella or wear a waterproof jacket in case of rain due to the broken clouds.\n"
>>>>>>> 6e034406f5f4389aebfc2674bf28e8c0eeaabfe7
     ]
    }
   ],
   "source": [
    "from langchain.agents import create_tool_calling_agent, AgentExecutor\n",
    "from langchain.prompts import PromptTemplate\n",
    "\n",
    "llm = ChatOpenAI(model=\"gpt-4\", temperature=0, api_key=openai_api_key)\n",
    "\n",
    "# Define a prompt template for the agent\n",
    "prompt = PromptTemplate.from_template(\n",
    "    \"\"\"\n",
    "You are a intelligent assistant that have been provided with tools. \n",
    "Use them whenever necessary. Always reason step by step and output tool calls in valid json if you chose one.\n",
    "Question: {input}\n",
    "{agent_scratchpad}\n",
    "\"\"\"\n",
    ")\n",
    "prompt_creative = PromptTemplate.from_template(\n",
    "    \"\"\"\n",
    "You are a creative and fun weather assistant. Use the GetWeather tool to answer questions about the weather in any city. And be creative on suggestions on what to do based on the weather, be creative.\n",
    "Question: {input}\n",
    "{agent_scratchpad}\n",
    "\"\"\"\n",
    ")\n",
    "\n",
    "agent = create_tool_calling_agent(\n",
    "    llm=llm,\n",
    "    tools=[weather_tool],\n",
    "    prompt=prompt\n",
    ")\n",
    "executor = AgentExecutor(agent=agent, tools=[weather_tool], verbose=True)\n",
    "\n",
<<<<<<< HEAD
    "\n",
    "response = executor.invoke({\"input\": \"What is the weather in London?\"})\n",
    "print(response[\"output\"])\n",
    "\n",
    "\n",
    "agent_creative = create_tool_calling_agent(\n",
    "    llm=llm,\n",
    "    tools=[weather_tool],\n",
    "    prompt=prompt_creative\n",
    ")\n",
    "\n",
    "\n",
    "executor_creative = AgentExecutor(agent=agent_creative, tools=[weather_tool], verbose=True)\n",
    "response_creative = executor_creative.invoke({\"input\": \"What is the weather in London?\"})\n",
    "print(response_creative[\"output\"])\n"
=======
    "response = executor.invoke({\"input\": \"What is the weather in London? What should i wear\"})\n",
    "print(response[\"output\"])"
>>>>>>> 6e034406f5f4389aebfc2674bf28e8c0eeaabfe7
   ]
  },
  {
   "cell_type": "markdown",
   "id": "7bf7aea2",
   "metadata": {},
   "source": [
    "# Your Turn: Ask About Any City!\n",
    "Try changing the city in the input to see the weather anywhere in the world. Robo6 will do his best (but he can't control the rain)."
   ]
  },
  {
   "cell_type": "code",
   "execution_count": 21,
   "id": "d505a89d",
   "metadata": {},
   "outputs": [
    {
     "name": "stdout",
     "output_type": "stream",
     "text": [
      "\n",
      "\n",
      "\u001b[1m> Entering new AgentExecutor chain...\u001b[0m\n",
      "\u001b[32;1m\u001b[1;3m\n",
      "Invoking: `GetWeather` with `Timbaktu`\n",
      "\n",
      "\n",
      "\u001b[0m\u001b[36;1m\u001b[1;3mCould not fetch weather for Timbaktu.\u001b[0m\u001b[32;1m\u001b[1;3mI'm sorry, but I couldn't fetch the weather for Timbaktu.\u001b[0m\n",
      "\n",
      "\u001b[1m> Finished chain.\u001b[0m\n",
      "I'm sorry, but I couldn't fetch the weather for Timbaktu.\n"
     ]
    }
   ],
   "source": [
    "city = input(\"Enter a city name to get the weather: \")\n",
    "response = executor.invoke({\"input\": f\"What is the weather in {city}?\"})\n",
    "print(response[\"output\"])"
   ]
  },
  {
   "cell_type": "markdown",
   "id": "9b93c2dc",
   "metadata": {},
   "source": [
    "---\n",
    "\n",
    "<table><tr>\n",
    "<td><img src=\"images/robo6.png\" alt=\"Robo6 - Weather Tool Master\" width=\"120\" /></td>\n",
    "<td style=\"vertical-align:top; padding-left:20px;\">\n",
    "<b>Robo6 says:</b><br>\n",
    "<i>\"Congratulations! You just built a weather agent. Now, if only I could predict when my battery will run out...\"</i><br>\n",
    "<i>With LangChain tools, your AI can do almost anything (except keep Robo6 dry in a thunderstorm). 🌦️🤖</i>\n",
    "</td>\n",
    "</tr></table>\n",
    "\n",
    "*Thanks for completing the LangChain Tools Weather Lab!*"
   ]
  }
 ],
 "metadata": {
  "kernelspec": {
   "display_name": "base",
   "language": "python",
   "name": "python3"
  },
  "language_info": {
   "codemirror_mode": {
    "name": "ipython",
    "version": 3
   },
   "file_extension": ".py",
   "mimetype": "text/x-python",
   "name": "python",
   "nbconvert_exporter": "python",
   "pygments_lexer": "ipython3",
   "version": "3.12.7"
  }
 },
 "nbformat": 4,
 "nbformat_minor": 5
}
