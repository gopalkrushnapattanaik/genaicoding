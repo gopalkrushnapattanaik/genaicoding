{
 "cells": [
  {
   "cell_type": "markdown",
   "id": "08a39969",
   "metadata": {},
   "source": [
    "# LangChain + OpenAI: Getting Started Lab 🤖\n",
    "\n",
    "Welcome to the LangChain + OpenAI lab! In this hands-on notebook, you'll learn how to use LangChain to interact with OpenAI's powerful language models. We'll cover everything from installing dependencies to sending your first prompt and interpreting the model's response.\n",
    "\n",
    "LangChain makes it easy to build advanced AI applications, and OpenAI's models can answer questions, generate text, and much more. By the end of this lab, you'll have a working demo and a foundation for your own AI projects.\n",
    "\n",
    "---\n",
    "*Meet Robo, your futuristic AI assistant for this lab!*\n",
    "\n",
    "<table><tr>\n",
    "<td><img src=\"images/robo1.png\" alt=\"Robo the AI Assistant\" width=\"150\" style=\"float:right; margin-left:20px;\" /></td>\n",
    "<td style=\"vertical-align:top; padding-left:20px;\">\n",
    "<i>\"I run on coffee, code, and a little bit of magic!\"</i><br>\n",
    "<i>Ask me anything... except for my WiFi password! 🤖☕</i>\n",
    "</td>\n",
    "</tr></table>\n",
    "\n"
   ]
  },
  {
   "cell_type": "markdown",
   "id": "2c3afb00",
   "metadata": {},
   "source": [
    "# Install Required Packages\n",
    "To use LangChain with OpenAI, you need to install the following Python packages:\n",
    "- `langchain-openai`: LangChain integration for OpenAI models\n",
    "- `langchain_community`: Community-contributed LangChain tools\n",
    "- `python-dotenv`: For loading environment variables from a `.env` file\n",
    "\n",
    "Run the following cell to install them."
   ]
  },
  {
   "cell_type": "code",
   "execution_count": null,
   "id": "47f5d649",
   "metadata": {},
   "outputs": [],
   "source": [
    "# Install required packages\n",
    "%pip install -r requirements.txt"
   ]
  },
  {
   "cell_type": "markdown",
   "id": "ccba0b73",
   "metadata": {},
   "source": [
    "# Import Libraries\n",
    "We need to import the following libraries:\n",
    "- `os`: For accessing environment variables\n",
    "- `load_dotenv` from `dotenv`: To load variables from a `.env` file\n",
    "- `OpenAI` from `langchain_openai`: To interact with OpenAI models using LangChain"
   ]
  },
  {
   "cell_type": "code",
   "execution_count": null,
   "id": "c9702a2a",
   "metadata": {},
   "outputs": [],
   "source": [
    "import os\n",
    "from dotenv import load_dotenv\n",
    "from langchain_openai import OpenAI"
   ]
  },
  {
   "cell_type": "markdown",
   "id": "5b6d4528",
   "metadata": {},
   "source": [
    "# Load Environment Variables\n",
    "Environment variables are used to securely store sensitive information like API keys. We use `load_dotenv()` to load these variables from a `.env` file."
   ]
  },
  {
   "cell_type": "code",
   "execution_count": null,
   "id": "929e0281",
   "metadata": {},
   "outputs": [],
   "source": [
    "# Load environment variables from .env file\n",
    "load_dotenv()"
   ]
  },
  {
   "cell_type": "markdown",
   "id": "647fd702",
   "metadata": {},
   "source": [
    "# Retrieve OpenAI API Key\n",
    "We retrieve the OpenAI API key from the environment using `os.getenv()`. This keeps your credentials secure and out of your codebase."
   ]
  },
  {
   "cell_type": "code",
   "execution_count": null,
   "id": "bd2931c6",
   "metadata": {},
   "outputs": [],
   "source": [
    "# Get OpenAI API key from environment\n",
    "openai_api_key = os.getenv(\"OPENAI_API_KEY\")"
   ]
  },
  {
   "cell_type": "markdown",
   "id": "02e1c1af",
   "metadata": {},
   "source": [
    "# Initialize the Language Model\n",
    "We create an instance of the OpenAI language model using the API key. This object allows us to interact with OpenAI's LLMs through LangChain."
   ]
  },
  {
   "cell_type": "code",
   "execution_count": null,
   "id": "ce9cb242",
   "metadata": {},
   "outputs": [],
   "source": [
    "# Initialize the LLM\n",
    "llm = OpenAI(api_key=openai_api_key)"
   ]
  },
  {
   "cell_type": "markdown",
   "id": "313f9384",
   "metadata": {},
   "source": [
    "# Create a Prompt\n",
    "A prompt is a question or instruction you send to the language model. Good prompt engineering helps get accurate and relevant responses."
   ]
  },
  {
   "cell_type": "code",
   "execution_count": null,
   "id": "46da2c58",
   "metadata": {},
   "outputs": [],
   "source": [
    "# Basic prompt\n",
    "prompt = \"What is the capital of France?\""
   ]
  },
  {
   "cell_type": "markdown",
   "id": "4a046f9b",
   "metadata": {},
   "source": [
    "# Invoke the Language Model\n",
    "We use the `invoke()` method to send the prompt to the language model and get a response. The model processes the prompt and generates an answer."
   ]
  },
  {
   "cell_type": "code",
   "execution_count": null,
   "id": "06a74d37",
   "metadata": {},
   "outputs": [],
   "source": [
    "# Invoke the LLM using the new invoke method\n",
    "response = llm.invoke(prompt)"
   ]
  },
  {
   "cell_type": "markdown",
   "id": "378032bc",
   "metadata": {},
   "source": [
    "# Display the Response\n",
    "The response from the language model is printed below. You can interpret this output as the model's answer to your prompt."
   ]
  },
  {
   "cell_type": "code",
   "execution_count": null,
   "id": "5034309f",
   "metadata": {},
   "outputs": [],
   "source": [
    "# Print the response\n",
    "print(\"Response:\", response)"
   ]
  },
  {
   "cell_type": "markdown",
   "id": "0c4d13e4",
   "metadata": {},
   "source": [
    "---\n",
    "\n",
    "<table><tr>\n",
    "<td><img src=\"images/robo2.png\" alt=\"Robo2 the AI Cheerleader\" width=\"150\" style=\"float:right; margin-left:20px;\" /></td>\n",
    "<td style=\"vertical-align:top; padding-left:20px;\">\n",
    "<i>\"Congratulations, human! You survived the lab and your code didn't explode!\"</i><br>\n",
    "<i>You're now officially smarter than my last firmware update. 🎉🤖</i>\n",
    "</td>\n",
    "</tr></table>\n",
    "\n",
    "*Thanks for completing the LangChain + OpenAI lab!*"
   ]
  },
  {
   "cell_type": "markdown",
   "id": "709f10d4",
   "metadata": {},
   "source": [
    "## 🤖 Robo Challenge: Langchain Fun Zone!\n",
    "\n",
    "![Robo 1](../images/robo1.png)\n",
    "\n",
    "Welcome to the Robo Fun Zone! Your mission, should you choose to accept it, is to show off your Langchain skills and impress Robo 1. Ready? Let’s go!\n",
    "\n",
    "### 🚀 Challenge Tasks\n",
    "\n",
    "1. **Connect to OpenAI**\n",
    "   - Use your allocated Open API Key to set up Langchain with an OpenAI LLM.\n",
    "\n",
    "2. **Prompt Party!**\n",
    "   - Run these three prompts:\n",
    "     1. \"Write a short, funny poem about robots learning Python.\"\n",
    "     2. \"Summarize this news headline: 'AI helps students learn faster.'\"\n",
    "     3. \"Generate a Python function that returns the Fibonacci sequence up to n.\"\n",
    "\n",
    "3. **Share & Shine**\n",
    "   - Print the responses for each prompt.\n",
    "   - Pick your favorite response and share it with Robo 1 (and your classmates)!\n",
    "\n",
    "### 🎲 Bonus Robo Moves\n",
    "- Try changing the temperature and see how Robo 1 reacts to wild or serious answers.\n",
    "- Use a prompt template to make your own creative challenge.\n",
    "\n",
    "---\n",
    "\n",
    "Robo 1 says: “The more creative, the better! May your code be bug-free and your prompts be legendary!”\n",
    "\n",
    "Good luck, Robo Coder! 🚦"
   ]
  }
 ],
 "metadata": {
  "kernelspec": {
   "display_name": "venv",
   "language": "python",
   "name": "python3"
  },
  "language_info": {
   "codemirror_mode": {
    "name": "ipython",
    "version": 3
   },
   "file_extension": ".py",
   "mimetype": "text/x-python",
   "name": "python",
   "nbconvert_exporter": "python",
   "pygments_lexer": "ipython3",
   "version": "3.13.7"
  }
 },
 "nbformat": 4,
 "nbformat_minor": 5
}
