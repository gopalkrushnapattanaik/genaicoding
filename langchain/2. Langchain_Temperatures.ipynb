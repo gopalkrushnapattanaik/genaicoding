{
 "cells": [
  {
   "cell_type": "markdown",
   "id": "b26824f6",
   "metadata": {},
   "source": [
    "# LangChain Temperature Lab: From Boring to Brilliant 🍦🤖\n",
    "\n",
    "Welcome to the LangChain Temperature Lab! In this notebook, you'll explore how the 'temperature' setting in language models affects creativity and determinism. We'll use two robots to help you understand:\n",
    "\n",
    "<table><tr>\n",
    "<td><img src=\"images/robo3.png\" alt=\"Robo3 - Cold and Boring\" width=\"120\" /></td>\n",
    "<td style=\"vertical-align:top; padding-left:20px;\">\n",
    "<b>Robo3 says:</b><br>\n",
    "<i>\"I always pick the same answer. My favorite ice cream flavor is... vanilla. Again.\"</i><br>\n",
    "</td>\n",
    "</tr></table>\n",
    "\n",
    "Let's see how a cold, deterministic model compares to a hot, creative one!"
   ]
  },
  {
   "cell_type": "markdown",
   "id": "6a377bbf",
   "metadata": {},
   "source": [
    "# What is Temperature?\n",
    "The 'temperature' parameter controls how random or creative a language model's responses are:\n",
    "- **T = 0.0** → Deterministic, same top choice every time (boring but stable).\n",
    "- **T ~ 0.3–0.7** → Focused, good for Q&A and coding.\n",
    "- **T ~ 0.8–1.0** → Balanced, natural conversations.\n",
    "- **T > 1.0** → Wild, unexpected, sometimes nonsense (fun for brainstorming).\n",
    "\n",
    "Let's experiment with both ends of the spectrum!"
   ]
  },
  {
   "cell_type": "markdown",
   "id": "4d60ee3c",
   "metadata": {},
   "source": [
    "# Import Libraries and Setup\n",
    "We'll use the same setup as before: loading environment variables and initializing the OpenAI LLMs with different temperatures."
   ]
  },
  {
   "cell_type": "code",
   "execution_count": null,
   "id": "36b3c8cd",
   "metadata": {},
   "outputs": [],
   "source": [
    "import os\n",
    "from dotenv import load_dotenv\n",
    "from langchain_openai import OpenAI\n",
    "\n",
    "# Load environment variables from .env file\n",
    "load_dotenv()\n",
    "\n",
    "# Get OpenAI API key from environment\n",
    "openai_api_key = os.getenv(\"OPENAI_API_KEY\")"
   ]
  },
  {
   "cell_type": "markdown",
   "id": "6691495b",
   "metadata": {},
   "source": [
    "# Initialize Two LLMs: Cold vs Hot\n",
    "We'll create two language models:\n",
    "- **Cold (T=0.0):** Always gives the same, safe answer. Robo3 will help us here!\n",
    "- **Hot (T=1.2):** Gets creative and sometimes a little wild. Robo4 is ready for action!"
   ]
  },
  {
   "cell_type": "code",
   "execution_count": null,
   "id": "7b898121",
   "metadata": {},
   "outputs": [],
   "source": [
    "# Initialize two LLMs with different temperature settings\n",
    "llm_cold = OpenAI(api_key=openai_api_key, temperature=0.0)\n",
    "llm_hot = OpenAI(api_key=openai_api_key, temperature=1.2)"
   ]
  },
  {
   "cell_type": "markdown",
   "id": "f0a8ded3",
   "metadata": {},
   "source": [
    "# Challenge Prompt\n",
    "Let's see how each model responds to a creative challenge:\n",
    "\n",
    "> Invent 5 unusual ice cream flavors inspired by space travel."
   ]
  },
  {
   "cell_type": "code",
   "execution_count": null,
   "id": "f51bad8c",
   "metadata": {},
   "outputs": [],
   "source": [
    "prompt = \"Invent 5 unusual ice cream flavors inspired by space travel.\""
   ]
  },
  {
   "cell_type": "markdown",
   "id": "c51db69d",
   "metadata": {},
   "source": [
    "# Cold Model Output (T=0.0)\n",
    "<table><tr>\n",
    "<td><img src=\"langchain/images/robo3.png\" alt=\"Robo3 - Cold and Boring\" width=\"80\" /></td>\n",
    "<td style=\"vertical-align:top; padding-left:20px;\">\n",
    "<b>Robo3 says:</b><br>\n",
    "<i>\"I am the king of vanilla. My answers are as predictable as Monday mornings!\"</i>\n",
    "</td>\n",
    "</tr></table>\n",
    "\n",
    "Let's see what happens when the model is set to be boring and safe."
   ]
  },
  {
   "cell_type": "code",
   "execution_count": null,
   "id": "c7d2d0f5",
   "metadata": {},
   "outputs": [],
   "source": [
    "print(\"Temperature 0.0 (deterministic):\")\n",
    "print(llm_cold.invoke(prompt))"
   ]
  },
  {
   "cell_type": "markdown",
   "id": "7af4b8ce",
   "metadata": {},
   "source": [
    "# Hot Model Output (T=1.2)\n",
    "<table><tr>\n",
    "<td><img src=\"langchain/images/robo4.png\" alt=\"Robo4 - Hot and Creative\" width=\"80\" /></td>\n",
    "<td style=\"vertical-align:top; padding-left:20px;\">\n",
    "<b>Robo4 says:</b><br>\n",
    "<i>\"Hold onto your taste buds! My answers are wilder than a rocket-powered banana split!\"</i>\n",
    "</td>\n",
    "</tr></table>\n",
    "\n",
    "Now let's see what happens when we turn up the creativity dial."
   ]
  },
  {
   "cell_type": "code",
   "execution_count": null,
   "id": "9e94f282",
   "metadata": {},
   "outputs": [],
   "source": [
    "print(\"\\nTemperature 1.2 (creative):\")\n",
    "print(llm_hot.invoke(prompt))"
   ]
  },
  {
   "cell_type": "markdown",
   "id": "a5763944",
   "metadata": {},
   "source": [
    "---\n",
    "\n",
    "<table><tr>\n",
    "<td><img src=\"images/robo4.png\" alt=\"Robo4 - Hot and Creative\" width=\"120\" /></td>\n",
    "<td style=\"vertical-align:top; padding-left:20px;\">\n",
    "<b>Robo4 says:</b><br>\n",
    "<i>\"You made it! Your creativity is hotter than my CPU after a brainstorming session!\"</i><br>\n",
    "<i>Now go forth and invent the next great ice cream flavor... or just make Robo3 jealous! 🍦🚀🤖</i>\n",
    "</td>\n",
    "</tr></table>\n",
    "\n",
    "*Thanks for completing the LangChain Temperature Lab!*"
   ]
  }
 ],
 "metadata": {
  "kernelspec": {
   "display_name": "venv",
   "language": "python",
   "name": "python3"
  },
  "language_info": {
   "codemirror_mode": {
    "name": "ipython",
    "version": 3
   },
   "file_extension": ".py",
   "mimetype": "text/x-python",
   "name": "python",
   "nbconvert_exporter": "python",
   "pygments_lexer": "ipython3",
   "version": "3.13.7"
  }
 },
 "nbformat": 4,
 "nbformat_minor": 5
}
