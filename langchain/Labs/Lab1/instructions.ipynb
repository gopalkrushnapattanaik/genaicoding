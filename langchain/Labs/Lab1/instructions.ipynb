{
 "cells": [
  {
   "cell_type": "markdown",
   "id": "ee47a080",
   "metadata": {},
   "source": [
    "# 🤖 Robo Ultimate Langchain Challenge!\n",
    "\n",
    "Welcome to the challenge! In this notebook, you'll combine everything you've learned: connecting Langchain to OpenAI, experimenting with temperature, and building creative prompt templates. Robo 1\n",
    "\n",
    "<table style=\"background-color:#111; border-radius:10px; padding:10px; width:100%;\">\n",
    "    <tr>\n",
    "        <td style=\"width:100px; vertical-align:middle;\">\n",
    "            <img src=\"images/robo1.png\" alt=\"Robo1\" width=\"80\" />\n",
    "        </td>\n",
    "        <td style=\"color:#fff; vertical-align:middle; padding-left:20px;\">\n",
    "            <strong>Ready to unleash your creativity?</strong><br>\n",
    "            This is your chance to impress Robo 1 and your classmates with your wildest, funniest, and most convincing AI recommendations!<br>\n",
    "            Let’s see who can make Robo 1  say “Wow!” 🚀\n",
    "        </td>\n",
    "    </tr>\n",
    "</table>\n",
    "\n",
    "---"
   ]
  },
  {
   "cell_type": "markdown",
   "id": "68b9d327",
   "metadata": {},
   "source": [
    "## 🚦 Your Mission\n",
    "\n",
    "1. **Connect Langchain to OpenAI**\n",
    "   - Use your allocated Open API Key to set up Langchain with an OpenAI LLM.\n",
    "\n",
    "2. **Set the temperature**\n",
    "\n",
    "\n",
    "3. **Build and Use a Prompt Template**\n",
    "   - Create a prompt template that takes customer name and his/her interest \n",
    "   - Your LLM should create a convincing recommendation for your customer\n",
    "   - Print the results.\n",
    "\n",
    "4. **Share Your Funniest or Most Impressive Output!**\n",
    "   - Pick your favorite result and share it with Robo 1 (and your classmates).\n",
    "\n",
    "---"
   ]
  },
  {
   "cell_type": "markdown",
   "id": "27b51ccf",
   "metadata": {},
   "source": [
    "## 🛠️ Setup: Import Libraries and API Key\n",
    "\n",
    "Run the cell below to import libraries and load your Open API Key from your .env file."
   ]
  },
  {
   "cell_type": "code",
   "execution_count": null,
   "id": "6123ebd3",
   "metadata": {},
   "outputs": [],
   "source": []
  },
  {
   "cell_type": "markdown",
   "id": "8b1e95e4",
   "metadata": {},
   "source": [
    "## ❄️🤖 Step 1: Set the temperature\n",
    "Create LLM with hot temperature so that it can be more creative"
   ]
  },
  {
   "cell_type": "code",
   "execution_count": null,
   "id": "a26966a7",
   "metadata": {},
   "outputs": [],
   "source": []
  },
  {
   "cell_type": "markdown",
   "id": "9a269a82",
   "metadata": {},
   "source": [
    "## 🛒 Step2 : Prompt Template  \n",
    "Robo Product Recommendation for Walmart!\n",
    "\n",
    "**Task:**\n",
    "- Create a prompt template like: \"You are a Walmart shopping assistant robot. Recommend a product to a customer named {customer_name} who is interested in {interest}. Explain why this product is a great choice.\"\n",
    "- Input a customer name and an interest\n",
    "\n",
    "**Example:**\n",
    "- Customer Name: Alex\n",
    "- Interest: home fitness"
   ]
  },
  {
   "cell_type": "markdown",
   "id": "96e74ce8",
   "metadata": {},
   "source": [
    "---\n",
    "\n",
    "<table>\n",
    "    <tr>\n",
    "        <td><img src=\"images/robo1.png\" alt=\"Robo1\" width=\"100\" style=\"vertical-align:middle;\" /></td>\n",
    "        <td style=\"vertical-align:middle;\"><strong>🎉 Robo 1 says:</strong> 'Show me your coolest results!'</td>\n",
    "    </tr>\n",
    "</table>\n",
    "\n",
    "Good luck, Robo Coder! 🤖🚦"
   ]
  }
 ],
 "metadata": {
  "language_info": {
   "name": "python"
  }
 },
 "nbformat": 4,
 "nbformat_minor": 5
}
