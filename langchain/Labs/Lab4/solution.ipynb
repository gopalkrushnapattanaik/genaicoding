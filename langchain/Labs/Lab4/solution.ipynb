{
 "cells": [
  {
   "cell_type": "markdown",
   "id": "c4b3f3ad",
   "metadata": {},
   "source": [
    "# Adding Agents with RAGS"
   ]
  },
  {
   "cell_type": "markdown",
   "id": "66649b1b",
   "metadata": {},
   "source": [
    "## Introduction\n",
    "\n",
    "In this lab, you'll harness the power of Retrieval-Augmented Generation (RAG) and combine it with your custom Google_map tool from Lab2. Your challenge is to integrate these two components: use the Google_map tool to answer location-based queries, and leverage RAG (from Lab3) to provide context-rich answers from your company policy document. By merging tool use and RAG, you'll build an advanced agent capable of both retrieving document knowledge and interacting with external tools for dynamic, real-world tasks."
   ]
  },
  {
   "cell_type": "markdown",
   "id": "9028027d",
   "metadata": {},
   "source": [
    "<table><tr>\n",
    "<td><img src=\"../../images/robo1.png\" alt=\"Robo1 - RAG Expert\" width=\"120\" /></td>\n",
    "<td style=\"vertical-align:top; padding-left:20px;\">\n",
    "<b>Robo1 says:</b><br>\n",
    "<i>Can you do WFH today? Ask me.. I know the answer</i>\n",
    "</td>\n",
    "</tr></table>\n"
   ]
  },
  {
   "cell_type": "markdown",
   "id": "bb2fea37",
   "metadata": {},
   "source": [
    "## Challenge: Create a RAG from Company Policy Document\n",
    "\n",
    "Your task is to build a Retrieval-Augmented Generation (RAG) system using the company policy document. "
   ]
  },
  {
   "cell_type": "markdown",
   "id": "c8e674ea",
   "metadata": {},
   "source": [
    "# Import Libraries and Setup\n",
    "Let's import the necessary libraries and set up our environment for RAG-powered resume Q&A."
   ]
  },
  {
   "cell_type": "code",
   "execution_count": null,
   "id": "ffec84a2",
   "metadata": {},
   "outputs": [],
   "source": [
    "import googlemaps\n",
    "from langchain.tools import tool\n",
    "from langchain.agents import create_tool_calling_agent, AgentExecutor\n",
    "import logging\n",
    "import os\n",
    "from dotenv import load_dotenv\n",
    "from langchain_openai import ChatOpenAI\n",
    "from langchain_community.document_loaders import PyPDFLoader\n",
    "from langchain_community.vectorstores import FAISS\n",
    "from langchain_openai import OpenAIEmbeddings\n",
    "from langchain.chains import RetrievalQA\n",
    "from langchain.prompts import PromptTemplate\n",
    "from langchain.text_splitter import RecursiveCharacterTextSplitter\n",
    "from langchain.memory import ConversationBufferMemory\n",
    "from langchain.agents import initialize_agent, AgentType\n"
   ]
  },
  {
   "cell_type": "markdown",
   "id": "9bbcb568",
   "metadata": {},
   "source": [
    "### Load OpenAPI Key from .env File\n",
    "\n",
    "To securely access the OpenAPI key, we will load it from a `.env` file using environment variable management tools. This ensures sensitive credentials are not exposed in the notebook."
   ]
  },
  {
   "cell_type": "code",
   "execution_count": null,
   "id": "f26c3343",
   "metadata": {},
   "outputs": [],
   "source": [
    "# Load environment variables from .env file\n",
    "load_dotenv()\n",
    "\n",
    "# Get OpenAI API key from environment\n",
    "openai_api_key = os.getenv(\"OPENAI_API_KEY\")"
   ]
  },
  {
   "cell_type": "markdown",
   "id": "0465912c",
   "metadata": {},
   "source": [
    "### Create a Retreiver\n",
    "- load your company policy PDF \n",
    "- split it into smaller chunks (embeddings)\n",
    "- create a vector store from embeddings\n",
    "- create a retriever"
   ]
  },
  {
   "cell_type": "code",
   "execution_count": null,
   "id": "5f6e1dcb",
   "metadata": {},
   "outputs": [],
   "source": [
    "pdf_path = \"company_policy.pdf\"\n",
    "loader = PyPDFLoader(pdf_path)\n",
    "docs = loader.load()\n",
    "\n",
    "# Split resume into smaller chunks\n",
    "text_splitter = RecursiveCharacterTextSplitter(chunk_size=500, chunk_overlap=50)\n",
    "split_docs = text_splitter.split_documents(docs)\n",
    "\n",
    "embeddings = OpenAIEmbeddings()\n",
    "vectorstore = FAISS.from_documents(split_docs, embeddings)\n",
    "retriever = vectorstore.as_retriever(search_kwargs={\"k\": 8})\n"
   ]
  },
  {
   "cell_type": "markdown",
   "id": "9bb64586",
   "metadata": {},
   "source": [
    "### Create a tool using Google Map API"
   ]
  },
  {
   "cell_type": "code",
   "execution_count": null,
   "id": "3842586c",
   "metadata": {},
   "outputs": [],
   "source": [
    "google_map_key= os.getenv(\"GOOGLE_MAPS_API_KEY\")\n",
    "gmaps = googlemaps.Client(key=google_map_key)\n",
    "\n",
    "@tool\n",
    "def get_travel_time(origin: str, destination: str, mode: str = \"driving\") -> str:\n",
    "    \"\"\"Get travel time between two places using Google Maps (modes: driving, walking, bicycling, transit).\"\"\"\n",
    "    directions = gmaps.directions(\n",
    "        origin=origin,\n",
    "        destination=destination,\n",
    "        mode=mode,\n",
    "        departure_time=\"now\"  # Use live traffic data\n",
    "    )\n",
    "    travel_time = directions[0][\"legs\"][0].get(\"duration_in_traffic\", directions[0][\"legs\"][0][\"duration\"])\n",
    "    travel_time_text = travel_time[\"text\"]\n",
    "    return f\"Estimated travel time: {travel_time_text}\""
   ]
  },
  {
   "cell_type": "markdown",
   "id": "aaf76b26",
   "metadata": {},
   "source": [
    "### Intialize LLM with OpenAPI Key\n",
    "- Intialize LLM\n",
    "- Create RetreievalQA"
   ]
  },
  {
   "cell_type": "code",
   "execution_count": null,
   "id": "4e15393e",
   "metadata": {},
   "outputs": [],
   "source": [
    "from langchain.tools import Tool\n",
    "\n",
    "llm = ChatOpenAI(model=\"gpt-4\", temperature=0, api_key=openai_api_key)\n",
    "qa_chain = RetrievalQA.from_chain_type(llm=llm, chain_type=\"stuff\", retriever=retriever)\n",
    "\n",
    "@tool\n",
    "def retriever_search(query: str) -> str:\n",
    "    \"\"\"Get company policy information based on the query.\"\"\"\n",
    "    return qa_chain.run(query)"
   ]
  },
  {
   "cell_type": "markdown",
   "id": "9e5fd1d2",
   "metadata": {},
   "source": [
    "### Create Appropriate Prompt Template"
   ]
  },
  {
   "cell_type": "code",
   "execution_count": null,
   "id": "2f8f4b57",
   "metadata": {},
   "outputs": [],
   "source": [
    "prompt_template = \"\"\"\n",
    "You are a Commuter Assistant Agent for TechNova Solutions Pvt. Ltd.\n",
    "\n",
    "Your responsibilities:\n",
    "1. If the user asks directly about company policy (e.g., \"What is my WFH policy?\", \"What is the leave policy?\"):\n",
    "   - Use `retriever_search` to fetch the exact company policy text.\n",
    "   - Return the answer using the retrieved content.\n",
    "\n",
    "2. If the user asks a conditional question (e.g., \"Can I WFH if I am travelling from Noida to Gurgaon?\"):\n",
    "   - First, use `retriever_search` to fetch the relevant company policy.\n",
    "   - Then, use `get_travel_time` to calculate commute time.\n",
    "   - APPLY the rule from the retrieved policy to the travel time result.\n",
    "   - Give a clear YES/NO decision with reasoning.\n",
    "\n",
    "3. If the user only asks about travel or traffic (without policy), use `get_travel_time`.\n",
    "\n",
    "4. If the answer cannot be found in the retrieved company document, reply only:\n",
    "   \"I don't know based on the company document.\"\n",
    "\n",
    "Always be clear, concise, and professional.\n",
    "\n",
    "Question: {input}\n",
    "{agent_scratchpad}\n",
    "Answer as if you are the Assistant Agent:\n",
    "\"\"\""
   ]
  },
  {
   "cell_type": "markdown",
   "id": "7628a10b",
   "metadata": {},
   "source": [
    "### Create Agent\n",
    "- Create Agent\n",
    "- Create Agent Executor"
   ]
  },
  {
   "cell_type": "code",
   "execution_count": 86,
   "id": "fd4e5e20",
   "metadata": {},
   "outputs": [],
   "source": [
    "from langchain.agents import AgentExecutor, create_openai_functions_agent\n",
    "\n",
    "agent = create_openai_functions_agent(\n",
    "    llm=llm,\n",
    "    tools=[get_travel_time,retriever_search],\n",
    "    prompt=PromptTemplate.from_template(prompt_template),\n",
    ")\n",
    "\n",
    "executor = AgentExecutor(agent=agent, tools=[get_travel_time,retriever_search], \n",
    "                          handle_parsing_errors=True,\n",
    "                          return_intermediate_steps=True,\n",
    "                          verbose=True)"
   ]
  },
  {
   "cell_type": "markdown",
   "id": "e28970ca",
   "metadata": {},
   "source": [
    "### Chat with Your Company Policy Agent\n",
    "Ask questions about your company policy."
   ]
  },
  {
   "cell_type": "code",
   "execution_count": 87,
   "id": "a634ef23",
   "metadata": {},
   "outputs": [
    {
     "name": "stdout",
     "output_type": "stream",
     "text": [
      "Company Policy RAG Chatbot (Async Mode). Type your question (or 'exit' to quit):\n",
      "[DEBUG] Agent received question: i am travelling from noida to gurgaon. Can i do WFH?\n",
      "\n",
      "\n",
      "\u001b[1m> Entering new AgentExecutor chain...\u001b[0m\n",
      "\u001b[32;1m\u001b[1;3m\n",
      "Invoking: `retriever_search` with `{'query': 'work from home policy'}`\n",
      "responded: As an Assistant Agent, I would like to inform you that the ability to work from home depends on the company's policy regarding remote work. Let me check the company's policy on this matter.\n",
      "\n",
      "\u001b[0m\u001b[33;1m\u001b[1;3mThe Work-from-Home (WFH) policy at TechNova Solutions Pvt. Ltd. allows employees to WFH up to 2 days per week with manager approval. WFH may also be mandated during severe weather, transport strikes, or when the Air Quality Index (AQI) is greater than 200. If travel time is more than 1 hour, employees may be allowed to do WFH. Remote attendance must be logged through the HR portal. Employees must use VPN when accessing internal systems remotely.\u001b[0m\u001b[32;1m\u001b[1;3mBased on TechNova Solutions Pvt. Ltd.'s Work-from-Home policy, you are allowed to work from home up to 2 days per week with your manager's approval. If your travel time from Noida to Gurgaon is more than 1 hour, you may be allowed to work from home. Let me check the travel time for you.\u001b[0m\n",
      "\n",
      "\u001b[1m> Finished chain.\u001b[0m\n",
      "Bot: Based on TechNova Solutions Pvt. Ltd.'s Work-from-Home policy, you are allowed to work from home up to 2 days per week with your manager's approval. If your travel time from Noida to Gurgaon is more than 1 hour, you may be allowed to work from home. Let me check the travel time for you.\n",
      "Goodbye!\n"
     ]
    }
   ],
   "source": [
    "import asyncio\n",
    "\n",
    "async def async_chat_loop(executor):\n",
    "    print(\"Company Policy RAG Chatbot (Async Mode). Type your question (or 'exit' to quit):\")\n",
    "    while True:\n",
    "        question = input(\"You: \")\n",
    "        if question.lower() == \"exit\":\n",
    "            print(\"Goodbye!\")\n",
    "            break\n",
    "        print(f\"[DEBUG] Agent received question: {question}\")\n",
    "        response = await asyncio.to_thread(executor.invoke, {\"input\": question})\n",
    "        print(\"Bot:\", response.get(\"output\", response))\n",
    "\n",
    "# To run the chat loop, uncomment the line below:\n",
    "await async_chat_loop(executor)"
   ]
  },
  {
   "cell_type": "markdown",
   "id": "34aab7bf",
   "metadata": {},
   "source": [
    "---\n",
    "\n",
    "<table><tr>\n",
    "<td><img src=\"../../images/robo1.png\" alt=\"Robo1 - RAG Expert\" width=\"120\" /></td>\n",
    "<td style=\"vertical-align:top; padding-left:20px;\">\n",
    "<b>Robo1 says:</b><br>\n",
    "<i>\"Congratulations! You just built a RAG-powered chatbot.\"</i><br>\n",
    "<i>With RAG, your AI can find answers in documents faster than ever. 📄🤖</i>\n",
    "</td>\n",
    "</tr></table>\n",
    "\n",
    "*Thanks for completing the LangChain RAG Lab!*"
   ]
  }
 ],
 "metadata": {
  "kernelspec": {
   "display_name": "venv",
   "language": "python",
   "name": "python3"
  },
  "language_info": {
   "codemirror_mode": {
    "name": "ipython",
    "version": 3
   },
   "file_extension": ".py",
   "mimetype": "text/x-python",
   "name": "python",
   "nbconvert_exporter": "python",
   "pygments_lexer": "ipython3",
   "version": "3.13.7"
  }
 },
 "nbformat": 4,
 "nbformat_minor": 5
}
