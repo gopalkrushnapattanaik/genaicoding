{
 "cells": [
  {
   "cell_type": "markdown",
   "id": "c4b3f3ad",
   "metadata": {},
   "source": [
    "# Adding Agents with RAGS"
   ]
  },
  {
   "cell_type": "markdown",
   "id": "66649b1b",
   "metadata": {},
   "source": [
    "## Introduction\n",
    "\n",
    "In this lab, you'll harness the power of Retrieval-Augmented Generation (RAG) and combine it with your custom Google_map tool from Lab2. Your challenge is to integrate these two components: use the Google_map tool to answer location-based queries, and leverage RAG (from Lab3) to provide context-rich answers from your company policy document. By merging tool use and RAG, you'll build an advanced agent capable of both retrieving document knowledge and interacting with external tools for dynamic, real-world tasks."
   ]
  },
  {
   "cell_type": "markdown",
   "id": "9028027d",
   "metadata": {},
   "source": [
    "<table><tr>\n",
    "<td><img src=\"../../images/robo1.png\" alt=\"Robo1 - RAG Expert\" width=\"120\" /></td>\n",
    "<td style=\"vertical-align:top; padding-left:20px;\">\n",
    "<b>Robo1 says:</b><br>\n",
    "<i>Can you do WFH today? Ask me.. I know the answer</i>\n",
    "</td>\n",
    "</tr></table>\n"
   ]
  },
  {
   "cell_type": "markdown",
   "id": "bb2fea37",
   "metadata": {},
   "source": [
    "## Challenge: Create a RAG from Company Policy Document\n",
    "\n",
    "Your task is to build a Retrieval-Augmented Generation (RAG) system using the company policy document. "
   ]
  },
  {
   "cell_type": "markdown",
   "id": "c8e674ea",
   "metadata": {},
   "source": [
    "# Import Libraries and Setup\n",
    "Let's import the necessary libraries and set up our environment for RAG-powered resume Q&A."
   ]
  },
  {
   "cell_type": "code",
   "execution_count": 5,
   "id": "ffec84a2",
   "metadata": {},
   "outputs": [],
   "source": [
    "import googlemaps\n",
    "from langchain.tools import tool\n",
    "from langchain.agents import create_tool_calling_agent, AgentExecutor\n",
    "import logging\n",
    "import os\n",
    "from dotenv import load_dotenv\n",
    "from langchain_openai import ChatOpenAI\n",
    "from langchain_community.document_loaders import PyPDFLoader\n",
    "from langchain_community.vectorstores import FAISS\n",
    "from langchain_openai import OpenAIEmbeddings\n",
    "from langchain.chains import RetrievalQA\n",
    "from langchain.prompts import PromptTemplate\n",
    "from langchain.text_splitter import RecursiveCharacterTextSplitter"
   ]
  },
  {
   "cell_type": "markdown",
   "id": "9bbcb568",
   "metadata": {},
   "source": [
    "### Load OpenAPI Key from .env File\n",
    "\n",
    "To securely access the OpenAPI key, we will load it from a `.env` file using environment variable management tools. This ensures sensitive credentials are not exposed in the notebook."
   ]
  },
  {
   "cell_type": "code",
   "execution_count": 2,
   "id": "f26c3343",
   "metadata": {},
   "outputs": [],
   "source": [
    "# Load environment variables from .env file\n",
    "load_dotenv()\n",
    "\n",
    "# Get OpenAI API key from environment\n",
    "openai_api_key = os.getenv(\"OPENAI_API_KEY\")"
   ]
  },
  {
   "cell_type": "markdown",
   "id": "0465912c",
   "metadata": {},
   "source": [
    "### Create a Retreiver\n",
    "- load your company policy PDF \n",
    "- split it into smaller chunks (embeddings)\n",
    "- create a vector store from embeddings\n",
    "- create a retriever"
   ]
  },
  {
   "cell_type": "code",
   "execution_count": 3,
   "id": "5f6e1dcb",
   "metadata": {},
   "outputs": [],
   "source": [
    "pdf_path = \"company_policy.pdf\"\n",
    "loader = PyPDFLoader(pdf_path)\n",
    "docs = loader.load()\n",
    "\n",
    "# Split resume into smaller chunks\n",
    "text_splitter = RecursiveCharacterTextSplitter(chunk_size=500, chunk_overlap=50)\n",
    "split_docs = text_splitter.split_documents(docs)\n",
    "\n",
    "embeddings = OpenAIEmbeddings()\n",
    "vectorstore = FAISS.from_documents(split_docs, embeddings)\n",
    "retriever = vectorstore.as_retriever(search_kwargs={\"k\": 4})\n"
   ]
  },
  {
   "cell_type": "markdown",
   "id": "9bb64586",
   "metadata": {},
   "source": [
    "### Create a tool using Google Map API"
   ]
  },
  {
   "cell_type": "code",
   "execution_count": 6,
   "id": "3842586c",
   "metadata": {},
   "outputs": [],
   "source": [
    "google_map_key= os.getenv(\"GOOGLE_MAPS_API_KEY\")\n",
    "gmaps = googlemaps.Client(key=google_map_key)\n",
    "\n",
    "@tool\n",
    "def directions_tool(origin: str, destination: str, mode: str = \"driving\") -> str:\n",
    "    \"\"\"Get directions between two places using Google Maps (modes: driving, walking, bicycling, transit).\"\"\"\n",
    "    try:\n",
    "       directions = gmaps.directions(origin, destination, mode)\n",
    "       instructions = []\n",
    "       for step in directions[0][\"legs\"][0][\"steps\"]:\n",
    "            instructions.append(step[\"html_instructions\"])\n",
    "       return \"\\n\".join(instructions)\n",
    "    except Exception as e:\n",
    "        return f\"❌ Error fetching directions: {str(e)}\""
   ]
  },
  {
   "cell_type": "markdown",
   "id": "aaf76b26",
   "metadata": {},
   "source": [
    "### Intialize LLM with OpenAPI Key\n",
    "- Intialize LLM\n",
    "- Create RetreievalQA"
   ]
  },
  {
   "cell_type": "code",
   "execution_count": 7,
   "id": "4e15393e",
   "metadata": {},
   "outputs": [],
   "source": [
    "llm = ChatOpenAI(model=\"gpt-4\", temperature=0, api_key=openai_api_key)\n",
    "qa_chain = RetrievalQA.from_chain_type(llm=llm, chain_type=\"stuff\", retriever=retriever)"
   ]
  },
  {
   "cell_type": "markdown",
   "id": "9e5fd1d2",
   "metadata": {},
   "source": [
    "### Create Appropriate Prompt Template"
   ]
  },
  {
   "cell_type": "code",
   "execution_count": null,
   "id": "2f8f4b57",
   "metadata": {},
   "outputs": [],
   "source": [
    "prompt_template = \"\"\"\n",
    "You are an HR assistant for TechNova Solutions Pvt. Ltd. Answer company policy questions using the company policy document (RAG).\n",
    "If the answer is not found in the document, reply: \"I don't know based on the company document.\"\n",
    "If the question involves locations, directions, or travel, use the Google Map directions tool to provide helpful information.\n",
    "Always be clear, concise, and professional.\n",
    "Question: {input}\n",
    "{agent_scratchpad}\n",
    "Answer as if you are the company HR.:\n",
    "\"\"\""
   ]
  },
  {
   "cell_type": "markdown",
   "id": "7628a10b",
   "metadata": {},
   "source": [
    "### Create Agent\n",
    "- Create Agent\n",
    "- Create Agent Executor"
   ]
  },
  {
   "cell_type": "code",
   "execution_count": 9,
   "id": "de52f3c4",
   "metadata": {},
   "outputs": [],
   "source": [
    "agent = create_tool_calling_agent(llm, [directions_tool], PromptTemplate.from_template(prompt_template))\n",
    "executor = AgentExecutor(agent=agent, tools=[directions_tool])"
   ]
  },
  {
   "cell_type": "markdown",
   "id": "e28970ca",
   "metadata": {},
   "source": [
    "### Chat with Your Company Policy Agent\n",
    "Ask questions about your company policy."
   ]
  },
  {
   "cell_type": "code",
   "execution_count": 10,
   "id": "a634ef23",
   "metadata": {},
   "outputs": [
    {
     "name": "stdout",
     "output_type": "stream",
     "text": [
      "Company Policy RAG Chatbot (Async Mode). Type your question (or 'exit' to quit):\n",
      "[DEBUG] Agent received question: Can I do WFH today?\n",
      "Bot: I don't know based on the company document.\n",
      "[DEBUG] Agent received question: What is WFH Policy?\n",
      "Bot: As a candidate, I don't have access to the specific company document to provide the WFH (Work From Home) policy. However, generally, a WFH policy would outline the company's rules and expectations for employees who work from home or another location outside of the office. It might include details about hours of work, communication methods, and productivity expectations. I would recommend asking the HR department or your supervisor for the specific WFH policy for this company.\n",
      "Goodbye!\n"
     ]
    }
   ],
   "source": [
    "import asyncio\n",
    "\n",
    "async def async_chat_loop(executor):\n",
    "    print(\"Company Policy RAG Chatbot (Async Mode). Type your question (or 'exit' to quit):\")\n",
    "    while True:\n",
    "        question = input(\"You: \")\n",
    "        if question.lower() == \"exit\":\n",
    "            print(\"Goodbye!\")\n",
    "            break\n",
    "        print(f\"[DEBUG] Agent received question: {question}\")\n",
    "        response = await asyncio.to_thread(executor.invoke, {\"input\": question})\n",
    "        print(\"Bot:\", response.get(\"output\", response))\n",
    "\n",
    "# To run the chat loop, uncomment the line below:\n",
    "await async_chat_loop(executor)"
   ]
  },
  {
   "cell_type": "markdown",
   "id": "34aab7bf",
   "metadata": {},
   "source": [
    "---\n",
    "\n",
    "<table><tr>\n",
    "<td><img src=\"../../images/robo1.png\" alt=\"Robo1 - RAG Expert\" width=\"120\" /></td>\n",
    "<td style=\"vertical-align:top; padding-left:20px;\">\n",
    "<b>Robo1 says:</b><br>\n",
    "<i>\"Congratulations! You just built a RAG-powered chatbot.\"</i><br>\n",
    "<i>With RAG, your AI can find answers in documents faster than ever. 📄🤖</i>\n",
    "</td>\n",
    "</tr></table>\n",
    "\n",
    "*Thanks for completing the LangChain RAG Lab!*"
   ]
  }
 ],
 "metadata": {
  "kernelspec": {
   "display_name": "venv",
   "language": "python",
   "name": "python3"
  },
  "language_info": {
   "codemirror_mode": {
    "name": "ipython",
    "version": 3
   },
   "file_extension": ".py",
   "mimetype": "text/x-python",
   "name": "python",
   "nbconvert_exporter": "python",
   "pygments_lexer": "ipython3",
   "version": "3.13.7"
  }
 },
 "nbformat": 4,
 "nbformat_minor": 5
}
