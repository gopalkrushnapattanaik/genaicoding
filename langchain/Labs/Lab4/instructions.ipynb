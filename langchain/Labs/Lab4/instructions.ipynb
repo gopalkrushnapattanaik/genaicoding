{
 "cells": [
  {
   "cell_type": "markdown",
   "id": "c4b3f3ad",
   "metadata": {},
   "source": [
    "# Adding Agents with RAGS"
   ]
  },
  {
   "cell_type": "markdown",
   "id": "66649b1b",
   "metadata": {},
   "source": [
    "## Introduction\n",
    "\n",
    "In this lab, you'll harness the power of Retrieval-Augmented Generation (RAG) and combine it with your custom Google_map tool from Lab2. Your challenge is to integrate these two components: use the Google_map tool to answer location-based queries, and leverage RAG (from Lab3) to provide context-rich answers from your company policy document. By merging tool use and RAG, you'll build an advanced agent capable of both retrieving document knowledge and interacting with external tools for dynamic, real-world tasks."
   ]
  },
  {
   "cell_type": "markdown",
   "id": "9028027d",
   "metadata": {},
   "source": [
    "<table><tr>\n",
    "<td><img src=\"../../images/robo1.png\" alt=\"Robo1 - RAG Expert\" width=\"120\" /></td>\n",
    "<td style=\"vertical-align:top; padding-left:20px;\">\n",
    "<b>Robo1 says:</b><br>\n",
    "<i>Can you do WFH today? Ask me.. I know the answer</i>\n",
    "</td>\n",
    "</tr></table>\n"
   ]
  },
  {
   "cell_type": "markdown",
   "id": "bb2fea37",
   "metadata": {},
   "source": [
    "## Challenge: Create a RAG from Company Policy Document\n",
    "\n",
    "Your task is to build a Retrieval-Augmented Generation (RAG) system using the company policy document. "
   ]
  },
  {
   "cell_type": "markdown",
   "id": "c8e674ea",
   "metadata": {},
   "source": [
    "# Import Libraries and Setup\n",
    "Let's import the necessary libraries and set up our environment for RAG-powered resume Q&A."
   ]
  },
  {
   "cell_type": "code",
   "execution_count": null,
   "id": "ffec84a2",
   "metadata": {
    "vscode": {
     "languageId": "plaintext"
    }
   },
   "outputs": [],
   "source": []
  },
  {
   "cell_type": "markdown",
   "id": "9bbcb568",
   "metadata": {},
   "source": [
    "### Load OpenAPI Key from .env File\n",
    "\n",
    "To securely access the OpenAPI key, we will load it from a `.env` file using environment variable management tools. This ensures sensitive credentials are not exposed in the notebook."
   ]
  },
  {
   "cell_type": "code",
   "execution_count": null,
   "id": "f26c3343",
   "metadata": {
    "vscode": {
     "languageId": "plaintext"
    }
   },
   "outputs": [],
   "source": []
  },
  {
   "cell_type": "markdown",
   "id": "0465912c",
   "metadata": {},
   "source": [
    "### Create a Retreiver\n",
    "- load your company policy PDF \n",
    "- split it into smaller chunks (embeddings)\n",
    "- create a vector store from embeddings\n",
    "- create a retriever"
   ]
  },
  {
   "cell_type": "code",
   "execution_count": null,
   "id": "5f6e1dcb",
   "metadata": {
    "vscode": {
     "languageId": "plaintext"
    }
   },
   "outputs": [],
   "source": []
  },
  {
   "cell_type": "markdown",
   "id": "7628a10b",
   "metadata": {},
   "source": [
    "### Build the RAG Chatbot Chain\n",
    "- Intialize your LLM\n",
    "- Create a prompt template \n",
    "- Create RetrievalQA\n"
   ]
  },
  {
   "cell_type": "code",
   "execution_count": null,
   "id": "1edbaa32",
   "metadata": {
    "vscode": {
     "languageId": "plaintext"
    }
   },
   "outputs": [],
   "source": []
  },
  {
   "cell_type": "markdown",
   "id": "e28970ca",
   "metadata": {},
   "source": [
    "### Chat with Your Company Policy Agent\n",
    "Ask questions about your company policy."
   ]
  },
  {
   "cell_type": "code",
   "execution_count": null,
   "id": "a634ef23",
   "metadata": {
    "vscode": {
     "languageId": "plaintext"
    }
   },
   "outputs": [],
   "source": []
  },
  {
   "cell_type": "markdown",
   "id": "34aab7bf",
   "metadata": {},
   "source": [
    "---\n",
    "\n",
    "<table><tr>\n",
    "<td><img src=\"../../images/robo1.png\" alt=\"Robo1 - RAG Expert\" width=\"120\" /></td>\n",
    "<td style=\"vertical-align:top; padding-left:20px;\">\n",
    "<b>Robo1 says:</b><br>\n",
    "<i>\"Congratulations! You just built a RAG-powered chatbot.\"</i><br>\n",
    "<i>With RAG, your AI can find answers in documents faster than ever. 📄🤖</i>\n",
    "</td>\n",
    "</tr></table>\n",
    "\n",
    "*Thanks for completing the LangChain RAG Lab!*"
   ]
  }
 ],
 "metadata": {
  "language_info": {
   "name": "python"
  }
 },
 "nbformat": 4,
 "nbformat_minor": 5
}
