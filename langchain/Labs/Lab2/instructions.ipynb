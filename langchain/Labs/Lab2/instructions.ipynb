{
 "cells": [
  {
   "cell_type": "markdown",
   "id": "9c4f459c",
   "metadata": {},
   "source": [
    "# Getting started with Agents & Tools"
   ]
  },
  {
   "cell_type": "markdown",
   "id": "8dec6caa",
   "metadata": {},
   "source": [
    "## Introduction\n",
    "\n",
    "In this lab, you will learn how to use agents and tools in LangChain to build intelligent workflows. Agents allow you to delegate tasks to language models, while tools extend their capabilities to interact with external systems, APIs, and data sources."
   ]
  },
  {
   "cell_type": "markdown",
   "id": "53d7cc3b",
   "metadata": {},
   "source": [
    "<div style=\"display: flex; align-items: center; background: #111; color: #fff; border-radius: 12px; border: 2px solid #333; padding: 20px; margin-top: 16px; gap: 24px;\">\n",
    "  <img src=\"../../images/robo1.png\" alt=\"Robo1\" style=\"width: 120px; height: auto; border-radius: 8px;\">\n",
    "  <div>\n",
    "    <strong>Robo1 says:</strong><br>\n",
    "    \"Agents and tools are like my superpowers! With LangChain, I can fetch data, solve problems, and even find the best pizza place in town. Ready to have some fun with me?\"\n",
    "  </div>\n",
    "</div>"
   ]
  },
  {
   "cell_type": "markdown",
   "id": "495bde18",
   "metadata": {},
   "source": [
    "<span style=\"font-size:1em; font-weight:bold; color: orange;\">Challenge:</span> Build a LangChain Agent Tool for Google Maps Directions"
   ]
  },
  {
   "cell_type": "markdown",
   "id": "0490e8a3",
   "metadata": {},
   "source": [
    "🎯 Learning Goals\n",
    "\n",
    "- Learn how to wrap an external API into a LangChain @tool.\n",
    "- Use Google Maps Directions API to fetch routes between two places.\n",
    "- Integrate the tool into a LangChain Agent"
   ]
  },
  {
   "cell_type": "markdown",
   "id": "aaa64c50",
   "metadata": {},
   "source": [
    "<span style=\"color: #1976d2;\"><strong>Step 1: Get Google Maps Directions API Access</strong></span>\n",
    "\n",
    "- Go to Google Cloud Console.\n",
    "- Create a new project.\n",
    "- Enable Maps JavaScript API + Directions API.\n",
    "- Create an API Key (restrict it to Directions API for safety)."
   ]
  },
  {
   "cell_type": "markdown",
   "id": "6c7e81bd",
   "metadata": {},
   "source": [
    "<span style=\"color: #1976d2;\">⚡Step 2: Python Code (Google Maps Directions) - Install Dependencies </span>"
   ]
  },
  {
   "cell_type": "code",
   "execution_count": null,
   "id": "718e4c9e",
   "metadata": {},
   "outputs": [],
   "source": [
    "%pip install googlemaps"
   ]
  },
  {
   "cell_type": "markdown",
   "id": "080c26e2",
   "metadata": {},
   "source": [
    "Below is the reference python code ⬇️"
   ]
  },
  {
   "cell_type": "markdown",
   "id": "f7f1ce7d",
   "metadata": {},
   "source": [
    "\n",
    "\n",
    "<span style=\"color: #1976d2;\">⚡Step 3: Complete the below code </span>"
   ]
  },
  {
   "cell_type": "code",
   "execution_count": null,
   "id": "9773ab7e",
   "metadata": {},
   "outputs": [],
   "source": [
    "import googlemaps\n",
    "import os\n",
    "\n",
    "try:\n",
    "    directions = gmaps.directions(origin, destination, mode)\n",
    "    instructions = []\n",
    "    for step in directions[0][\"legs\"][0][\"steps\"]:\n",
    "        instructions.append(step[\"html_instructions\"])\n",
    "    result = \"\\n\".join(instructions)\n",
    "except Exception as e:\n",
    "    result = f\"❌ Error fetching directions: {str(e)}\""
   ]
  },
  {
   "cell_type": "code",
   "execution_count": null,
   "id": "fdde511d",
   "metadata": {},
   "outputs": [],
   "source": [
    "import os\n",
    "import re\n",
    "import googlemaps\n",
    "from langchain.tools import tool\n",
    "from langchain.agents import initialize_agent, AgentType\n",
    "from langchain_openai import ChatOpenAI\n",
    "from dotenv import load_dotenv\n",
    "from langchain_openai import OpenAI\n",
    "from langchain.prompts import PromptTemplate\n",
    "\n",
    "\n",
    "load_dotenv()\n",
    "\n",
    "\n",
    "openai_api_key = os.getenv(\"OPENAI_API_KEY\")\n",
    "google_map_key= os.getenv(\"GOOGLE_MAPS_API_KEY\")\n",
    "\n",
    "gmaps = googlemaps.Client(key=google_map_key)\n",
    "\n",
    "\n",
    "@tool\n",
    "def directions_tool(origin: str, destination: str, mode: str = \"driving\") -> str:\n",
    "    #🤖 TODO: Add python code here\n",
    "\n",
    "\n",
    "# 🤖 TODO: Intialize llm with model and Open API Key\n",
    "\n",
    "\n",
    "\n",
    "template = \"\"\"You are a helpful navigation assistant.\n",
    "A user will give you an origin, destination, and travel mode.\n",
    "Use the directions_tool to fetch step-by-step directions.\n",
    "\n",
    "Origin: {origin}\n",
    "Destination: {destination}\n",
    "Mode: {mode}\n",
    "\n",
    "Now provide the directions clearly:\n",
    "\"\"\"\n",
    "\n",
    "#🤖 TODO: Create Prompt Template\n",
    "\n",
    "tools = [directions_tool]\n",
    "\n",
    "#🤖 TODO: Intialize agent with tools, llm, AgentType.OPENAI_MULTI_FUNCTIONS\n",
    "\n",
    "\n",
    "origin = input(\"Enter starting location: \")\n",
    "destination = input(\"Enter destination: \")\n",
    "mode = input(\"Enter travel mode (driving/walking/bicycling/transit): \")\n",
    "\n",
    "\n",
    "query = prompt.format(origin=origin, destination=destination, mode=mode)\n",
    "\n",
    "#🤖 TODO: Run the Agent\n"
   ]
  },
  {
   "cell_type": "markdown",
   "id": "f3b39e72",
   "metadata": {},
   "source": [
    "<div style=\"display: flex; align-items: center; background: #111; color: #fff; border-radius: 12px; border: 2px solid #333; padding: 20px; margin-top: 16px; gap: 24px;\">\n",
    "    <img src=\"../../images/robo1.png\" alt=\"Robo1\" style=\"width: 120px; height: auto; border-radius: 8px;\">\n",
    "    <div>\n",
    "        <strong style=\"color: #1976d2;\">Robo1 cheers you on!</strong><br>\n",
    "        <span style=\"font-size:1.1em; color: #fff;\">\n",
    "            \"All the best, students! 🚀<br>\n",
    "            Remember, learning is fun and every challenge is a new adventure.<br>\n",
    "            Let's build, explore, and have an amazing time together!\"\n",
    "        </span>\n",
    "    </div>\n",
    "</div>"
   ]
  }
 ],
 "metadata": {
  "kernelspec": {
   "display_name": "venv",
   "language": "python",
   "name": "python3"
  },
  "language_info": {
   "codemirror_mode": {
    "name": "ipython",
    "version": 3
   },
   "file_extension": ".py",
   "mimetype": "text/x-python",
   "name": "python",
   "nbconvert_exporter": "python",
   "pygments_lexer": "ipython3",
   "version": "3.13.7"
  }
 },
 "nbformat": 4,
 "nbformat_minor": 5
}
