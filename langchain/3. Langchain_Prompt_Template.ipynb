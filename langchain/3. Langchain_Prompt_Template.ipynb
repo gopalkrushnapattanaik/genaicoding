{
 "cells": [
  {
   "cell_type": "markdown",
   "id": "42983154",
   "metadata": {},
   "source": [
    "# LangChain Prompt Template Lab: Translate Like a Pro! 🌍🤖\n",
    "\n",
    "Welcome to the LangChain Prompt Template Lab! In this notebook, you'll learn how to use prompt templates to make your language model smarter and more flexible. We'll use Robo3 to show what happens when you don't use templates (boring!), and Robo5 to show how templates make everything more fun and powerful.\n",
    "\n",
    "<table><tr>\n",
    "<td><img src=\"langchain/images/robo3.png\" alt=\"Robo3 - Cold and Boring\" width=\"120\" /></td>\n",
    "<td style=\"vertical-align:top; padding-left:20px;\">\n",
    "<b>Robo3 says:</b><br>\n",
    "<i>\"I only translate to Pig Latin. Oink!\"</i><br>\n",
    "</td>\n",
    "</tr></table>\n",
    "\n",
    "Let's see how prompt templates can spice things up!"
   ]
  },
  {
   "cell_type": "markdown",
   "id": "4a358868",
   "metadata": {},
   "source": [
    "# What Are Prompt Templates?\n",
    "Prompt templates let you create flexible instructions for your language model. Instead of hardcoding everything, you can swap out variables and get creative!\n",
    "\n",
    "<table><tr>\n",
    "<td><img src=\"langchain/images/robo5.png\" alt=\"Robo5 - Template Master\" width=\"120\" /></td>\n",
    "<td style=\"vertical-align:top; padding-left:20px;\">\n",
    "<b>Robo5 says:</b><br>\n",
    "<i>\"Give me a template and I'll translate anything—even Martian poetry!\"</i><br>\n",
    "</td>\n",
    "</tr></table>"
   ]
  },
  {
   "cell_type": "markdown",
   "id": "71183cd7",
   "metadata": {},
   "source": [
    "# Import Libraries and Setup\n",
    "Let's import the necessary libraries and set up our environment for translation magic."
   ]
  },
  {
   "cell_type": "code",
   "execution_count": null,
   "id": "219382a3",
   "metadata": {},
   "outputs": [],
   "source": [
    "from langchain.prompts import PromptTemplate\n",
    "from langchain_openai import OpenAI\n",
    "from dotenv import load_dotenv\n",
    "import os\n",
    "\n",
    "# Load environment variables from .env file\n",
    "load_dotenv()\n",
    "\n",
    "# Get OpenAI API key from environment\n",
    "openai_api_key = os.getenv(\"OPENAI_API_KEY\")"
   ]
  },
  {
   "cell_type": "markdown",
   "id": "34ca91db",
   "metadata": {},
   "source": [
    "# Create a Prompt Template\n",
    "Let's create a template that can translate any text to any language. Robo5 is ready to show off!"
   ]
  },
  {
   "cell_type": "code",
   "execution_count": null,
   "id": "fff2123e",
   "metadata": {},
   "outputs": [],
   "source": [
    "# Define a prompt template with variables\n",
    "template = \"Translate the following English {text} to {language}\"\n",
    "prompt = PromptTemplate(\n",
    "    input_variables=[\"language\", \"text\"],\n",
    "    template=template,\n",
    ")"
   ]
  },
  {
   "cell_type": "markdown",
   "id": "6c691aeb",
   "metadata": {},
   "source": [
    "# Fill the Template: Your Turn!\n",
    "Enter the language and text you want to translate. Robo5 will handle the rest (unless you ask for Klingon, then he might need a coffee break)."
   ]
  },
  {
   "cell_type": "code",
   "execution_count": null,
   "id": "5313623b",
   "metadata": {},
   "outputs": [],
   "source": [
    "# Take input from user\n",
    "language = input(\"Enter the language: \")\n",
    "text = input(\"Enter the text: \")\n",
    "\n",
    "# Fill the prompt\n",
    "filled_prompt = prompt.format(language=language, text=text)\n",
    "print(\"Filled prompt:\", filled_prompt)"
   ]
  },
  {
   "cell_type": "markdown",
   "id": "b593d987",
   "metadata": {},
   "source": [
    "# Translate with OpenAI\n",
    "Now let's send the filled prompt to OpenAI and see the translation magic. Robo5 is ready to impress!"
   ]
  },
  {
   "cell_type": "code",
   "execution_count": null,
   "id": "a197a443",
   "metadata": {},
   "outputs": [],
   "source": [
    "# Initialize the LLM\n",
    "llm = OpenAI(api_key=openai_api_key)\n",
    "\n",
    "# Invoke the LLM with the filled prompt\n",
    "response = llm.invoke(filled_prompt)\n",
    "print(response)"
   ]
  },
  {
   "cell_type": "markdown",
   "id": "5045b4aa",
   "metadata": {},
   "source": [
    "---\n",
    "\n",
    "<table><tr>\n",
    "<td><img src=\"langchain/images/robo5.png\" alt=\"Robo5 - Template Master\" width=\"120\" /></td>\n",
    "<td style=\"vertical-align:top; padding-left:20px;\">\n",
    "<b>Robo5 says:</b><br>\n",
    "<i>\"Congratulations! You just made me multilingual. Next stop: translating cat memes!\"</i><br>\n",
    "<i>Remember, with prompt templates, the only limit is your imagination (and maybe your internet speed). 🚀🌍</i>\n",
    "</td>\n",
    "</tr></table>\n",
    "\n",
    "*Thanks for completing the LangChain Prompt Template Lab!*"
   ]
  }
 ],
 "metadata": {
  "kernelspec": {
   "display_name": "venv",
   "language": "python",
   "name": "python3"
  },
  "language_info": {
   "codemirror_mode": {
    "name": "ipython",
    "version": 3
   },
   "file_extension": ".py",
   "mimetype": "text/x-python",
   "name": "python",
   "nbconvert_exporter": "python",
   "pygments_lexer": "ipython3",
   "version": "3.13.7"
  }
 },
 "nbformat": 4,
 "nbformat_minor": 5
}
