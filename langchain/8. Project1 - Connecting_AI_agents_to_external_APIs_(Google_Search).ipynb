{
  "cells": [
    {
      "cell_type": "markdown",
      "id": "c84b5f1b",
      "metadata": {
        "id": "c84b5f1b"
      },
      "source": [
        "---\n",
        "\n",
        "## **Problem Statement**\n",
        "\n",
        "In modern AI-driven applications, it is often necessary to enhance an agent's reasoning by giving it access to real-world information (from the internet). Large Language Models like GPT-4 alone cannot access real-time data. To build a truly intelligent assistant, we need to **augment the model with tools** that bridge these gaps.\n",
        "\n",
        "---\n",
        "\n",
        "## **Objectives**\n",
        "\n",
        "The goal of this application is to:\n",
        "\n",
        "1. Build a tool-using AI agent that can:\n",
        "   - Search the web for current news or facts using **Google Search via SerpAPI**\n",
        "2. Integrate the above tool with **GPT-4 Turbo** using **LangChain’s latest `create_tool_calling_agent` API**\n",
        "3. Maintain clean, modular, and fully compatible code using the **latest LangChain best practices**\n",
        "4. Run example queries to demonstrate how the agent utilizes the tool based on the query intent\n",
        "\n",
        "---\n",
        "\n",
        "## **Outcomes**\n",
        "\n",
        "- A functional, intelligent assistant capable of web search.\n",
        "- Tool usage is decided dynamically by the agent depending on the user’s query.\n",
        "- Fully integrated with `.env` file for secure API key storage.\n",
        "- The agent is extensible for further tools (e.g., weather, finance APIs, etc.).\n",
        "\n",
        "---"
      ]
    },
    {
      "cell_type": "code",
      "execution_count": null,
      "id": "b7ab37e5",
      "metadata": {
        "id": "b7ab37e5"
      },
      "outputs": [],
      "source": [
        "%pip install openai langchain langchain-community python-dotenv -q\n",
        "# langchain-community – Community-maintained third-party tool integrations for LangChain. Community-maintained integrations like SerpAPI, Wolfram Alpha"
      ]
    },
    {
      "cell_type": "code",
      "execution_count": null,
      "id": "482a85a3",
      "metadata": {
        "id": "482a85a3"
      },
      "outputs": [],
      "source": [
        "%pip install google-search-results -q"
      ]
    },
    {
      "cell_type": "code",
      "execution_count": null,
      "id": "37d4f9bb",
      "metadata": {
        "id": "37d4f9bb"
      },
      "outputs": [],
      "source": [
        "import os\n",
        "from dotenv import load_dotenv\n",
        "\n",
        "# LangChain core components\n",
        "from langchain_openai import ChatOpenAI\n",
        "from langchain.agents import AgentExecutor, create_tool_calling_agent\n",
        "from langchain_core.prompts import ChatPromptTemplate\n",
        "from langchain.tools import Tool\n",
        "\n",
        "# External API utilities from LangChain Community\n",
        "from langchain_community.utilities.serpapi import SerpAPIWrapper\n",
        "# SerpAPIWrapper\tAccess Google Search via SerpAPI"
      ]
    },
    {
      "cell_type": "code",
      "execution_count": null,
      "id": "fc1dc30d",
      "metadata": {
        "id": "fc1dc30d"
      },
      "outputs": [],
      "source": [
        "# Step 1: Load API keys from .env file\n",
        "load_dotenv()\n",
        "OPENAI_API_KEY = os.getenv(\"OPENAI_API_KEY\")\n",
        "SERPAPI_API_KEY = os.getenv(\"SERPAPI_API_KEY\")"
      ]
    },
    {
      "cell_type": "code",
      "execution_count": null,
      "id": "e3b53393",
      "metadata": {
        "id": "e3b53393"
      },
      "outputs": [],
      "source": [
        "# Step 2: Initialize the LLM (GPT-4 Turbo) using OpenAI key\n",
        "llm = ChatOpenAI(\n",
        "    model=\"gpt-4-turbo\",\n",
        "    temperature=0.3,\n",
        "    api_key=OPENAI_API_KEY\n",
        ")"
      ]
    },
    {
      "cell_type": "code",
      "execution_count": null,
      "id": "0b544dfb",
      "metadata": {
        "id": "0b544dfb"
      },
      "outputs": [],
      "source": [
        "# Step 3: Set up SerpAPI (Google Search wrapper)\n",
        "search_tool = SerpAPIWrapper(serpapi_api_key=SERPAPI_API_KEY)"
      ]
    },
    {
      "cell_type": "code",
      "execution_count": null,
      "id": "34779cb0",
      "metadata": {
        "id": "34779cb0"
      },
      "outputs": [],
      "source": [
        "# Step 4: Wrap SerpAPI as LangChain Tool\n",
        "tools = [\n",
        "    Tool.from_function(\n",
        "        func=search_tool.run,\n",
        "        name=\"google_search\",\n",
        "        description=\"Use this to search the internet for current events, recent information, or news.\"\n",
        "    )\n",
        "    # Only SerpAPI tool is registered\n",
        " ]"
      ]
    },
    {
      "cell_type": "code",
      "execution_count": null,
      "id": "8cdaa63b",
      "metadata": {
        "id": "8cdaa63b"
      },
      "outputs": [],
      "source": [
        "# Step 5: Define prompt template (agent_scratchpad is required)\n",
        "prompt = ChatPromptTemplate.from_messages([\n",
        "    (\"system\", \"You are a smart assistant that uses Google Search.\"),\n",
        "    (\"user\", \"{input}\"),\n",
        "    (\"placeholder\", \"{agent_scratchpad}\")  # Required for tool-using agents\n",
        "])"
      ]
    },
    {
      "cell_type": "code",
      "execution_count": null,
      "id": "3c12ea3a",
      "metadata": {
        "id": "3c12ea3a"
      },
      "outputs": [],
      "source": [
        "# Step 7: Create the tool-calling agent\n",
        "agent = create_tool_calling_agent(\n",
        "    llm=llm,\n",
        "    tools=tools,\n",
        "    prompt=prompt\n",
        ")"
      ]
    },
    {
      "cell_type": "code",
      "execution_count": null,
      "id": "874a5145",
      "metadata": {
        "id": "874a5145"
      },
      "outputs": [],
      "source": [
        "# Step 8: Wrap agent in an executor\n",
        "agent_executor = AgentExecutor(\n",
        "    agent=agent,\n",
        "    tools=tools,\n",
        "    verbose=True\n",
        ")"
      ]
    },
    {
      "cell_type": "code",
      "execution_count": null,
      "id": "8ee7d556",
      "metadata": {
        "id": "8ee7d556"
      },
      "outputs": [],
      "source": [
        "# Step 9: Run a query through the agent\n",
        "# def run_agent(query: str):\n",
        "#     print(f\"\\nUser: {query}\")\n",
        "#     result = agent_executor.invoke({\"input\": query})\n",
        "#     print(\"Agent:\", result[\"output\"])\n",
        "\n",
        "import asyncio\n",
        "async def run_agent_async(query: str):\n",
        "    print(f\"\\nUser: {query}\")\n",
        "    result = await agent_executor.ainvoke({\"input\": query})\n",
        "    print(\"Agent:\", result[\"output\"])"
      ]
    },
    {
      "cell_type": "code",
      "execution_count": null,
      "id": "d3e2db74",
      "metadata": {
        "id": "d3e2db74",
        "outputId": "6eaa72f5-7b91-405e-c266-7f771f05381f"
      },
      "outputs": [],
      "source": [
        "await run_agent_async(\"What is the square root of 4563?\")"
      ]
    },
    {
      "cell_type": "code",
      "execution_count": null,
      "id": "30421e24",
      "metadata": {
        "id": "30421e24",
        "outputId": "8c7ca700-d923-478b-e927-65ef8fb0fcf7"
      },
      "outputs": [],
      "source": [
        "await run_agent_async(\"Who is the CEO of Twitter as of today?\")"
      ]
    },
    {
      "cell_type": "code",
      "execution_count": null,
      "id": "d28229a1",
      "metadata": {
        "id": "d28229a1",
        "outputId": "acee6797-60bc-4051-c1da-74e6f12e3a38"
      },
      "outputs": [],
      "source": [
        "await run_agent_async(\"What is Operation Sindoor?\")"
      ]
    },
    {
      "cell_type": "code",
      "execution_count": null,
      "id": "f71a9e06",
      "metadata": {
        "id": "f71a9e06",
        "outputId": "a92bc2f1-e311-4c71-83b9-27fcb3a47a87"
      },
      "outputs": [],
      "source": [
        "await run_agent_async(\"what is the per litre petrol price today in Mumbai. Divide the per litre price by 85\")"
      ]
    },
    {
      "cell_type": "code",
      "execution_count": null,
      "id": "e6d69a83",
      "metadata": {
        "id": "e6d69a83",
        "outputId": "e299c6db-eee7-4b5f-f0a1-e1c8fedb0024"
      },
      "outputs": [],
      "source": [
        "await run_agent_async(\"what is the per litre petrol price today in Mumbai. Divide the per litre price by 85. What do you think about the future of petrol cars?\")"
      ]
    },
    {
      "cell_type": "markdown",
      "id": "49145cd5",
      "metadata": {
        "id": "49145cd5"
      },
      "source": [
        "### Explain the steps to get: SerpAPI Key\n",
        "\n",
        "Here's a **simple step-by-step guide** to get your **SerpAPI Key** (used for Google Search via API):\n",
        "\n",
        "---\n",
        "\n",
        "## What is SerpAPI?\n",
        "\n",
        "**SerpAPI** is a service that lets you access **Google Search results programmatically** using an API. It's useful for real-time search tasks in AI agents.\n",
        "\n",
        "---\n",
        "\n",
        "## Steps to Get Your SerpAPI Key\n",
        "\n",
        "### **1. Go to SerpAPI's Website**\n",
        "- Open: [https://serpapi.com](https://serpapi.com)\n",
        "\n",
        "---\n",
        "\n",
        "### **2. Sign Up (Free Plan Available)**\n",
        "- Click on **\"Sign Up\"** (top right).\n",
        "- You can sign up using:\n",
        "  - Google\n",
        "  - GitHub\n",
        "  - Email and password\n",
        "\n",
        "---\n",
        "\n",
        "### **3. Verify Your Email**\n",
        "- After signup, check your inbox and click the **verification link** from SerpAPI.\n",
        "\n",
        "---\n",
        "\n",
        "### **4. Go to Your Account Dashboard**\n",
        "- After logging in, you will be redirected to:\n",
        "  [https://serpapi.com/dashboard](https://serpapi.com/dashboard)\n",
        "\n",
        "---\n",
        "\n",
        "### **5. Copy Your API Key**\n",
        "- On the dashboard homepage, you’ll see:\n",
        "  - **Your Account Email**\n",
        "  - **Your Private API Key** (looks like `xxxxxxxxxxxxxxxxxxxxxxxxxxxxxxxx`)\n",
        "- Click **\"Copy\"** beside the key.\n",
        "\n",
        "---\n",
        "\n",
        "### **6. Paste the Key in `.env` File**\n",
        "In your project folder, open or create a `.env` file and paste:\n",
        "\n",
        "```env\n",
        "SERPAPI_API_KEY=your-copied-key-here\n",
        "```\n",
        "\n",
        "Example:\n",
        "```env\n",
        "SERPAPI_API_KEY=86e5c04ab2341dcb01de4fc34b33f2e7b640f9d7b00f7f45e\n",
        "```\n",
        "\n",
        "---\n",
        "\n",
        "## Free Tier Info\n",
        "\n",
        "SerpAPI gives you:\n",
        "- **100 free searches/month** (for non-commercial use)\n",
        "- More if you upgrade your plan\n",
        "\n",
        "---\n",
        "\n"
      ]
    },
    {
      "cell_type": "markdown",
      "id": "d235b2e6",
      "metadata": {
        "id": "d235b2e6"
      },
      "source": []
    },
    {
      "cell_type": "markdown",
      "id": "9ee38288",
      "metadata": {
        "id": "9ee38288"
      },
      "source": []
    },
    {
      "cell_type": "markdown",
      "id": "672209b5",
      "metadata": {
        "id": "672209b5"
      },
      "source": [
        "# Happy Learning"
      ]
    }
  ],
  "metadata": {
    "colab": {
      "provenance": []
    },
    "kernelspec": {
      "display_name": "venv",
      "language": "python",
      "name": "python3"
    },
    "language_info": {
      "codemirror_mode": {
        "name": "ipython",
        "version": 3
      },
      "file_extension": ".py",
      "mimetype": "text/x-python",
      "name": "python",
      "nbconvert_exporter": "python",
      "pygments_lexer": "ipython3",
      "version": "3.13.7"
    }
  },
  "nbformat": 4,
  "nbformat_minor": 5
}
