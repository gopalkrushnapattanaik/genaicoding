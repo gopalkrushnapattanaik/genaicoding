{
 "cells": [
  {
   "cell_type": "markdown",
   "id": "47b28576",
   "metadata": {},
   "source": [
    "# Autonomous Resume RAG Agent Lab: Robo7 Goes Pro! 🤖📄\n",
    "\n",
    "Welcome to the Autonomous Resume RAG Agent Lab! In this notebook, you'll build a super-smart agent that answers interview questions using your resume—and even sends you an SMS if it can't find the answer. Robo7 is here to help, and he's ready to show off his multitasking skills!\n",
    "\n",
    "<table><tr>\n",
    "<td><img src=\"langchain/images/robo7.png\" alt=\"Robo7 - Autonomous RAG Agent\" width=\"120\" /></td>\n",
    "<td style=\"vertical-align:top; padding-left:20px;\">\n",
    "<b>Robo7 says:</b><br>\n",
    "<i>\"I can search, answer, and even text you if I get stuck. But I still can't make coffee!\"</i><br>\n",
    "</td>\n",
    "</tr></table>\n",
    "\n",
    "Let's get started and see how autonomous agents make RAG even cooler!"
   ]
  },
  {
   "cell_type": "markdown",
   "id": "41d60047",
   "metadata": {},
   "source": [
    "## Lab Objectives\n",
    "\n",
    "- Load your resume PDF and chunk it for retrieval.\n",
    "- Build custom tools: one for searching your resume, one for sending SMS.\n",
    "- Create an autonomous agent using LangChain's latest tool-calling syntax.\n",
    "- Ask the agent interview questions and see how it responds!\n",
    "- If the answer isn't found, Robo7 will send you an SMS with the question.\n",
    "\n",
    "---\n",
    "\n",
    "### Step-by-Step Overview\n",
    "1. **Setup & Imports**: Load all required libraries and environment variables.\n",
    "2. **Resume Loader & Vector Store**: Ingest and chunk your resume, then create a FAISS vector store for retrieval.\n",
    "3. **Custom Tools**: Implement `resume_search_tool` and `send_sms_tool`.\n",
    "4. **Agent Creation**: Build an autonomous agent with LangChain's latest syntax.\n",
    "5. **Demo Q&A**: Ask a question and watch Robo7 answer (or send an SMS if he can't!).\n",
    "\n",
    "Ready? Let's code!"
   ]
  },
  {
   "cell_type": "code",
   "execution_count": 3,
   "id": "fcb776d7",
   "metadata": {},
   "outputs": [
    {
     "name": "stdout",
     "output_type": "stream",
     "text": [
      "OpenAI Key Loaded: True\n",
      "Twilio Config Loaded: True\n",
      "Resume Path: my_resume.pdf\n"
     ]
    }
   ],
   "source": [
    "# Step 1: Setup & Imports\n",
    "import os\n",
    "from langchain_openai import ChatOpenAI, OpenAIEmbeddings\n",
    "from langchain_community.document_loaders import PyPDFLoader\n",
    "from langchain_community.vectorstores import FAISS\n",
    "from langchain.text_splitter import RecursiveCharacterTextSplitter\n",
    "from langchain.tools import Tool\n",
    "from langchain.agents import create_tool_calling_agent, AgentExecutor\n",
    "from langchain.prompts import PromptTemplate\n",
    "from twilio.rest import Client\n",
    "\n",
    "# Load environment variables\n",
    "OPENAI_API_KEY = os.getenv(\"OPENAI_API_KEY\")\n",
    "TWILIO_ACCOUNT_SID = os.getenv(\"TWILIO_ACCOUNT_SID\")\n",
    "TWILIO_AUTH_TOKEN = os.getenv(\"TWILIO_AUTH_TOKEN\")\n",
    "TWILIO_FROM_NUMBER = os.getenv(\"TWILIO_FROM_NUMBER\")\n",
    "TWILIO_TO_NUMBER = os.getenv(\"TWILIO_TO_NUMBER\")\n",
    "RESUME_PATH = os.getenv(\"RESUME_PATH\", \"my_resume.pdf\")  # Update if needed\n",
    "\n",
    "# Check config\n",
    "print(\"OpenAI Key Loaded:\", bool(OPENAI_API_KEY))\n",
    "print(\"Twilio Config Loaded:\", bool(TWILIO_ACCOUNT_SID and TWILIO_AUTH_TOKEN))\n",
    "print(\"Resume Path:\", RESUME_PATH)"
   ]
  },
  {
   "cell_type": "code",
   "execution_count": 9,
   "id": "23f9f974",
   "metadata": {},
   "outputs": [
    {
     "name": "stdout",
     "output_type": "stream",
     "text": [
      "Loaded 128 resume chunks into FAISS vector store.\n"
     ]
    }
   ],
   "source": [
    "# Step 2: Load & Chunk Resume, Create Vector Store\n",
    "loader = PyPDFLoader(RESUME_PATH)\n",
    "documents = loader.load()\n",
    "\n",
    "# Chunk resume into smaller pieces for retrieval\n",
    "text_splitter = RecursiveCharacterTextSplitter(chunk_size=100,chunk_overlap=50)\n",
    "docs = text_splitter.split_documents(documents)\n",
    "\n",
    "# Create FAISS vector store\n",
    "embeddings = OpenAIEmbeddings(openai_api_key=OPENAI_API_KEY)\n",
    "vectorstore = FAISS.from_documents(docs, embeddings)\n",
    "\n",
    "print(f\"Loaded {len(docs)} resume chunks into FAISS vector store.\")"
   ]
  },
  {
   "cell_type": "code",
   "execution_count": null,
   "id": "a06f91d7",
   "metadata": {},
   "outputs": [],
   "source": [
    "# Step 3: Define Custom Tools\n",
    "\n",
    "def resume_search_tool(query: str) -> str:\n",
    "    \"\"\"Searches the resume for relevant information.\"\"\"\n",
    "    results = vectorstore.similarity_search(query, k=3)\n",
    "    if results:\n",
    "        return \"\\n---\\n\".join([doc.page_content for doc in results])\n",
    "    return \"No relevant information found in the resume.\"\n",
    "\n",
    "\n",
    "def send_email_tool(message: str) -> str:\n",
    "    \"\"\"Sends an email using Gmail SMTP.\"\"\"\n",
    "    import smtplib\n",
    "    from email.mime.text import MIMEText\n",
    "    from email.mime.multipart import MIMEMultipart\n",
    "\n",
    "    GMAIL_USER = os.getenv(\"GMAIL_USER\")\n",
    "    GMAIL_PASS = os.getenv(\"GMAIL_PASS\")\n",
    "    TO_EMAIL = os.getenv(\"TO_EMAIL\")\n",
    "    if not all([GMAIL_USER, GMAIL_PASS, TO_EMAIL]):\n",
    "        return \"Missing Gmail credentials or recipient email in environment variables.\"\n",
    "\n",
    "    try:\n",
    "        msg = MIMEMultipart()\n",
    "        msg['From'] = GMAIL_USER\n",
    "        msg['To'] = TO_EMAIL\n",
    "        msg['Subject'] = \"Robo7: Interview Question Not Found\"\n",
    "        msg.attach(MIMEText(message, 'plain'))\n",
    "\n",
    "        server = smtplib.SMTP('smtp.gmail.com', 587)\n",
    "        server.starttls()\n",
    "        server.login(GMAIL_USER, GMAIL_PASS)\n",
    "        server.sendmail(GMAIL_USER, TO_EMAIL, msg.as_string())\n",
    "        server.quit()\n",
    "        return f\"Email sent to {TO_EMAIL}!\"\n",
    "    except Exception as e:\n",
    "        return f\"Failed to send email: {e}\"\n",
    "\n",
    "# Create LangChain tools\n",
    "resume_tool = Tool(\n",
    "    name=\"ResumeSearch\",\n",
    "    description=\"Searches the resume for answers to interview questions.\",\n",
    "    func=resume_search_tool\n",
    ")\n",
    "email_tool = Tool(\n",
    "    name=\"SendEmail\",\n",
    "    description=\"Sends an email if the answer is not found in the resume.\",\n",
    "    func=send_email_tool\n",
    ")\n",
    "tools = [resume_tool, email_tool]"
   ]
  },
  {
   "cell_type": "code",
   "execution_count": 11,
   "id": "db1ed1df",
   "metadata": {},
   "outputs": [
    {
     "name": "stdout",
     "output_type": "stream",
     "text": [
      "Robo7 agent is ready!\n"
     ]
    }
   ],
   "source": [
    "# Step 4: Create Autonomous Agent\n",
    "\n",
    "prompt = PromptTemplate.from_template(\n",
    "    \"\"\"\n",
    "    You are Robo7, an autonomous interview assistant. Use the ResumeSearch tool to answer questions from the resume. If you can't find the answer, use the SendSMS tool to notify the user with the question.\n",
    "    \n",
    "    Question: {input}\n",
    "    {agent_scratchpad}\n",
    "    \"\"\"\n",
    ")\n",
    "\n",
    "llm = ChatOpenAI(openai_api_key=OPENAI_API_KEY, model=\"gpt-3.5-turbo\")\n",
    "\n",
    "agent = create_tool_calling_agent(\n",
    "    llm=llm,\n",
    "    tools=tools,\n",
    "    prompt=prompt\n",
    ")\n",
    "\n",
    "agent_executor = AgentExecutor(agent=agent, tools=tools)\n",
    "\n",
    "print(\"Robo7 agent is ready!\")"
   ]
  },
  {
   "cell_type": "markdown",
   "id": "b2078765",
   "metadata": {},
   "source": [
    "## Demo Time: Ask Robo7 an Interview Question!\n",
    "\n",
    "Type your interview question below and run the cell. Robo7 will search your resume and answer. If he can't find the answer, he'll send you an email with the question!\n",
    "\n",
    "> **Example questions:**\n",
    "> - What programming languages do I know?\n",
    "> - What is my experience with project management?\n",
    "> - What certifications do I have?\n",
    "\n",
    "---\n",
    "\n",
    "Ready to see Robo7 in action? 🚀"
   ]
  },
  {
   "cell_type": "code",
   "execution_count": null,
   "id": "d349e93d",
   "metadata": {},
   "outputs": [],
   "source": [
    "# Step 5: Ask Robo7 a Question!\n",
    "\n",
    "# Type your interview question here:\n",
    "question = \"Do you have a patent?\"\n",
    "\n",
    "response = agent_executor.invoke({\"input\": question})\n",
    "print(\"Robo7's answer:\")\n",
    "print(response[\"output\"])\n",
    "\n",
    "# If Robo7 can't find the answer, he'll send you an email with the question!"
   ]
  },
  {
   "cell_type": "markdown",
   "id": "3dc52504",
   "metadata": {},
   "source": [
    "---\n",
    "\n",
    "# 🎉 Lab Complete! Robo7 is now your autonomous interview assistant! 🤖\n",
    "\n",
    "<img src=\"langchain/images/robo7.png\" alt=\"Robo7 - Autonomous RAG Agent\" width=\"100\" />\n",
    "\n",
    "**Robo7 says:**\n",
    "> \"Great job! Now I can answer your questions and text you if I get stuck. If only I could negotiate your salary too!\"\n",
    "\n",
    "---\n",
    "\n",
    "Feel free to experiment with more questions, tweak the agent, or add new tools. The future of autonomous agents is in your hands!"
   ]
  }
 ],
 "metadata": {
  "kernelspec": {
   "display_name": "Python 3",
   "language": "python",
   "name": "python3"
  },
  "language_info": {
   "codemirror_mode": {
    "name": "ipython",
    "version": 3
   },
   "file_extension": ".py",
   "mimetype": "text/x-python",
   "name": "python",
   "nbconvert_exporter": "python",
   "pygments_lexer": "ipython3",
   "version": "3.12.6"
  }
 },
 "nbformat": 4,
 "nbformat_minor": 5
}
