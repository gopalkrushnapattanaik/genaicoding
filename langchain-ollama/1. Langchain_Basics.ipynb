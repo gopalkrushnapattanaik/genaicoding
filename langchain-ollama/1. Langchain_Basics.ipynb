{
 "cells": [
  {
   "cell_type": "markdown",
   "id": "40f458bc",
   "metadata": {},
   "source": [
    "# LangChain + Ollama: Getting Started Lab 🤖\n",
    "\n",
    "Welcome to the LangChain + Ollama lab! In this hands-on notebook, you'll learn how to use LangChain to interact with locally running Ollama models. We'll cover everything from installing dependencies to sending your first prompt and interpreting the model's response.\n",
    "\n",
    "LangChain makes it easy to build advanced AI applications, and Ollama's models can answer questions, generate text, and much more. By the end of this lab, you'll have a working demo and a foundation for your own AI projects.\n",
    "\n",
    "---\n",
    "*Meet Robo, your futuristic AI assistant for this lab!*\n",
    "\n",
    "<table><tr>\n",
    "<td><img src=\"images/robo1.png\" alt=\"Robo the AI Assistant\" width=\"150\" style=\"float:right; margin-left:20px;\" /></td>\n",
    "<td style=\"vertical-align:top; padding-left:20px;\">\n",
    "<i>\"I run on coffee, code, and a little bit of magic!\"</i><br>\n",
    "<i>Ask me anything... except for my WiFi password! 🤖☕</i>\n",
    "</td>\n",
    "</tr></table>\n"
   ]
  },
  {
   "cell_type": "markdown",
   "id": "b76bc6d2",
   "metadata": {},
   "source": [
    "# Install Required Packages\n",
    "To use LangChain with Ollama, you need to install the following Python packages:\n",
    "- `ollama`: Python client for locally running Ollama models\n",
    "- `langchain_community`: Community-contributed LangChain tools\n",
    "- `python-dotenv`: For loading environment variables from a `.env` file\n",
    "\n",
    "Run the following cell to install them."
   ]
  },
  {
   "cell_type": "code",
   "execution_count": null,
   "id": "b7393590",
   "metadata": {},
   "outputs": [],
   "source": [
    "%pip install -r requirements.txt"
   ]
  },
  {
   "cell_type": "markdown",
   "id": "b7d7b7ab",
   "metadata": {},
   "source": [
    "# Import Libraries\n",
    "We need to import the following libraries:\n",
    "- `os`: For accessing environment variables\n",
    "- `load_dotenv` from `dotenv`: To load variables from a `.env` file\n",
    "- `ollama`: To interact with Ollama models"
   ]
  },
  {
   "cell_type": "code",
   "execution_count": 4,
   "id": "a243360c",
   "metadata": {},
   "outputs": [],
   "source": [
    "import os\n",
    "from dotenv import load_dotenv\n",
    "import ollama"
   ]
  },
  {
   "cell_type": "markdown",
   "id": "c98967d4",
   "metadata": {},
   "source": [
    "# Load Environment Variables\n",
    "Environment variables are used to securely store sensitive information. We use `load_dotenv()` to load these variables from a `.env` file."
   ]
  },
  {
   "cell_type": "code",
   "execution_count": 5,
   "id": "f6c11216",
   "metadata": {},
   "outputs": [
    {
     "data": {
      "text/plain": [
       "False"
      ]
     },
     "execution_count": 5,
     "metadata": {},
     "output_type": "execute_result"
    }
   ],
   "source": [
    "load_dotenv()"
   ]
  },
  {
   "cell_type": "markdown",
   "id": "a20c1915",
   "metadata": {},
   "source": [
    "# Initialize the Language Model\n",
    "We create an instance of the Ollama language model. This object allows us to interact with locally running LLMs through LangChain."
   ]
  },
  {
   "cell_type": "code",
   "execution_count": 6,
   "id": "302494d6",
   "metadata": {},
   "outputs": [],
   "source": [
    "ollama_model = os.getenv(\"OLLAMA_MODEL\", \"llama2\")  # Use a valid model name, e.g., \"llama2\""
   ]
  },
  {
   "cell_type": "markdown",
   "id": "8e2e7593",
   "metadata": {},
   "source": [
    "# Create a Prompt\n",
    "A prompt is a question or instruction you send to the language model. Good prompt engineering helps get accurate and relevant responses."
   ]
  },
  {
   "cell_type": "code",
   "execution_count": 7,
   "id": "8996f8c2",
   "metadata": {},
   "outputs": [],
   "source": [
    "prompt = \"What is the capital of France?\""
   ]
  },
  {
   "cell_type": "markdown",
   "id": "168e83cf",
   "metadata": {},
   "source": [
    "# Pull the Model (if not already available)\n",
    "We use `ollama.pull()` to ensure the model is available locally before invoking it."
   ]
  },
  {
   "cell_type": "code",
   "execution_count": 8,
   "id": "d4e54503",
   "metadata": {},
   "outputs": [],
   "source": [
    "try:\n",
    "    ollama.pull(ollama_model)\n",
    "except Exception as e:\n",
    "    print(f\"Error pulling model: {e}\")"
   ]
  },
  {
   "cell_type": "markdown",
   "id": "5f5cfcba",
   "metadata": {},
   "source": [
    "# Invoke the Language Model\n",
    "We use the `ollama.chat()` method to send the prompt to the language model and get a response. The model processes the prompt and generates an answer."
   ]
  },
  {
   "cell_type": "code",
   "execution_count": 9,
   "id": "61e1cb4f",
   "metadata": {},
   "outputs": [
    {
     "name": "stdout",
     "output_type": "stream",
     "text": [
      "Response: \n",
      "The capital of France is Paris.\n"
     ]
    }
   ],
   "source": [
    "response = ollama.chat(model=ollama_model, messages=[{\"role\": \"user\", \"content\": prompt}])\n",
    "print(\"Response:\", response[\"message\"][\"content\"])"
   ]
  },
  {
   "cell_type": "code",
   "execution_count": 3,
   "id": "4af1f708",
   "metadata": {},
   "outputs": [
    {
     "name": "stdout",
     "output_type": "stream",
     "text": [
      "Requirement already satisfied: langchain_community in /Users/gopalkrushnapattanaik/miniconda3/envs/ai4beg/lib/python3.13/site-packages (from -r requirements.txt (line 1)) (0.3.29)\n",
      "Requirement already satisfied: langchain in /Users/gopalkrushnapattanaik/miniconda3/envs/ai4beg/lib/python3.13/site-packages (from -r requirements.txt (line 2)) (0.3.27)\n",
      "Requirement already satisfied: python-dotenv in /Users/gopalkrushnapattanaik/miniconda3/envs/ai4beg/lib/python3.13/site-packages (from -r requirements.txt (line 3)) (1.1.0)\n",
      "Requirement already satisfied: faiss-cpu in /Users/gopalkrushnapattanaik/miniconda3/envs/ai4beg/lib/python3.13/site-packages (from -r requirements.txt (line 4)) (1.12.0)\n",
      "Requirement already satisfied: pypdf in /Users/gopalkrushnapattanaik/miniconda3/envs/ai4beg/lib/python3.13/site-packages (from -r requirements.txt (line 5)) (6.0.0)\n",
      "Requirement already satisfied: requests in /Users/gopalkrushnapattanaik/miniconda3/envs/ai4beg/lib/python3.13/site-packages (from -r requirements.txt (line 6)) (2.32.5)\n",
      "Requirement already satisfied: twilio in /Users/gopalkrushnapattanaik/miniconda3/envs/ai4beg/lib/python3.13/site-packages (from -r requirements.txt (line 7)) (9.7.2)\n",
      "Requirement already satisfied: google-search-results in /Users/gopalkrushnapattanaik/miniconda3/envs/ai4beg/lib/python3.13/site-packages (from -r requirements.txt (line 8)) (2.4.2)\n",
      "Requirement already satisfied: wolframalpha in /Users/gopalkrushnapattanaik/miniconda3/envs/ai4beg/lib/python3.13/site-packages (from -r requirements.txt (line 9)) (5.1.3)\n",
      "Requirement already satisfied: fastmcp in /Users/gopalkrushnapattanaik/miniconda3/envs/ai4beg/lib/python3.13/site-packages (from -r requirements.txt (line 10)) (2.11.3)\n",
      "Requirement already satisfied: ollama in /Users/gopalkrushnapattanaik/miniconda3/envs/ai4beg/lib/python3.13/site-packages (from -r requirements.txt (line 11)) (0.5.3)\n",
      "Requirement already satisfied: openai in /Users/gopalkrushnapattanaik/miniconda3/envs/ai4beg/lib/python3.13/site-packages (from -r requirements.txt (line 12)) (1.102.0)\n",
      "Requirement already satisfied: langchain-core<2.0.0,>=0.3.75 in /Users/gopalkrushnapattanaik/miniconda3/envs/ai4beg/lib/python3.13/site-packages (from langchain_community->-r requirements.txt (line 1)) (0.3.75)\n",
      "Requirement already satisfied: SQLAlchemy<3,>=1.4 in /Users/gopalkrushnapattanaik/miniconda3/envs/ai4beg/lib/python3.13/site-packages (from langchain_community->-r requirements.txt (line 1)) (2.0.43)\n",
      "Requirement already satisfied: PyYAML>=5.3 in /Users/gopalkrushnapattanaik/miniconda3/envs/ai4beg/lib/python3.13/site-packages (from langchain_community->-r requirements.txt (line 1)) (6.0.2)\n",
      "Requirement already satisfied: aiohttp<4.0.0,>=3.8.3 in /Users/gopalkrushnapattanaik/miniconda3/envs/ai4beg/lib/python3.13/site-packages (from langchain_community->-r requirements.txt (line 1)) (3.12.15)\n",
      "Requirement already satisfied: tenacity!=8.4.0,<10,>=8.1.0 in /Users/gopalkrushnapattanaik/miniconda3/envs/ai4beg/lib/python3.13/site-packages (from langchain_community->-r requirements.txt (line 1)) (9.1.2)\n",
      "Requirement already satisfied: dataclasses-json<0.7,>=0.6.7 in /Users/gopalkrushnapattanaik/miniconda3/envs/ai4beg/lib/python3.13/site-packages (from langchain_community->-r requirements.txt (line 1)) (0.6.7)\n",
      "Requirement already satisfied: pydantic-settings<3.0.0,>=2.10.1 in /Users/gopalkrushnapattanaik/miniconda3/envs/ai4beg/lib/python3.13/site-packages (from langchain_community->-r requirements.txt (line 1)) (2.10.1)\n",
      "Requirement already satisfied: langsmith>=0.1.125 in /Users/gopalkrushnapattanaik/miniconda3/envs/ai4beg/lib/python3.13/site-packages (from langchain_community->-r requirements.txt (line 1)) (0.4.20)\n",
      "Requirement already satisfied: httpx-sse<1.0.0,>=0.4.0 in /Users/gopalkrushnapattanaik/miniconda3/envs/ai4beg/lib/python3.13/site-packages (from langchain_community->-r requirements.txt (line 1)) (0.4.1)\n",
      "Requirement already satisfied: numpy>=2.1.0 in /Users/gopalkrushnapattanaik/miniconda3/envs/ai4beg/lib/python3.13/site-packages (from langchain_community->-r requirements.txt (line 1)) (2.3.2)\n",
      "Requirement already satisfied: langchain-text-splitters<1.0.0,>=0.3.9 in /Users/gopalkrushnapattanaik/miniconda3/envs/ai4beg/lib/python3.13/site-packages (from langchain->-r requirements.txt (line 2)) (0.3.10)\n",
      "Requirement already satisfied: pydantic<3.0.0,>=2.7.4 in /Users/gopalkrushnapattanaik/miniconda3/envs/ai4beg/lib/python3.13/site-packages (from langchain->-r requirements.txt (line 2)) (2.11.7)\n",
      "Requirement already satisfied: charset_normalizer<4,>=2 in /Users/gopalkrushnapattanaik/miniconda3/envs/ai4beg/lib/python3.13/site-packages (from requests->-r requirements.txt (line 6)) (3.4.3)\n",
      "Requirement already satisfied: idna<4,>=2.5 in /Users/gopalkrushnapattanaik/miniconda3/envs/ai4beg/lib/python3.13/site-packages (from requests->-r requirements.txt (line 6)) (3.7)\n",
      "Requirement already satisfied: urllib3<3,>=1.21.1 in /Users/gopalkrushnapattanaik/miniconda3/envs/ai4beg/lib/python3.13/site-packages (from requests->-r requirements.txt (line 6)) (2.5.0)\n",
      "Requirement already satisfied: certifi>=2017.4.17 in /Users/gopalkrushnapattanaik/miniconda3/envs/ai4beg/lib/python3.13/site-packages (from requests->-r requirements.txt (line 6)) (2025.8.3)\n",
      "Requirement already satisfied: aiohappyeyeballs>=2.5.0 in /Users/gopalkrushnapattanaik/miniconda3/envs/ai4beg/lib/python3.13/site-packages (from aiohttp<4.0.0,>=3.8.3->langchain_community->-r requirements.txt (line 1)) (2.6.1)\n",
      "Requirement already satisfied: aiosignal>=1.4.0 in /Users/gopalkrushnapattanaik/miniconda3/envs/ai4beg/lib/python3.13/site-packages (from aiohttp<4.0.0,>=3.8.3->langchain_community->-r requirements.txt (line 1)) (1.4.0)\n",
      "Requirement already satisfied: attrs>=17.3.0 in /Users/gopalkrushnapattanaik/miniconda3/envs/ai4beg/lib/python3.13/site-packages (from aiohttp<4.0.0,>=3.8.3->langchain_community->-r requirements.txt (line 1)) (25.3.0)\n",
      "Requirement already satisfied: frozenlist>=1.1.1 in /Users/gopalkrushnapattanaik/miniconda3/envs/ai4beg/lib/python3.13/site-packages (from aiohttp<4.0.0,>=3.8.3->langchain_community->-r requirements.txt (line 1)) (1.7.0)\n",
      "Requirement already satisfied: multidict<7.0,>=4.5 in /Users/gopalkrushnapattanaik/miniconda3/envs/ai4beg/lib/python3.13/site-packages (from aiohttp<4.0.0,>=3.8.3->langchain_community->-r requirements.txt (line 1)) (6.6.4)\n",
      "Requirement already satisfied: propcache>=0.2.0 in /Users/gopalkrushnapattanaik/miniconda3/envs/ai4beg/lib/python3.13/site-packages (from aiohttp<4.0.0,>=3.8.3->langchain_community->-r requirements.txt (line 1)) (0.3.2)\n",
      "Requirement already satisfied: yarl<2.0,>=1.17.0 in /Users/gopalkrushnapattanaik/miniconda3/envs/ai4beg/lib/python3.13/site-packages (from aiohttp<4.0.0,>=3.8.3->langchain_community->-r requirements.txt (line 1)) (1.20.1)\n",
      "Requirement already satisfied: marshmallow<4.0.0,>=3.18.0 in /Users/gopalkrushnapattanaik/miniconda3/envs/ai4beg/lib/python3.13/site-packages (from dataclasses-json<0.7,>=0.6.7->langchain_community->-r requirements.txt (line 1)) (3.26.1)\n",
      "Requirement already satisfied: typing-inspect<1,>=0.4.0 in /Users/gopalkrushnapattanaik/miniconda3/envs/ai4beg/lib/python3.13/site-packages (from dataclasses-json<0.7,>=0.6.7->langchain_community->-r requirements.txt (line 1)) (0.9.0)\n",
      "Requirement already satisfied: jsonpatch<2.0,>=1.33 in /Users/gopalkrushnapattanaik/miniconda3/envs/ai4beg/lib/python3.13/site-packages (from langchain-core<2.0.0,>=0.3.75->langchain_community->-r requirements.txt (line 1)) (1.33)\n",
      "Requirement already satisfied: typing-extensions>=4.7 in /Users/gopalkrushnapattanaik/miniconda3/envs/ai4beg/lib/python3.13/site-packages (from langchain-core<2.0.0,>=0.3.75->langchain_community->-r requirements.txt (line 1)) (4.12.2)\n",
      "Requirement already satisfied: packaging>=23.2 in /Users/gopalkrushnapattanaik/miniconda3/envs/ai4beg/lib/python3.13/site-packages (from langchain-core<2.0.0,>=0.3.75->langchain_community->-r requirements.txt (line 1)) (25.0)\n",
      "Requirement already satisfied: jsonpointer>=1.9 in /Users/gopalkrushnapattanaik/miniconda3/envs/ai4beg/lib/python3.13/site-packages (from jsonpatch<2.0,>=1.33->langchain-core<2.0.0,>=0.3.75->langchain_community->-r requirements.txt (line 1)) (3.0.0)\n",
      "Requirement already satisfied: pip>=25.2 in /Users/gopalkrushnapattanaik/miniconda3/envs/ai4beg/lib/python3.13/site-packages (from langchain-text-splitters<1.0.0,>=0.3.9->langchain->-r requirements.txt (line 2)) (25.2)\n",
      "Requirement already satisfied: annotated-types>=0.6.0 in /Users/gopalkrushnapattanaik/miniconda3/envs/ai4beg/lib/python3.13/site-packages (from pydantic<3.0.0,>=2.7.4->langchain->-r requirements.txt (line 2)) (0.6.0)\n",
      "Requirement already satisfied: pydantic-core==2.33.2 in /Users/gopalkrushnapattanaik/miniconda3/envs/ai4beg/lib/python3.13/site-packages (from pydantic<3.0.0,>=2.7.4->langchain->-r requirements.txt (line 2)) (2.33.2)\n",
      "Requirement already satisfied: typing-inspection>=0.4.0 in /Users/gopalkrushnapattanaik/miniconda3/envs/ai4beg/lib/python3.13/site-packages (from pydantic<3.0.0,>=2.7.4->langchain->-r requirements.txt (line 2)) (0.4.0)\n",
      "Requirement already satisfied: mypy-extensions>=0.3.0 in /Users/gopalkrushnapattanaik/miniconda3/envs/ai4beg/lib/python3.13/site-packages (from typing-inspect<1,>=0.4.0->dataclasses-json<0.7,>=0.6.7->langchain_community->-r requirements.txt (line 1)) (1.1.0)\n",
      "Requirement already satisfied: PyJWT<3.0.0,>=2.0.0 in /Users/gopalkrushnapattanaik/miniconda3/envs/ai4beg/lib/python3.13/site-packages (from twilio->-r requirements.txt (line 7)) (2.10.1)\n",
      "Requirement already satisfied: aiohttp-retry>=2.8.3 in /Users/gopalkrushnapattanaik/miniconda3/envs/ai4beg/lib/python3.13/site-packages (from twilio->-r requirements.txt (line 7)) (2.9.1)\n",
      "Requirement already satisfied: xmltodict in /Users/gopalkrushnapattanaik/miniconda3/envs/ai4beg/lib/python3.13/site-packages (from wolframalpha->-r requirements.txt (line 9)) (0.14.2)\n",
      "Requirement already satisfied: more-itertools in /Users/gopalkrushnapattanaik/miniconda3/envs/ai4beg/lib/python3.13/site-packages (from wolframalpha->-r requirements.txt (line 9)) (10.7.0)\n",
      "Requirement already satisfied: jaraco.context in /Users/gopalkrushnapattanaik/miniconda3/envs/ai4beg/lib/python3.13/site-packages (from wolframalpha->-r requirements.txt (line 9)) (6.0.1)\n",
      "Requirement already satisfied: httpx in /Users/gopalkrushnapattanaik/miniconda3/envs/ai4beg/lib/python3.13/site-packages (from wolframalpha->-r requirements.txt (line 9)) (0.28.1)\n",
      "Requirement already satisfied: authlib>=1.5.2 in /Users/gopalkrushnapattanaik/miniconda3/envs/ai4beg/lib/python3.13/site-packages (from fastmcp->-r requirements.txt (line 10)) (1.6.3)\n",
      "Requirement already satisfied: cyclopts>=3.0.0 in /Users/gopalkrushnapattanaik/miniconda3/envs/ai4beg/lib/python3.13/site-packages (from fastmcp->-r requirements.txt (line 10)) (3.23.0)\n",
      "Requirement already satisfied: exceptiongroup>=1.2.2 in /Users/gopalkrushnapattanaik/miniconda3/envs/ai4beg/lib/python3.13/site-packages (from fastmcp->-r requirements.txt (line 10)) (1.3.0)\n",
      "Requirement already satisfied: mcp<2.0.0,>=1.12.4 in /Users/gopalkrushnapattanaik/miniconda3/envs/ai4beg/lib/python3.13/site-packages (from fastmcp->-r requirements.txt (line 10)) (1.13.1)\n",
      "Requirement already satisfied: openapi-core>=0.19.5 in /Users/gopalkrushnapattanaik/miniconda3/envs/ai4beg/lib/python3.13/site-packages (from fastmcp->-r requirements.txt (line 10)) (0.19.5)\n",
      "Requirement already satisfied: openapi-pydantic>=0.5.1 in /Users/gopalkrushnapattanaik/miniconda3/envs/ai4beg/lib/python3.13/site-packages (from fastmcp->-r requirements.txt (line 10)) (0.5.1)\n",
      "Requirement already satisfied: pyperclip>=1.9.0 in /Users/gopalkrushnapattanaik/miniconda3/envs/ai4beg/lib/python3.13/site-packages (from fastmcp->-r requirements.txt (line 10)) (1.9.0)\n",
      "Requirement already satisfied: rich>=13.9.4 in /Users/gopalkrushnapattanaik/miniconda3/envs/ai4beg/lib/python3.13/site-packages (from fastmcp->-r requirements.txt (line 10)) (14.1.0)\n",
      "Requirement already satisfied: anyio>=4.5 in /Users/gopalkrushnapattanaik/miniconda3/envs/ai4beg/lib/python3.13/site-packages (from mcp<2.0.0,>=1.12.4->fastmcp->-r requirements.txt (line 10)) (4.7.0)\n",
      "Requirement already satisfied: jsonschema>=4.20.0 in /Users/gopalkrushnapattanaik/miniconda3/envs/ai4beg/lib/python3.13/site-packages (from mcp<2.0.0,>=1.12.4->fastmcp->-r requirements.txt (line 10)) (4.25.0)\n",
      "Requirement already satisfied: python-multipart>=0.0.9 in /Users/gopalkrushnapattanaik/miniconda3/envs/ai4beg/lib/python3.13/site-packages (from mcp<2.0.0,>=1.12.4->fastmcp->-r requirements.txt (line 10)) (0.0.20)\n",
      "Requirement already satisfied: sse-starlette>=1.6.1 in /Users/gopalkrushnapattanaik/miniconda3/envs/ai4beg/lib/python3.13/site-packages (from mcp<2.0.0,>=1.12.4->fastmcp->-r requirements.txt (line 10)) (3.0.2)\n",
      "Requirement already satisfied: starlette>=0.27 in /Users/gopalkrushnapattanaik/miniconda3/envs/ai4beg/lib/python3.13/site-packages (from mcp<2.0.0,>=1.12.4->fastmcp->-r requirements.txt (line 10)) (0.47.3)\n",
      "Requirement already satisfied: uvicorn>=0.31.1 in /Users/gopalkrushnapattanaik/miniconda3/envs/ai4beg/lib/python3.13/site-packages (from mcp<2.0.0,>=1.12.4->fastmcp->-r requirements.txt (line 10)) (0.35.0)\n",
      "Requirement already satisfied: distro<2,>=1.7.0 in /Users/gopalkrushnapattanaik/miniconda3/envs/ai4beg/lib/python3.13/site-packages (from openai->-r requirements.txt (line 12)) (1.9.0)\n",
      "Requirement already satisfied: jiter<1,>=0.4.0 in /Users/gopalkrushnapattanaik/miniconda3/envs/ai4beg/lib/python3.13/site-packages (from openai->-r requirements.txt (line 12)) (0.6.1)\n",
      "Requirement already satisfied: sniffio in /Users/gopalkrushnapattanaik/miniconda3/envs/ai4beg/lib/python3.13/site-packages (from openai->-r requirements.txt (line 12)) (1.3.0)\n",
      "Requirement already satisfied: tqdm>4 in /Users/gopalkrushnapattanaik/miniconda3/envs/ai4beg/lib/python3.13/site-packages (from openai->-r requirements.txt (line 12)) (4.67.1)\n",
      "Requirement already satisfied: httpcore==1.* in /Users/gopalkrushnapattanaik/miniconda3/envs/ai4beg/lib/python3.13/site-packages (from httpx->wolframalpha->-r requirements.txt (line 9)) (1.0.9)\n",
      "Requirement already satisfied: h11>=0.16 in /Users/gopalkrushnapattanaik/miniconda3/envs/ai4beg/lib/python3.13/site-packages (from httpcore==1.*->httpx->wolframalpha->-r requirements.txt (line 9)) (0.16.0)\n",
      "Requirement already satisfied: cryptography in /Users/gopalkrushnapattanaik/miniconda3/envs/ai4beg/lib/python3.13/site-packages (from authlib>=1.5.2->fastmcp->-r requirements.txt (line 10)) (45.0.6)\n",
      "Requirement already satisfied: docstring-parser>=0.15 in /Users/gopalkrushnapattanaik/miniconda3/envs/ai4beg/lib/python3.13/site-packages (from cyclopts>=3.0.0->fastmcp->-r requirements.txt (line 10)) (0.17.0)\n",
      "Requirement already satisfied: rich-rst<2.0.0,>=1.3.1 in /Users/gopalkrushnapattanaik/miniconda3/envs/ai4beg/lib/python3.13/site-packages (from cyclopts>=3.0.0->fastmcp->-r requirements.txt (line 10)) (1.3.1)\n",
      "Requirement already satisfied: docutils in /Users/gopalkrushnapattanaik/miniconda3/envs/ai4beg/lib/python3.13/site-packages (from rich-rst<2.0.0,>=1.3.1->cyclopts>=3.0.0->fastmcp->-r requirements.txt (line 10)) (0.22)\n",
      "Requirement already satisfied: jsonschema-specifications>=2023.03.6 in /Users/gopalkrushnapattanaik/miniconda3/envs/ai4beg/lib/python3.13/site-packages (from jsonschema>=4.20.0->mcp<2.0.0,>=1.12.4->fastmcp->-r requirements.txt (line 10)) (2025.4.1)\n",
      "Requirement already satisfied: referencing>=0.28.4 in /Users/gopalkrushnapattanaik/miniconda3/envs/ai4beg/lib/python3.13/site-packages (from jsonschema>=4.20.0->mcp<2.0.0,>=1.12.4->fastmcp->-r requirements.txt (line 10)) (0.36.2)\n",
      "Requirement already satisfied: rpds-py>=0.7.1 in /Users/gopalkrushnapattanaik/miniconda3/envs/ai4beg/lib/python3.13/site-packages (from jsonschema>=4.20.0->mcp<2.0.0,>=1.12.4->fastmcp->-r requirements.txt (line 10)) (0.27.0)\n",
      "Requirement already satisfied: orjson>=3.9.14 in /Users/gopalkrushnapattanaik/miniconda3/envs/ai4beg/lib/python3.13/site-packages (from langsmith>=0.1.125->langchain_community->-r requirements.txt (line 1)) (3.11.3)\n",
      "Requirement already satisfied: requests-toolbelt>=1.0.0 in /Users/gopalkrushnapattanaik/miniconda3/envs/ai4beg/lib/python3.13/site-packages (from langsmith>=0.1.125->langchain_community->-r requirements.txt (line 1)) (1.0.0)\n",
      "Requirement already satisfied: zstandard>=0.23.0 in /Users/gopalkrushnapattanaik/miniconda3/envs/ai4beg/lib/python3.13/site-packages (from langsmith>=0.1.125->langchain_community->-r requirements.txt (line 1)) (0.24.0)\n",
      "Requirement already satisfied: isodate in /Users/gopalkrushnapattanaik/miniconda3/envs/ai4beg/lib/python3.13/site-packages (from openapi-core>=0.19.5->fastmcp->-r requirements.txt (line 10)) (0.7.2)\n",
      "Requirement already satisfied: jsonschema-path<0.4.0,>=0.3.1 in /Users/gopalkrushnapattanaik/miniconda3/envs/ai4beg/lib/python3.13/site-packages (from openapi-core>=0.19.5->fastmcp->-r requirements.txt (line 10)) (0.3.4)\n",
      "Requirement already satisfied: openapi-schema-validator<0.7.0,>=0.6.0 in /Users/gopalkrushnapattanaik/miniconda3/envs/ai4beg/lib/python3.13/site-packages (from openapi-core>=0.19.5->fastmcp->-r requirements.txt (line 10)) (0.6.3)\n",
      "Requirement already satisfied: openapi-spec-validator<0.8.0,>=0.7.1 in /Users/gopalkrushnapattanaik/miniconda3/envs/ai4beg/lib/python3.13/site-packages (from openapi-core>=0.19.5->fastmcp->-r requirements.txt (line 10)) (0.7.2)\n",
      "Requirement already satisfied: parse in /Users/gopalkrushnapattanaik/miniconda3/envs/ai4beg/lib/python3.13/site-packages (from openapi-core>=0.19.5->fastmcp->-r requirements.txt (line 10)) (1.20.2)\n",
      "Requirement already satisfied: werkzeug<3.1.2 in /Users/gopalkrushnapattanaik/miniconda3/envs/ai4beg/lib/python3.13/site-packages (from openapi-core>=0.19.5->fastmcp->-r requirements.txt (line 10)) (3.1.1)\n",
      "Requirement already satisfied: pathable<0.5.0,>=0.4.1 in /Users/gopalkrushnapattanaik/miniconda3/envs/ai4beg/lib/python3.13/site-packages (from jsonschema-path<0.4.0,>=0.3.1->openapi-core>=0.19.5->fastmcp->-r requirements.txt (line 10)) (0.4.4)\n",
      "Requirement already satisfied: rfc3339-validator in /Users/gopalkrushnapattanaik/miniconda3/envs/ai4beg/lib/python3.13/site-packages (from openapi-schema-validator<0.7.0,>=0.6.0->openapi-core>=0.19.5->fastmcp->-r requirements.txt (line 10)) (0.1.4)\n",
      "Requirement already satisfied: lazy-object-proxy<2.0.0,>=1.7.1 in /Users/gopalkrushnapattanaik/miniconda3/envs/ai4beg/lib/python3.13/site-packages (from openapi-spec-validator<0.8.0,>=0.7.1->openapi-core>=0.19.5->fastmcp->-r requirements.txt (line 10)) (1.12.0)\n",
      "Requirement already satisfied: MarkupSafe>=2.1.1 in /Users/gopalkrushnapattanaik/miniconda3/envs/ai4beg/lib/python3.13/site-packages (from werkzeug<3.1.2->openapi-core>=0.19.5->fastmcp->-r requirements.txt (line 10)) (3.0.2)\n",
      "Requirement already satisfied: email-validator>=2.0.0 in /Users/gopalkrushnapattanaik/miniconda3/envs/ai4beg/lib/python3.13/site-packages (from pydantic[email]>=2.11.7->fastmcp->-r requirements.txt (line 10)) (2.3.0)\n",
      "Requirement already satisfied: dnspython>=2.0.0 in /Users/gopalkrushnapattanaik/miniconda3/envs/ai4beg/lib/python3.13/site-packages (from email-validator>=2.0.0->pydantic[email]>=2.11.7->fastmcp->-r requirements.txt (line 10)) (2.7.0)\n",
      "Requirement already satisfied: markdown-it-py>=2.2.0 in /Users/gopalkrushnapattanaik/miniconda3/envs/ai4beg/lib/python3.13/site-packages (from rich>=13.9.4->fastmcp->-r requirements.txt (line 10)) (4.0.0)\n",
      "Requirement already satisfied: pygments<3.0.0,>=2.13.0 in /Users/gopalkrushnapattanaik/miniconda3/envs/ai4beg/lib/python3.13/site-packages (from rich>=13.9.4->fastmcp->-r requirements.txt (line 10)) (2.19.2)\n",
      "Requirement already satisfied: mdurl~=0.1 in /Users/gopalkrushnapattanaik/miniconda3/envs/ai4beg/lib/python3.13/site-packages (from markdown-it-py>=2.2.0->rich>=13.9.4->fastmcp->-r requirements.txt (line 10)) (0.1.2)\n",
      "Requirement already satisfied: anyio>=4.5 in /Users/gopalkrushnapattanaik/miniconda3/envs/ai4beg/lib/python3.13/site-packages (from mcp<2.0.0,>=1.12.4->fastmcp->-r requirements.txt (line 10)) (4.7.0)\n",
      "Requirement already satisfied: jsonschema>=4.20.0 in /Users/gopalkrushnapattanaik/miniconda3/envs/ai4beg/lib/python3.13/site-packages (from mcp<2.0.0,>=1.12.4->fastmcp->-r requirements.txt (line 10)) (4.25.0)\n",
      "Requirement already satisfied: python-multipart>=0.0.9 in /Users/gopalkrushnapattanaik/miniconda3/envs/ai4beg/lib/python3.13/site-packages (from mcp<2.0.0,>=1.12.4->fastmcp->-r requirements.txt (line 10)) (0.0.20)\n",
      "Requirement already satisfied: sse-starlette>=1.6.1 in /Users/gopalkrushnapattanaik/miniconda3/envs/ai4beg/lib/python3.13/site-packages (from mcp<2.0.0,>=1.12.4->fastmcp->-r requirements.txt (line 10)) (3.0.2)\n",
      "Requirement already satisfied: starlette>=0.27 in /Users/gopalkrushnapattanaik/miniconda3/envs/ai4beg/lib/python3.13/site-packages (from mcp<2.0.0,>=1.12.4->fastmcp->-r requirements.txt (line 10)) (0.47.3)\n",
      "Requirement already satisfied: uvicorn>=0.31.1 in /Users/gopalkrushnapattanaik/miniconda3/envs/ai4beg/lib/python3.13/site-packages (from mcp<2.0.0,>=1.12.4->fastmcp->-r requirements.txt (line 10)) (0.35.0)\n",
      "Requirement already satisfied: distro<2,>=1.7.0 in /Users/gopalkrushnapattanaik/miniconda3/envs/ai4beg/lib/python3.13/site-packages (from openai->-r requirements.txt (line 12)) (1.9.0)\n",
      "Requirement already satisfied: jiter<1,>=0.4.0 in /Users/gopalkrushnapattanaik/miniconda3/envs/ai4beg/lib/python3.13/site-packages (from openai->-r requirements.txt (line 12)) (0.6.1)\n",
      "Requirement already satisfied: sniffio in /Users/gopalkrushnapattanaik/miniconda3/envs/ai4beg/lib/python3.13/site-packages (from openai->-r requirements.txt (line 12)) (1.3.0)\n",
      "Requirement already satisfied: tqdm>4 in /Users/gopalkrushnapattanaik/miniconda3/envs/ai4beg/lib/python3.13/site-packages (from openai->-r requirements.txt (line 12)) (4.67.1)\n",
      "Requirement already satisfied: httpcore==1.* in /Users/gopalkrushnapattanaik/miniconda3/envs/ai4beg/lib/python3.13/site-packages (from httpx->wolframalpha->-r requirements.txt (line 9)) (1.0.9)\n",
      "Requirement already satisfied: h11>=0.16 in /Users/gopalkrushnapattanaik/miniconda3/envs/ai4beg/lib/python3.13/site-packages (from httpcore==1.*->httpx->wolframalpha->-r requirements.txt (line 9)) (0.16.0)\n",
      "Requirement already satisfied: cryptography in /Users/gopalkrushnapattanaik/miniconda3/envs/ai4beg/lib/python3.13/site-packages (from authlib>=1.5.2->fastmcp->-r requirements.txt (line 10)) (45.0.6)\n",
      "Requirement already satisfied: docstring-parser>=0.15 in /Users/gopalkrushnapattanaik/miniconda3/envs/ai4beg/lib/python3.13/site-packages (from cyclopts>=3.0.0->fastmcp->-r requirements.txt (line 10)) (0.17.0)\n",
      "Requirement already satisfied: rich-rst<2.0.0,>=1.3.1 in /Users/gopalkrushnapattanaik/miniconda3/envs/ai4beg/lib/python3.13/site-packages (from cyclopts>=3.0.0->fastmcp->-r requirements.txt (line 10)) (1.3.1)\n",
      "Requirement already satisfied: docutils in /Users/gopalkrushnapattanaik/miniconda3/envs/ai4beg/lib/python3.13/site-packages (from rich-rst<2.0.0,>=1.3.1->cyclopts>=3.0.0->fastmcp->-r requirements.txt (line 10)) (0.22)\n",
      "Requirement already satisfied: jsonschema-specifications>=2023.03.6 in /Users/gopalkrushnapattanaik/miniconda3/envs/ai4beg/lib/python3.13/site-packages (from jsonschema>=4.20.0->mcp<2.0.0,>=1.12.4->fastmcp->-r requirements.txt (line 10)) (2025.4.1)\n",
      "Requirement already satisfied: referencing>=0.28.4 in /Users/gopalkrushnapattanaik/miniconda3/envs/ai4beg/lib/python3.13/site-packages (from jsonschema>=4.20.0->mcp<2.0.0,>=1.12.4->fastmcp->-r requirements.txt (line 10)) (0.36.2)\n",
      "Requirement already satisfied: rpds-py>=0.7.1 in /Users/gopalkrushnapattanaik/miniconda3/envs/ai4beg/lib/python3.13/site-packages (from jsonschema>=4.20.0->mcp<2.0.0,>=1.12.4->fastmcp->-r requirements.txt (line 10)) (0.27.0)\n",
      "Requirement already satisfied: orjson>=3.9.14 in /Users/gopalkrushnapattanaik/miniconda3/envs/ai4beg/lib/python3.13/site-packages (from langsmith>=0.1.125->langchain_community->-r requirements.txt (line 1)) (3.11.3)\n",
      "Requirement already satisfied: requests-toolbelt>=1.0.0 in /Users/gopalkrushnapattanaik/miniconda3/envs/ai4beg/lib/python3.13/site-packages (from langsmith>=0.1.125->langchain_community->-r requirements.txt (line 1)) (1.0.0)\n",
      "Requirement already satisfied: zstandard>=0.23.0 in /Users/gopalkrushnapattanaik/miniconda3/envs/ai4beg/lib/python3.13/site-packages (from langsmith>=0.1.125->langchain_community->-r requirements.txt (line 1)) (0.24.0)\n",
      "Requirement already satisfied: isodate in /Users/gopalkrushnapattanaik/miniconda3/envs/ai4beg/lib/python3.13/site-packages (from openapi-core>=0.19.5->fastmcp->-r requirements.txt (line 10)) (0.7.2)\n",
      "Requirement already satisfied: jsonschema-path<0.4.0,>=0.3.1 in /Users/gopalkrushnapattanaik/miniconda3/envs/ai4beg/lib/python3.13/site-packages (from openapi-core>=0.19.5->fastmcp->-r requirements.txt (line 10)) (0.3.4)\n",
      "Requirement already satisfied: openapi-schema-validator<0.7.0,>=0.6.0 in /Users/gopalkrushnapattanaik/miniconda3/envs/ai4beg/lib/python3.13/site-packages (from openapi-core>=0.19.5->fastmcp->-r requirements.txt (line 10)) (0.6.3)\n",
      "Requirement already satisfied: openapi-spec-validator<0.8.0,>=0.7.1 in /Users/gopalkrushnapattanaik/miniconda3/envs/ai4beg/lib/python3.13/site-packages (from openapi-core>=0.19.5->fastmcp->-r requirements.txt (line 10)) (0.7.2)\n",
      "Requirement already satisfied: parse in /Users/gopalkrushnapattanaik/miniconda3/envs/ai4beg/lib/python3.13/site-packages (from openapi-core>=0.19.5->fastmcp->-r requirements.txt (line 10)) (1.20.2)\n",
      "Requirement already satisfied: werkzeug<3.1.2 in /Users/gopalkrushnapattanaik/miniconda3/envs/ai4beg/lib/python3.13/site-packages (from openapi-core>=0.19.5->fastmcp->-r requirements.txt (line 10)) (3.1.1)\n",
      "Requirement already satisfied: pathable<0.5.0,>=0.4.1 in /Users/gopalkrushnapattanaik/miniconda3/envs/ai4beg/lib/python3.13/site-packages (from jsonschema-path<0.4.0,>=0.3.1->openapi-core>=0.19.5->fastmcp->-r requirements.txt (line 10)) (0.4.4)\n",
      "Requirement already satisfied: rfc3339-validator in /Users/gopalkrushnapattanaik/miniconda3/envs/ai4beg/lib/python3.13/site-packages (from openapi-schema-validator<0.7.0,>=0.6.0->openapi-core>=0.19.5->fastmcp->-r requirements.txt (line 10)) (0.1.4)\n",
      "Requirement already satisfied: lazy-object-proxy<2.0.0,>=1.7.1 in /Users/gopalkrushnapattanaik/miniconda3/envs/ai4beg/lib/python3.13/site-packages (from openapi-spec-validator<0.8.0,>=0.7.1->openapi-core>=0.19.5->fastmcp->-r requirements.txt (line 10)) (1.12.0)\n",
      "Requirement already satisfied: MarkupSafe>=2.1.1 in /Users/gopalkrushnapattanaik/miniconda3/envs/ai4beg/lib/python3.13/site-packages (from werkzeug<3.1.2->openapi-core>=0.19.5->fastmcp->-r requirements.txt (line 10)) (3.0.2)\n",
      "Requirement already satisfied: email-validator>=2.0.0 in /Users/gopalkrushnapattanaik/miniconda3/envs/ai4beg/lib/python3.13/site-packages (from pydantic[email]>=2.11.7->fastmcp->-r requirements.txt (line 10)) (2.3.0)\n",
      "Requirement already satisfied: dnspython>=2.0.0 in /Users/gopalkrushnapattanaik/miniconda3/envs/ai4beg/lib/python3.13/site-packages (from email-validator>=2.0.0->pydantic[email]>=2.11.7->fastmcp->-r requirements.txt (line 10)) (2.7.0)\n",
      "Requirement already satisfied: markdown-it-py>=2.2.0 in /Users/gopalkrushnapattanaik/miniconda3/envs/ai4beg/lib/python3.13/site-packages (from rich>=13.9.4->fastmcp->-r requirements.txt (line 10)) (4.0.0)\n",
      "Requirement already satisfied: pygments<3.0.0,>=2.13.0 in /Users/gopalkrushnapattanaik/miniconda3/envs/ai4beg/lib/python3.13/site-packages (from rich>=13.9.4->fastmcp->-r requirements.txt (line 10)) (2.19.2)\n",
      "Requirement already satisfied: mdurl~=0.1 in /Users/gopalkrushnapattanaik/miniconda3/envs/ai4beg/lib/python3.13/site-packages (from markdown-it-py>=2.2.0->rich>=13.9.4->fastmcp->-r requirements.txt (line 10)) (0.1.2)\n",
      "Requirement already satisfied: click>=7.0 in /Users/gopalkrushnapattanaik/miniconda3/envs/ai4beg/lib/python3.13/site-packages (from uvicorn>=0.31.1->mcp<2.0.0,>=1.12.4->fastmcp->-r requirements.txt (line 10)) (8.2.1)\n",
      "Requirement already satisfied: cffi>=1.14 in /Users/gopalkrushnapattanaik/miniconda3/envs/ai4beg/lib/python3.13/site-packages (from cryptography->authlib>=1.5.2->fastmcp->-r requirements.txt (line 10)) (1.17.1)\n",
      "Requirement already satisfied: pycparser in /Users/gopalkrushnapattanaik/miniconda3/envs/ai4beg/lib/python3.13/site-packages (from cffi>=1.14->cryptography->authlib>=1.5.2->fastmcp->-r requirements.txt (line 10)) (2.22)\n",
      "Requirement already satisfied: six in /Users/gopalkrushnapattanaik/miniconda3/envs/ai4beg/lib/python3.13/site-packages (from rfc3339-validator->openapi-schema-validator<0.7.0,>=0.6.0->openapi-core>=0.19.5->fastmcp->-r requirements.txt (line 10)) (1.17.0)\n",
      "Requirement already satisfied: click>=7.0 in /Users/gopalkrushnapattanaik/miniconda3/envs/ai4beg/lib/python3.13/site-packages (from uvicorn>=0.31.1->mcp<2.0.0,>=1.12.4->fastmcp->-r requirements.txt (line 10)) (8.2.1)\n",
      "Requirement already satisfied: cffi>=1.14 in /Users/gopalkrushnapattanaik/miniconda3/envs/ai4beg/lib/python3.13/site-packages (from cryptography->authlib>=1.5.2->fastmcp->-r requirements.txt (line 10)) (1.17.1)\n",
      "Requirement already satisfied: pycparser in /Users/gopalkrushnapattanaik/miniconda3/envs/ai4beg/lib/python3.13/site-packages (from cffi>=1.14->cryptography->authlib>=1.5.2->fastmcp->-r requirements.txt (line 10)) (2.22)\n",
      "Requirement already satisfied: six in /Users/gopalkrushnapattanaik/miniconda3/envs/ai4beg/lib/python3.13/site-packages (from rfc3339-validator->openapi-schema-validator<0.7.0,>=0.6.0->openapi-core>=0.19.5->fastmcp->-r requirements.txt (line 10)) (1.17.0)\n",
      "Note: you may need to restart the kernel to use updated packages.\n",
      "Note: you may need to restart the kernel to use updated packages.\n",
      "Response: \n",
      "The capital of France is Paris.\n",
      "Response: \n",
      "The capital of France is Paris.\n"
     ]
    }
   ],
   "source": [
    "%pip install -r requirements.txt\n",
    "\n",
    "import os\n",
    "from dotenv import load_dotenv\n",
    "import ollama\n",
    "\n",
    "load_dotenv()\n",
    "ollama_model = os.getenv(\"OLLAMA_MODEL\", \"llama2\")  # Use a valid model name, e.g., \"llama2\"\n",
    "prompt = \"What is the capital of France?\"\n",
    "\n",
    "# Pull the model if not already available\n",
    "try:\n",
    "\tollama.pull(ollama_model)\n",
    "except Exception as e:\n",
    "\tprint(f\"Error pulling model: {e}\")\n",
    "\n",
    "response = ollama.chat(model=ollama_model, messages=[{\"role\": \"user\", \"content\": prompt}])\n",
    "print(\"Response:\", response[\"message\"][\"content\"])"
   ]
  },
  {
   "cell_type": "markdown",
   "id": "04aa4838",
   "metadata": {},
   "source": [
    "---\n",
    "\n",
    "<table><tr>\n",
    "<td><img src=\"images/robo2.png\" alt=\"Robo2 the AI Cheerleader\" width=\"150\" style=\"float:right; margin-left:20px;\" /></td>\n",
    "<td style=\"vertical-align:top; padding-left:20px;\">\n",
    "<i>\"Congratulations, human! You survived the lab and your code didn't explode!\"</i><br>\n",
    "<i>You're now officially smarter than my last firmware update. 🎉🤖</i>\n",
    "</td>\n",
    "</tr></table>\n",
    "\n",
    "*Thanks for completing the LangChain + Ollama lab!*"
   ]
  }
 ],
 "metadata": {
  "kernelspec": {
   "display_name": "ai4beg",
   "language": "python",
   "name": "python3"
  },
  "language_info": {
   "codemirror_mode": {
    "name": "ipython",
    "version": 3
   },
   "file_extension": ".py",
   "mimetype": "text/x-python",
   "name": "python",
   "nbconvert_exporter": "python",
   "pygments_lexer": "ipython3",
   "version": "3.13.5"
  }
 },
 "nbformat": 4,
 "nbformat_minor": 5
}
