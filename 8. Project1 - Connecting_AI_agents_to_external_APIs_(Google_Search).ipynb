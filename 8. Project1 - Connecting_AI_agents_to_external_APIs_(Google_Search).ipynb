{
  "cells": [
    {
      "cell_type": "markdown",
      "id": "c84b5f1b",
      "metadata": {
        "id": "c84b5f1b"
      },
      "source": [
        "---\n",
        "\n",
        "## **Problem Statement**\n",
        "\n",
        "In modern AI-driven applications, it is often necessary to enhance an agent's reasoning by giving it access to real-world information (from the internet). Large Language Models like GPT-4 alone cannot access real-time data. To build a truly intelligent assistant, we need to **augment the model with tools** that bridge these gaps.\n",
        "\n",
        "---\n",
        "\n",
        "## **Objectives**\n",
        "\n",
        "The goal of this application is to:\n",
        "\n",
        "1. Build a tool-using AI agent that can:\n",
        "   - Search the web for current news or facts using **Google Search via SerpAPI**\n",
        "2. Integrate the above tool with **GPT-4 Turbo** using **LangChain’s latest `create_tool_calling_agent` API**\n",
        "3. Maintain clean, modular, and fully compatible code using the **latest LangChain best practices**\n",
        "4. Run example queries to demonstrate how the agent utilizes the tool based on the query intent\n",
        "\n",
        "---\n",
        "\n",
        "## **Outcomes**\n",
        "\n",
        "- A functional, intelligent assistant capable of web search.\n",
        "- Tool usage is decided dynamically by the agent depending on the user’s query.\n",
        "- Fully integrated with `.env` file for secure API key storage.\n",
        "- The agent is extensible for further tools (e.g., weather, finance APIs, etc.).\n",
        "\n",
        "---"
      ]
    },
    {
      "cell_type": "code",
      "execution_count": null,
      "id": "b7ab37e5",
      "metadata": {
        "id": "b7ab37e5"
      },
      "outputs": [],
      "source": [
        "%pip install openai langchain langchain-community python-dotenv -q\n",
        "# langchain-community – Community-maintained third-party tool integrations for LangChain. Community-maintained integrations like SerpAPI, Wolfram Alpha"
      ]
    },
    {
      "cell_type": "code",
      "execution_count": 7,
      "id": "482a85a3",
      "metadata": {
        "id": "482a85a3"
      },
      "outputs": [
        {
          "name": "stdout",
          "output_type": "stream",
          "text": [
            "Note: you may need to restart the kernel to use updated packages.\n"
          ]
        },
        {
          "name": "stderr",
          "output_type": "stream",
          "text": [
            "\n",
            "[notice] A new release of pip is available: 24.2 -> 25.2\n",
            "[notice] To update, run: python.exe -m pip install --upgrade pip\n"
          ]
        }
      ],
      "source": [
        "%pip install google-search-results -q"
      ]
    },
    {
      "cell_type": "code",
      "execution_count": 13,
      "id": "e7e3f536",
      "metadata": {
        "id": "e7e3f536"
      },
      "outputs": [
        {
          "name": "stdout",
          "output_type": "stream",
          "text": [
            "Note: you may need to restart the kernel to use updated packages.\n"
          ]
        },
        {
          "name": "stderr",
          "output_type": "stream",
          "text": [
            "\n",
            "[notice] A new release of pip is available: 24.2 -> 25.2\n",
            "[notice] To update, run: python.exe -m pip install --upgrade pip\n"
          ]
        }
      ],
      "source": [
        "%pip install wolframalpha -q"
      ]
    },
    {
      "cell_type": "code",
      "execution_count": null,
      "id": "37d4f9bb",
      "metadata": {
        "id": "37d4f9bb"
      },
      "outputs": [],
      "source": [
        "import os\n",
        "from dotenv import load_dotenv\n",
        "\n",
        "# LangChain core components\n",
        "from langchain_openai import ChatOpenAI\n",
        "from langchain.agents import AgentExecutor, create_tool_calling_agent\n",
        "from langchain_core.prompts import ChatPromptTemplate\n",
        "from langchain.tools import Tool\n",
        "\n",
        "# External API utilities from LangChain Community\n",
        "from langchain_community.utilities.serpapi import SerpAPIWrapper\n",
        "# SerpAPIWrapper\tAccess Google Search via SerpAPI"
      ]
    },
    {
      "cell_type": "code",
      "execution_count": null,
      "id": "fc1dc30d",
      "metadata": {
        "id": "fc1dc30d"
      },
      "outputs": [],
      "source": [
        "# Step 1: Load API keys from .env file\n",
        "load_dotenv()\n",
        "OPENAI_API_KEY = os.getenv(\"OPENAI_API_KEY\")\n",
        "SERPAPI_API_KEY = os.getenv(\"SERPAPI_API_KEY\")"
      ]
    },
    {
      "cell_type": "code",
      "execution_count": 28,
      "id": "e3b53393",
      "metadata": {
        "id": "e3b53393"
      },
      "outputs": [],
      "source": [
        "# Step 2: Initialize the LLM (GPT-4 Turbo) using OpenAI key\n",
        "llm = ChatOpenAI(\n",
        "    model=\"gpt-4-turbo\",\n",
        "    temperature=0.3,\n",
        "    api_key=OPENAI_API_KEY\n",
        ")"
      ]
    },
    {
      "cell_type": "code",
      "execution_count": 29,
      "id": "0b544dfb",
      "metadata": {
        "id": "0b544dfb"
      },
      "outputs": [],
      "source": [
        "# Step 3: Set up SerpAPI (Google Search wrapper)\n",
        "search_tool = SerpAPIWrapper(serpapi_api_key=SERPAPI_API_KEY)"
      ]
    },
    {
      "cell_type": "code",
      "execution_count": null,
      "id": "943173e0",
      "metadata": {
        "id": "943173e0"
      },
      "outputs": [],
      "source": [
        "# Step 3: Set up SerpAPI (Google Search wrapper)\n",
        "search_tool = SerpAPIWrapper(serpapi_api_key=SERPAPI_API_KEY)"
      ]
    },
    {
      "cell_type": "code",
      "execution_count": null,
      "id": "34779cb0",
      "metadata": {
        "id": "34779cb0"
      },
      "outputs": [],
      "source": [
        "# Step 4: Wrap SerpAPI as LangChain Tool\n",
        "tools = [\n",
        "    Tool.from_function(\n",
        "        func=search_tool.run,\n",
        "        name=\"google_search\",\n",
        "        description=\"Use this to search the internet for current events, recent information, or news.\"\n",
        "    )\n",
        "    # Only SerpAPI tool is registered\n",
        " ]"
      ]
    },
    {
      "cell_type": "code",
      "execution_count": null,
      "id": "72eaed74",
      "metadata": {},
      "outputs": [],
      "source": []
    },
    {
      "cell_type": "code",
      "execution_count": null,
      "id": "8cdaa63b",
      "metadata": {
        "id": "8cdaa63b"
      },
      "outputs": [],
      "source": [
        "# Step 5: Define prompt template (agent_scratchpad is required)\n",
        "prompt = ChatPromptTemplate.from_messages([\n",
        "    (\"system\", \"You are a smart assistant that uses Google Search.\"),\n",
        "    (\"user\", \"{input}\"),\n",
        "    (\"placeholder\", \"{agent_scratchpad}\")  # Required for tool-using agents\n",
        "])"
      ]
    },
    {
      "cell_type": "code",
      "execution_count": 40,
      "id": "3c12ea3a",
      "metadata": {
        "id": "3c12ea3a"
      },
      "outputs": [],
      "source": [
        "# Step 7: Create the tool-calling agent\n",
        "agent = create_tool_calling_agent(\n",
        "    llm=llm,\n",
        "    tools=tools,\n",
        "    prompt=prompt\n",
        ")"
      ]
    },
    {
      "cell_type": "code",
      "execution_count": 41,
      "id": "874a5145",
      "metadata": {
        "id": "874a5145"
      },
      "outputs": [],
      "source": [
        "# Step 8: Wrap agent in an executor\n",
        "agent_executor = AgentExecutor(\n",
        "    agent=agent,\n",
        "    tools=tools,\n",
        "    verbose=True\n",
        ")"
      ]
    },
    {
      "cell_type": "code",
      "execution_count": 42,
      "id": "8ee7d556",
      "metadata": {
        "id": "8ee7d556"
      },
      "outputs": [],
      "source": [
        "# Step 9: Run a query through the agent\n",
        "# def run_agent(query: str):\n",
        "#     print(f\"\\nUser: {query}\")\n",
        "#     result = agent_executor.invoke({\"input\": query})\n",
        "#     print(\"Agent:\", result[\"output\"])\n",
        "\n",
        "import asyncio\n",
        "async def run_agent_async(query: str):\n",
        "    print(f\"\\nUser: {query}\")\n",
        "    result = await agent_executor.ainvoke({\"input\": query})\n",
        "    print(\"Agent:\", result[\"output\"])"
      ]
    },
    {
      "cell_type": "code",
      "execution_count": 43,
      "id": "d3e2db74",
      "metadata": {
        "id": "d3e2db74",
        "outputId": "6eaa72f5-7b91-405e-c266-7f771f05381f"
      },
      "outputs": [
        {
          "name": "stdout",
          "output_type": "stream",
          "text": [
            "\n",
            "User: What is the square root of 4563?\n",
            "\n",
            "\n",
            "\u001b[1m> Entering new AgentExecutor chain...\u001b[0m\n",
            "\u001b[32;1m\u001b[1;3m\n",
            "Invoking: `wolfram_alpha` with `square root of 4563`\n",
            "\n",
            "\n",
            "\u001b[0m\u001b[32;1m\u001b[1;3m\n",
            "Invoking: `wolfram_alpha` with `square root of 4563`\n",
            "\n",
            "\n",
            "\u001b[0m\u001b[33;1m\u001b[1;3mWolfram Alpha API returned an unexpected response format. Please check your AppID or try again later.\u001b[0m\u001b[33;1m\u001b[1;3mWolfram Alpha API returned an unexpected response format. Please check your AppID or try again later.\u001b[0m\u001b[32;1m\u001b[1;3m\n",
            "Invoking: `wolfram_alpha` with `square root of 4563`\n",
            "responded: It seems there was an issue retrieving the answer from Wolfram Alpha. Let me try again to get the square root of 4563 for you.\n",
            "\n",
            "\u001b[0m\u001b[32;1m\u001b[1;3m\n",
            "Invoking: `wolfram_alpha` with `square root of 4563`\n",
            "responded: It seems there was an issue retrieving the answer from Wolfram Alpha. Let me try again to get the square root of 4563 for you.\n",
            "\n",
            "\u001b[0m\u001b[33;1m\u001b[1;3mWolfram Alpha API returned an unexpected response format. Please check your AppID or try again later.\u001b[0m\u001b[33;1m\u001b[1;3mWolfram Alpha API returned an unexpected response format. Please check your AppID or try again later.\u001b[0m\u001b[32;1m\u001b[1;3mI apologize for the inconvenience, but it seems there is a persistent issue with accessing Wolfram Alpha at the moment. However, I can calculate the square root of 4563 for you using a manual calculation.\n",
            "\n",
            "The square root of 4563 is approximately 67.55.\u001b[0m\n",
            "\n",
            "\u001b[1m> Finished chain.\u001b[0m\n",
            "Agent: I apologize for the inconvenience, but it seems there is a persistent issue with accessing Wolfram Alpha at the moment. However, I can calculate the square root of 4563 for you using a manual calculation.\n",
            "\n",
            "The square root of 4563 is approximately 67.55.\n",
            "\u001b[32;1m\u001b[1;3mI apologize for the inconvenience, but it seems there is a persistent issue with accessing Wolfram Alpha at the moment. However, I can calculate the square root of 4563 for you using a manual calculation.\n",
            "\n",
            "The square root of 4563 is approximately 67.55.\u001b[0m\n",
            "\n",
            "\u001b[1m> Finished chain.\u001b[0m\n",
            "Agent: I apologize for the inconvenience, but it seems there is a persistent issue with accessing Wolfram Alpha at the moment. However, I can calculate the square root of 4563 for you using a manual calculation.\n",
            "\n",
            "The square root of 4563 is approximately 67.55.\n"
          ]
        }
      ],
      "source": [
        "await run_agent_async(\"What is the square root of 4563?\")"
      ]
    },
    {
      "cell_type": "code",
      "execution_count": 12,
      "id": "30421e24",
      "metadata": {
        "id": "30421e24",
        "outputId": "8c7ca700-d923-478b-e927-65ef8fb0fcf7"
      },
      "outputs": [
        {
          "name": "stdout",
          "output_type": "stream",
          "text": [
            "\n",
            "User: Who is the CEO of Twitter as of today?\n",
            "\n",
            "\n",
            "\u001b[1m> Entering new AgentExecutor chain...\u001b[0m\n",
            "\u001b[32;1m\u001b[1;3m\n",
            "Invoking: `google_search` with `CEO of Twitter 2023`\n",
            "\n",
            "\n",
            "\u001b[0m\u001b[36;1m\u001b[1;3m['Linda Yaccarino succeeded Musk as CEO on June 5, 2023, with Musk remaining as the chairman and the chief technology officer. In July 2023, Musk announced that ...', 'I am excited to welcome Linda Yaccarino as the new CEO of Twitter! @LindaYacc will focus primarily on business operations, while I focus on ...', 'She took over as CEO of Twitter on June 6, 2023. Fortune and The New Republic described Yaccarino as a former Trump appointee who follows a number of ...', 'Linda Yaccarino, the TV advertising veteran Elon Musk recruited in 2023 to lead business operations at X, is leaving the company, she announced.', 'Linda Yaccarino announced Wednesday that she is stepping down as CEO at X, the social media site formerly known as Twitter.', 'Yaccarino, a longtime advertising executive, took the helm of Twitter in May. Her appointment came after months of controversial decisions from ...', \"Linda Yaccarino tweeted she has been inspired by owner Elon Musk's vision to create a brighter future for the social media platform.\", \"Linda Yaccarino will be the new #CEO of Twitter. Will she turn things around? Here's my take: #Yaccarino is exactly who Twitter needs to regain ...\", 'Elon Musk on Friday named longtime media executive Linda Yaccarino as the new CEO of Twitter, months after he promised to step back from the role.', \"X CEO Linda Yaccarino told CNBC on Thursday that the company's decision to get rid of its Twitter branding reflects owner Elon Musk's vision for the app.\"]\u001b[0m\u001b[32;1m\u001b[1;3mAs of today, Linda Yaccarino is the CEO of Twitter. She succeeded Elon Musk in this role on June 5, 2023.\u001b[0m\n",
            "\n",
            "\u001b[1m> Finished chain.\u001b[0m\n",
            "Agent: As of today, Linda Yaccarino is the CEO of Twitter. She succeeded Elon Musk in this role on June 5, 2023.\n"
          ]
        }
      ],
      "source": [
        "await run_agent_async(\"Who is the CEO of Twitter as of today?\")"
      ]
    },
    {
      "cell_type": "code",
      "execution_count": 13,
      "id": "d28229a1",
      "metadata": {
        "id": "d28229a1",
        "outputId": "acee6797-60bc-4051-c1da-74e6f12e3a38"
      },
      "outputs": [
        {
          "name": "stdout",
          "output_type": "stream",
          "text": [
            "\n",
            "User: What is Operation Sindoor?\n",
            "\n",
            "\n",
            "\u001b[1m> Entering new AgentExecutor chain...\u001b[0m\n",
            "\u001b[32;1m\u001b[1;3m\n",
            "Invoking: `google_search` with `Operation Sindoor`\n",
            "\n",
            "\n",
            "\u001b[0m\u001b[36;1m\u001b[1;3m['On 7 May, India launched Operation Sindoor with missile strikes on terrorism-related infrastructure facilities of Pakistan-based militant groups Jaish-e- ...', 'Operation SINDOOR was conceived as a punitive and targeted campaign to dismantle the terror infrastructure across the Line of Control and deeper ...', \"The strikes by the Indian Air Force against targets in Pakistan offer a powerful lesson in restraint, and Operation Sindoor adds a new approach to India's ...\", 'The Indian military launched multiple missile attacks targeting sites in Pakistan and Pakistan-administered Kashmir early on Wednesday in an attack it called ...', 'Operation Sindoor is a principle-driven military response underpinned by strategic restraint. It was in response to a barbaric terrorist attack ...', \"A lightning air campaign that not only crippled Pakistan's air bases but exposed the vulnerability of some of the world's most sophisticated military hardware.\", 'In Operation Sindoor, India appears to have trialed this concept. Its initial attack on May 7 struck nine terrorist sites, in which it claims to ...', 'US President Donald Trump on Friday claimed that \"five jets were shot down\" in the recent conflict between India and Pakistan following the Pahalgam terror ...']\u001b[0m\u001b[32;1m\u001b[1;3mOperation Sindoor is a military operation launched by India, involving missile strikes on terrorism-related infrastructure facilities of Pakistan-based militant groups. It was conceived as a punitive and targeted campaign to dismantle the terror infrastructure across the Line of Control and deeper into Pakistan. The operation was a response to a terrorist attack and aimed at crippling Pakistan's military capabilities, while also exposing vulnerabilities in some of the world's most sophisticated military hardware.\u001b[0m\n",
            "\n",
            "\u001b[1m> Finished chain.\u001b[0m\n",
            "Agent: Operation Sindoor is a military operation launched by India, involving missile strikes on terrorism-related infrastructure facilities of Pakistan-based militant groups. It was conceived as a punitive and targeted campaign to dismantle the terror infrastructure across the Line of Control and deeper into Pakistan. The operation was a response to a terrorist attack and aimed at crippling Pakistan's military capabilities, while also exposing vulnerabilities in some of the world's most sophisticated military hardware.\n"
          ]
        }
      ],
      "source": [
        "await run_agent_async(\"What is Operation Sindoor?\")"
      ]
    },
    {
      "cell_type": "code",
      "execution_count": 14,
      "id": "f71a9e06",
      "metadata": {
        "id": "f71a9e06",
        "outputId": "a92bc2f1-e311-4c71-83b9-27fcb3a47a87"
      },
      "outputs": [
        {
          "name": "stdout",
          "output_type": "stream",
          "text": [
            "\n",
            "User: what is the per litre petrol price today in Mumbai. Divide the per litre price by 85\n",
            "\n",
            "\n",
            "\u001b[1m> Entering new AgentExecutor chain...\u001b[0m\n",
            "\u001b[32;1m\u001b[1;3m\n",
            "Invoking: `google_search` with `current petrol price per litre in Mumbai`\n",
            "\n",
            "\n",
            "\u001b[0m\u001b[36;1m\u001b[1;3mINR 103.5 per liter\u001b[0m\u001b[32;1m\u001b[1;3m\n",
            "Invoking: `wolfram_alpha` with `103.5 divided by 85`\n",
            "\n",
            "\n",
            "\u001b[0m"
          ]
        },
        {
          "ename": "AssertionError",
          "evalue": "",
          "output_type": "error",
          "traceback": [
            "\u001b[31m---------------------------------------------------------------------------\u001b[39m",
            "\u001b[31mAssertionError\u001b[39m                            Traceback (most recent call last)",
            "\u001b[36mCell\u001b[39m\u001b[36m \u001b[39m\u001b[32mIn[14]\u001b[39m\u001b[32m, line 1\u001b[39m\n\u001b[32m----> \u001b[39m\u001b[32m1\u001b[39m \u001b[38;5;28;01mawait\u001b[39;00m run_agent_async(\u001b[33m\"\u001b[39m\u001b[33mwhat is the per litre petrol price today in Mumbai. Divide the per litre price by 85\u001b[39m\u001b[33m\"\u001b[39m)\n",
            "\u001b[36mCell\u001b[39m\u001b[36m \u001b[39m\u001b[32mIn[10]\u001b[39m\u001b[32m, line 10\u001b[39m, in \u001b[36mrun_agent_async\u001b[39m\u001b[34m(query)\u001b[39m\n\u001b[32m      8\u001b[39m \u001b[38;5;28;01masync\u001b[39;00m \u001b[38;5;28;01mdef\u001b[39;00m\u001b[38;5;250m \u001b[39m\u001b[34mrun_agent_async\u001b[39m(query: \u001b[38;5;28mstr\u001b[39m):\n\u001b[32m      9\u001b[39m     \u001b[38;5;28mprint\u001b[39m(\u001b[33mf\u001b[39m\u001b[33m\"\u001b[39m\u001b[38;5;130;01m\\n\u001b[39;00m\u001b[33mUser: \u001b[39m\u001b[38;5;132;01m{\u001b[39;00mquery\u001b[38;5;132;01m}\u001b[39;00m\u001b[33m\"\u001b[39m)\n\u001b[32m---> \u001b[39m\u001b[32m10\u001b[39m     result = \u001b[38;5;28;01mawait\u001b[39;00m agent_executor.ainvoke({\u001b[33m\"\u001b[39m\u001b[33minput\u001b[39m\u001b[33m\"\u001b[39m: query})\n\u001b[32m     11\u001b[39m     \u001b[38;5;28mprint\u001b[39m(\u001b[33m\"\u001b[39m\u001b[33mAgent:\u001b[39m\u001b[33m\"\u001b[39m, result[\u001b[33m\"\u001b[39m\u001b[33moutput\u001b[39m\u001b[33m\"\u001b[39m])\n",
            "\u001b[36mFile \u001b[39m\u001b[32mc:\\Users\\Simar\\AppData\\Local\\Programs\\Python\\Python312\\Lib\\site-packages\\langchain\\chains\\base.py:220\u001b[39m, in \u001b[36mChain.ainvoke\u001b[39m\u001b[34m(self, input, config, **kwargs)\u001b[39m\n\u001b[32m    217\u001b[39m \u001b[38;5;28;01mtry\u001b[39;00m:\n\u001b[32m    218\u001b[39m     \u001b[38;5;28mself\u001b[39m._validate_inputs(inputs)\n\u001b[32m    219\u001b[39m     outputs = (\n\u001b[32m--> \u001b[39m\u001b[32m220\u001b[39m         \u001b[38;5;28;01mawait\u001b[39;00m \u001b[38;5;28mself\u001b[39m._acall(inputs, run_manager=run_manager)\n\u001b[32m    221\u001b[39m         \u001b[38;5;28;01mif\u001b[39;00m new_arg_supported\n\u001b[32m    222\u001b[39m         \u001b[38;5;28;01melse\u001b[39;00m \u001b[38;5;28;01mawait\u001b[39;00m \u001b[38;5;28mself\u001b[39m._acall(inputs)\n\u001b[32m    223\u001b[39m     )\n\u001b[32m    224\u001b[39m     final_outputs: \u001b[38;5;28mdict\u001b[39m[\u001b[38;5;28mstr\u001b[39m, Any] = \u001b[38;5;28;01mawait\u001b[39;00m \u001b[38;5;28mself\u001b[39m.aprep_outputs(\n\u001b[32m    225\u001b[39m         inputs,\n\u001b[32m    226\u001b[39m         outputs,\n\u001b[32m    227\u001b[39m         return_only_outputs,\n\u001b[32m    228\u001b[39m     )\n\u001b[32m    229\u001b[39m \u001b[38;5;28;01mexcept\u001b[39;00m \u001b[38;5;167;01mBaseException\u001b[39;00m \u001b[38;5;28;01mas\u001b[39;00m e:\n",
            "\u001b[36mFile \u001b[39m\u001b[32mc:\\Users\\Simar\\AppData\\Local\\Programs\\Python\\Python312\\Lib\\site-packages\\langchain\\agents\\agent.py:1681\u001b[39m, in \u001b[36mAgentExecutor._acall\u001b[39m\u001b[34m(self, inputs, run_manager)\u001b[39m\n\u001b[32m   1679\u001b[39m \u001b[38;5;28;01masync\u001b[39;00m \u001b[38;5;28;01mwith\u001b[39;00m asyncio_timeout(\u001b[38;5;28mself\u001b[39m.max_execution_time):\n\u001b[32m   1680\u001b[39m     \u001b[38;5;28;01mwhile\u001b[39;00m \u001b[38;5;28mself\u001b[39m._should_continue(iterations, time_elapsed):\n\u001b[32m-> \u001b[39m\u001b[32m1681\u001b[39m         next_step_output = \u001b[38;5;28;01mawait\u001b[39;00m \u001b[38;5;28mself\u001b[39m._atake_next_step(\n\u001b[32m   1682\u001b[39m             name_to_tool_map,\n\u001b[32m   1683\u001b[39m             color_mapping,\n\u001b[32m   1684\u001b[39m             inputs,\n\u001b[32m   1685\u001b[39m             intermediate_steps,\n\u001b[32m   1686\u001b[39m             run_manager=run_manager,\n\u001b[32m   1687\u001b[39m         )\n\u001b[32m   1688\u001b[39m         \u001b[38;5;28;01mif\u001b[39;00m \u001b[38;5;28misinstance\u001b[39m(next_step_output, AgentFinish):\n\u001b[32m   1689\u001b[39m             \u001b[38;5;28;01mreturn\u001b[39;00m \u001b[38;5;28;01mawait\u001b[39;00m \u001b[38;5;28mself\u001b[39m._areturn(\n\u001b[32m   1690\u001b[39m                 next_step_output,\n\u001b[32m   1691\u001b[39m                 intermediate_steps,\n\u001b[32m   1692\u001b[39m                 run_manager=run_manager,\n\u001b[32m   1693\u001b[39m             )\n",
            "\u001b[36mFile \u001b[39m\u001b[32mc:\\Users\\Simar\\AppData\\Local\\Programs\\Python\\Python312\\Lib\\site-packages\\langchain\\agents\\agent.py:1463\u001b[39m, in \u001b[36mAgentExecutor._atake_next_step\u001b[39m\u001b[34m(self, name_to_tool_map, color_mapping, inputs, intermediate_steps, run_manager)\u001b[39m\n\u001b[32m   1454\u001b[39m \u001b[38;5;28;01masync\u001b[39;00m \u001b[38;5;28;01mdef\u001b[39;00m\u001b[38;5;250m \u001b[39m\u001b[34m_atake_next_step\u001b[39m(\n\u001b[32m   1455\u001b[39m     \u001b[38;5;28mself\u001b[39m,\n\u001b[32m   1456\u001b[39m     name_to_tool_map: \u001b[38;5;28mdict\u001b[39m[\u001b[38;5;28mstr\u001b[39m, BaseTool],\n\u001b[32m   (...)\u001b[39m\u001b[32m   1460\u001b[39m     run_manager: Optional[AsyncCallbackManagerForChainRun] = \u001b[38;5;28;01mNone\u001b[39;00m,\n\u001b[32m   1461\u001b[39m ) -> Union[AgentFinish, \u001b[38;5;28mlist\u001b[39m[\u001b[38;5;28mtuple\u001b[39m[AgentAction, \u001b[38;5;28mstr\u001b[39m]]]:\n\u001b[32m   1462\u001b[39m     \u001b[38;5;28;01mreturn\u001b[39;00m \u001b[38;5;28mself\u001b[39m._consume_next_step(\n\u001b[32m-> \u001b[39m\u001b[32m1463\u001b[39m         [\n\u001b[32m   1464\u001b[39m             a\n\u001b[32m   1465\u001b[39m             \u001b[38;5;28;01masync\u001b[39;00m \u001b[38;5;28;01mfor\u001b[39;00m a \u001b[38;5;129;01min\u001b[39;00m \u001b[38;5;28mself\u001b[39m._aiter_next_step(\n\u001b[32m   1466\u001b[39m                 name_to_tool_map,\n\u001b[32m   1467\u001b[39m                 color_mapping,\n\u001b[32m   1468\u001b[39m                 inputs,\n\u001b[32m   1469\u001b[39m                 intermediate_steps,\n\u001b[32m   1470\u001b[39m                 run_manager,\n\u001b[32m   1471\u001b[39m             )\n\u001b[32m   1472\u001b[39m         ],\n\u001b[32m   1473\u001b[39m     )\n",
            "\u001b[36mFile \u001b[39m\u001b[32mc:\\Users\\Simar\\AppData\\Local\\Programs\\Python\\Python312\\Lib\\site-packages\\langchain\\agents\\agent.py:1546\u001b[39m, in \u001b[36mAgentExecutor._aiter_next_step\u001b[39m\u001b[34m(self, name_to_tool_map, color_mapping, inputs, intermediate_steps, run_manager)\u001b[39m\n\u001b[32m   1543\u001b[39m     \u001b[38;5;28;01myield\u001b[39;00m agent_action\n\u001b[32m   1545\u001b[39m \u001b[38;5;66;03m# Use asyncio.gather to run multiple tool.arun() calls concurrently\u001b[39;00m\n\u001b[32m-> \u001b[39m\u001b[32m1546\u001b[39m result = \u001b[38;5;28;01mawait\u001b[39;00m asyncio.gather(\n\u001b[32m   1547\u001b[39m     *[\n\u001b[32m   1548\u001b[39m         \u001b[38;5;28mself\u001b[39m._aperform_agent_action(\n\u001b[32m   1549\u001b[39m             name_to_tool_map,\n\u001b[32m   1550\u001b[39m             color_mapping,\n\u001b[32m   1551\u001b[39m             agent_action,\n\u001b[32m   1552\u001b[39m             run_manager,\n\u001b[32m   1553\u001b[39m         )\n\u001b[32m   1554\u001b[39m         \u001b[38;5;28;01mfor\u001b[39;00m agent_action \u001b[38;5;129;01min\u001b[39;00m actions\n\u001b[32m   1555\u001b[39m     ],\n\u001b[32m   1556\u001b[39m )\n\u001b[32m   1558\u001b[39m \u001b[38;5;66;03m# TODO This could yield each result as it becomes available\u001b[39;00m\n\u001b[32m   1559\u001b[39m \u001b[38;5;28;01mfor\u001b[39;00m chunk \u001b[38;5;129;01min\u001b[39;00m result:\n",
            "\u001b[36mFile \u001b[39m\u001b[32mc:\\Users\\Simar\\AppData\\Local\\Programs\\Python\\Python312\\Lib\\site-packages\\langchain\\agents\\agent.py:1584\u001b[39m, in \u001b[36mAgentExecutor._aperform_agent_action\u001b[39m\u001b[34m(self, name_to_tool_map, color_mapping, agent_action, run_manager)\u001b[39m\n\u001b[32m   1582\u001b[39m         tool_run_kwargs[\u001b[33m\"\u001b[39m\u001b[33mllm_prefix\u001b[39m\u001b[33m\"\u001b[39m] = \u001b[33m\"\u001b[39m\u001b[33m\"\u001b[39m\n\u001b[32m   1583\u001b[39m     \u001b[38;5;66;03m# We then call the tool on the tool input to get an observation\u001b[39;00m\n\u001b[32m-> \u001b[39m\u001b[32m1584\u001b[39m     observation = \u001b[38;5;28;01mawait\u001b[39;00m tool.arun(\n\u001b[32m   1585\u001b[39m         agent_action.tool_input,\n\u001b[32m   1586\u001b[39m         verbose=\u001b[38;5;28mself\u001b[39m.verbose,\n\u001b[32m   1587\u001b[39m         color=color,\n\u001b[32m   1588\u001b[39m         callbacks=run_manager.get_child() \u001b[38;5;28;01mif\u001b[39;00m run_manager \u001b[38;5;28;01melse\u001b[39;00m \u001b[38;5;28;01mNone\u001b[39;00m,\n\u001b[32m   1589\u001b[39m         **tool_run_kwargs,\n\u001b[32m   1590\u001b[39m     )\n\u001b[32m   1591\u001b[39m \u001b[38;5;28;01melse\u001b[39;00m:\n\u001b[32m   1592\u001b[39m     tool_run_kwargs = \u001b[38;5;28mself\u001b[39m._action_agent.tool_run_logging_kwargs()\n",
            "\u001b[36mFile \u001b[39m\u001b[32mc:\\Users\\Simar\\AppData\\Local\\Programs\\Python\\Python312\\Lib\\site-packages\\langchain_core\\tools\\base.py:1001\u001b[39m, in \u001b[36mBaseTool.arun\u001b[39m\u001b[34m(self, tool_input, verbose, start_color, color, callbacks, tags, metadata, run_name, run_id, config, tool_call_id, **kwargs)\u001b[39m\n\u001b[32m    999\u001b[39m \u001b[38;5;28;01mif\u001b[39;00m error_to_raise:\n\u001b[32m   1000\u001b[39m     \u001b[38;5;28;01mawait\u001b[39;00m run_manager.on_tool_error(error_to_raise)\n\u001b[32m-> \u001b[39m\u001b[32m1001\u001b[39m     \u001b[38;5;28;01mraise\u001b[39;00m error_to_raise\n\u001b[32m   1003\u001b[39m output = _format_output(content, artifact, tool_call_id, \u001b[38;5;28mself\u001b[39m.name, status)\n\u001b[32m   1004\u001b[39m \u001b[38;5;28;01mawait\u001b[39;00m run_manager.on_tool_end(output, color=color, name=\u001b[38;5;28mself\u001b[39m.name, **kwargs)\n",
            "\u001b[36mFile \u001b[39m\u001b[32mc:\\Users\\Simar\\AppData\\Local\\Programs\\Python\\Python312\\Lib\\site-packages\\langchain_core\\tools\\base.py:970\u001b[39m, in \u001b[36mBaseTool.arun\u001b[39m\u001b[34m(self, tool_input, verbose, start_color, color, callbacks, tags, metadata, run_name, run_id, config, tool_call_id, **kwargs)\u001b[39m\n\u001b[32m    967\u001b[39m         tool_kwargs[config_param] = config\n\u001b[32m    969\u001b[39m     coro = \u001b[38;5;28mself\u001b[39m._arun(*tool_args, **tool_kwargs)\n\u001b[32m--> \u001b[39m\u001b[32m970\u001b[39m     response = \u001b[38;5;28;01mawait\u001b[39;00m coro_with_context(coro, context)\n\u001b[32m    971\u001b[39m \u001b[38;5;28;01mif\u001b[39;00m \u001b[38;5;28mself\u001b[39m.response_format == \u001b[33m\"\u001b[39m\u001b[33mcontent_and_artifact\u001b[39m\u001b[33m\"\u001b[39m:\n\u001b[32m    972\u001b[39m     \u001b[38;5;28;01mif\u001b[39;00m \u001b[38;5;129;01mnot\u001b[39;00m \u001b[38;5;28misinstance\u001b[39m(response, \u001b[38;5;28mtuple\u001b[39m) \u001b[38;5;129;01mor\u001b[39;00m \u001b[38;5;28mlen\u001b[39m(response) != \u001b[32m2\u001b[39m:\n",
            "\u001b[36mFile \u001b[39m\u001b[32mc:\\Users\\Simar\\AppData\\Local\\Programs\\Python\\Python312\\Lib\\site-packages\\langchain_core\\tools\\simple.py:126\u001b[39m, in \u001b[36mTool._arun\u001b[39m\u001b[34m(self, config, run_manager, *args, **kwargs)\u001b[39m\n\u001b[32m    122\u001b[39m     \u001b[38;5;28;01mreturn\u001b[39;00m \u001b[38;5;28;01mawait\u001b[39;00m \u001b[38;5;28mself\u001b[39m.coroutine(*args, **kwargs)\n\u001b[32m    124\u001b[39m \u001b[38;5;66;03m# NOTE: this code is unreachable since _arun is only called if coroutine is not\u001b[39;00m\n\u001b[32m    125\u001b[39m \u001b[38;5;66;03m# None.\u001b[39;00m\n\u001b[32m--> \u001b[39m\u001b[32m126\u001b[39m \u001b[38;5;28;01mreturn\u001b[39;00m \u001b[38;5;28;01mawait\u001b[39;00m \u001b[38;5;28msuper\u001b[39m()._arun(\n\u001b[32m    127\u001b[39m     *args, config=config, run_manager=run_manager, **kwargs\n\u001b[32m    128\u001b[39m )\n",
            "\u001b[36mFile \u001b[39m\u001b[32mc:\\Users\\Simar\\AppData\\Local\\Programs\\Python\\Python312\\Lib\\site-packages\\langchain_core\\tools\\base.py:740\u001b[39m, in \u001b[36mBaseTool._arun\u001b[39m\u001b[34m(self, *args, **kwargs)\u001b[39m\n\u001b[32m    736\u001b[39m \u001b[38;5;28;01mif\u001b[39;00m kwargs.get(\u001b[33m\"\u001b[39m\u001b[33mrun_manager\u001b[39m\u001b[33m\"\u001b[39m) \u001b[38;5;129;01mand\u001b[39;00m signature(\u001b[38;5;28mself\u001b[39m._run).parameters.get(\n\u001b[32m    737\u001b[39m     \u001b[33m\"\u001b[39m\u001b[33mrun_manager\u001b[39m\u001b[33m\"\u001b[39m\n\u001b[32m    738\u001b[39m ):\n\u001b[32m    739\u001b[39m     kwargs[\u001b[33m\"\u001b[39m\u001b[33mrun_manager\u001b[39m\u001b[33m\"\u001b[39m] = kwargs[\u001b[33m\"\u001b[39m\u001b[33mrun_manager\u001b[39m\u001b[33m\"\u001b[39m].get_sync()\n\u001b[32m--> \u001b[39m\u001b[32m740\u001b[39m \u001b[38;5;28;01mreturn\u001b[39;00m \u001b[38;5;28;01mawait\u001b[39;00m run_in_executor(\u001b[38;5;28;01mNone\u001b[39;00m, \u001b[38;5;28mself\u001b[39m._run, *args, **kwargs)\n",
            "\u001b[36mFile \u001b[39m\u001b[32mc:\\Users\\Simar\\AppData\\Local\\Programs\\Python\\Python312\\Lib\\site-packages\\langchain_core\\runnables\\config.py:617\u001b[39m, in \u001b[36mrun_in_executor\u001b[39m\u001b[34m(executor_or_config, func, *args, **kwargs)\u001b[39m\n\u001b[32m    613\u001b[39m         \u001b[38;5;28;01mraise\u001b[39;00m \u001b[38;5;167;01mRuntimeError\u001b[39;00m \u001b[38;5;28;01mfrom\u001b[39;00m\u001b[38;5;250m \u001b[39m\u001b[34;01mexc\u001b[39;00m\n\u001b[32m    615\u001b[39m \u001b[38;5;28;01mif\u001b[39;00m executor_or_config \u001b[38;5;129;01mis\u001b[39;00m \u001b[38;5;28;01mNone\u001b[39;00m \u001b[38;5;129;01mor\u001b[39;00m \u001b[38;5;28misinstance\u001b[39m(executor_or_config, \u001b[38;5;28mdict\u001b[39m):\n\u001b[32m    616\u001b[39m     \u001b[38;5;66;03m# Use default executor with context copied from current context\u001b[39;00m\n\u001b[32m--> \u001b[39m\u001b[32m617\u001b[39m     \u001b[38;5;28;01mreturn\u001b[39;00m \u001b[38;5;28;01mawait\u001b[39;00m asyncio.get_running_loop().run_in_executor(\n\u001b[32m    618\u001b[39m         \u001b[38;5;28;01mNone\u001b[39;00m,\n\u001b[32m    619\u001b[39m         cast(\u001b[33m\"\u001b[39m\u001b[33mCallable[..., T]\u001b[39m\u001b[33m\"\u001b[39m, partial(copy_context().run, wrapper)),\n\u001b[32m    620\u001b[39m     )\n\u001b[32m    622\u001b[39m \u001b[38;5;28;01mreturn\u001b[39;00m \u001b[38;5;28;01mawait\u001b[39;00m asyncio.get_running_loop().run_in_executor(executor_or_config, wrapper)\n",
            "\u001b[36mFile \u001b[39m\u001b[32mc:\\Users\\Simar\\AppData\\Local\\Programs\\Python\\Python312\\Lib\\concurrent\\futures\\thread.py:58\u001b[39m, in \u001b[36m_WorkItem.run\u001b[39m\u001b[34m(self)\u001b[39m\n\u001b[32m     55\u001b[39m     \u001b[38;5;28;01mreturn\u001b[39;00m\n\u001b[32m     57\u001b[39m \u001b[38;5;28;01mtry\u001b[39;00m:\n\u001b[32m---> \u001b[39m\u001b[32m58\u001b[39m     result = \u001b[38;5;28;43mself\u001b[39;49m\u001b[43m.\u001b[49m\u001b[43mfn\u001b[49m\u001b[43m(\u001b[49m\u001b[43m*\u001b[49m\u001b[38;5;28;43mself\u001b[39;49m\u001b[43m.\u001b[49m\u001b[43margs\u001b[49m\u001b[43m,\u001b[49m\u001b[43m \u001b[49m\u001b[43m*\u001b[49m\u001b[43m*\u001b[49m\u001b[38;5;28;43mself\u001b[39;49m\u001b[43m.\u001b[49m\u001b[43mkwargs\u001b[49m\u001b[43m)\u001b[49m\n\u001b[32m     59\u001b[39m \u001b[38;5;28;01mexcept\u001b[39;00m \u001b[38;5;167;01mBaseException\u001b[39;00m \u001b[38;5;28;01mas\u001b[39;00m exc:\n\u001b[32m     60\u001b[39m     \u001b[38;5;28mself\u001b[39m.future.set_exception(exc)\n",
            "\u001b[36mFile \u001b[39m\u001b[32mc:\\Users\\Simar\\AppData\\Local\\Programs\\Python\\Python312\\Lib\\site-packages\\langchain_core\\runnables\\config.py:608\u001b[39m, in \u001b[36mrun_in_executor.<locals>.wrapper\u001b[39m\u001b[34m()\u001b[39m\n\u001b[32m    606\u001b[39m \u001b[38;5;28;01mdef\u001b[39;00m\u001b[38;5;250m \u001b[39m\u001b[34mwrapper\u001b[39m() -> T:\n\u001b[32m    607\u001b[39m     \u001b[38;5;28;01mtry\u001b[39;00m:\n\u001b[32m--> \u001b[39m\u001b[32m608\u001b[39m         \u001b[38;5;28;01mreturn\u001b[39;00m \u001b[43mfunc\u001b[49m\u001b[43m(\u001b[49m\u001b[43m*\u001b[49m\u001b[43margs\u001b[49m\u001b[43m,\u001b[49m\u001b[43m \u001b[49m\u001b[43m*\u001b[49m\u001b[43m*\u001b[49m\u001b[43mkwargs\u001b[49m\u001b[43m)\u001b[49m\n\u001b[32m    609\u001b[39m     \u001b[38;5;28;01mexcept\u001b[39;00m \u001b[38;5;167;01mStopIteration\u001b[39;00m \u001b[38;5;28;01mas\u001b[39;00m exc:\n\u001b[32m    610\u001b[39m         \u001b[38;5;66;03m# StopIteration can't be set on an asyncio.Future\u001b[39;00m\n\u001b[32m    611\u001b[39m         \u001b[38;5;66;03m# it raises a TypeError and leaves the Future pending forever\u001b[39;00m\n\u001b[32m    612\u001b[39m         \u001b[38;5;66;03m# so we need to convert it to a RuntimeError\u001b[39;00m\n\u001b[32m    613\u001b[39m         \u001b[38;5;28;01mraise\u001b[39;00m \u001b[38;5;167;01mRuntimeError\u001b[39;00m \u001b[38;5;28;01mfrom\u001b[39;00m\u001b[38;5;250m \u001b[39m\u001b[34;01mexc\u001b[39;00m\n",
            "\u001b[36mFile \u001b[39m\u001b[32mc:\\Users\\Simar\\AppData\\Local\\Programs\\Python\\Python312\\Lib\\site-packages\\langchain_core\\tools\\simple.py:105\u001b[39m, in \u001b[36mTool._run\u001b[39m\u001b[34m(self, config, run_manager, *args, **kwargs)\u001b[39m\n\u001b[32m    103\u001b[39m     \u001b[38;5;28;01mif\u001b[39;00m config_param := _get_runnable_config_param(\u001b[38;5;28mself\u001b[39m.func):\n\u001b[32m    104\u001b[39m         kwargs[config_param] = config\n\u001b[32m--> \u001b[39m\u001b[32m105\u001b[39m     \u001b[38;5;28;01mreturn\u001b[39;00m \u001b[38;5;28;43mself\u001b[39;49m\u001b[43m.\u001b[49m\u001b[43mfunc\u001b[49m\u001b[43m(\u001b[49m\u001b[43m*\u001b[49m\u001b[43margs\u001b[49m\u001b[43m,\u001b[49m\u001b[43m \u001b[49m\u001b[43m*\u001b[49m\u001b[43m*\u001b[49m\u001b[43mkwargs\u001b[49m\u001b[43m)\u001b[49m\n\u001b[32m    106\u001b[39m msg = \u001b[33m\"\u001b[39m\u001b[33mTool does not support sync invocation.\u001b[39m\u001b[33m\"\u001b[39m\n\u001b[32m    107\u001b[39m \u001b[38;5;28;01mraise\u001b[39;00m \u001b[38;5;167;01mNotImplementedError\u001b[39;00m(msg)\n",
            "\u001b[36mFile \u001b[39m\u001b[32mc:\\Users\\Simar\\AppData\\Local\\Programs\\Python\\Python312\\Lib\\site-packages\\langchain_community\\utilities\\wolfram_alpha.py:52\u001b[39m, in \u001b[36mWolframAlphaAPIWrapper.run\u001b[39m\u001b[34m(self, query)\u001b[39m\n\u001b[32m     50\u001b[39m \u001b[38;5;28;01mdef\u001b[39;00m\u001b[38;5;250m \u001b[39m\u001b[34mrun\u001b[39m(\u001b[38;5;28mself\u001b[39m, query: \u001b[38;5;28mstr\u001b[39m) -> \u001b[38;5;28mstr\u001b[39m:\n\u001b[32m     51\u001b[39m \u001b[38;5;250m    \u001b[39m\u001b[33;03m\"\"\"Run query through WolframAlpha and parse result.\"\"\"\u001b[39;00m\n\u001b[32m---> \u001b[39m\u001b[32m52\u001b[39m     res = \u001b[38;5;28;43mself\u001b[39;49m\u001b[43m.\u001b[49m\u001b[43mwolfram_client\u001b[49m\u001b[43m.\u001b[49m\u001b[43mquery\u001b[49m\u001b[43m(\u001b[49m\u001b[43mquery\u001b[49m\u001b[43m)\u001b[49m\n\u001b[32m     54\u001b[39m     \u001b[38;5;28;01mtry\u001b[39;00m:\n\u001b[32m     55\u001b[39m         assumption = \u001b[38;5;28mnext\u001b[39m(res.pods).text\n",
            "\u001b[36mFile \u001b[39m\u001b[32mc:\\Users\\Simar\\AppData\\Local\\Programs\\Python\\Python312\\Lib\\site-packages\\wolframalpha\\__init__.py:119\u001b[39m, in \u001b[36mClient.query\u001b[39m\u001b[34m(self, input, params, **kwargs)\u001b[39m\n\u001b[32m     97\u001b[39m \u001b[38;5;28;01mdef\u001b[39;00m\u001b[38;5;250m \u001b[39m\u001b[34mquery\u001b[39m(\u001b[38;5;28mself\u001b[39m, \u001b[38;5;28minput\u001b[39m, params=(), **kwargs):\n\u001b[32m     98\u001b[39m \u001b[38;5;250m    \u001b[39m\u001b[33;03m\"\"\"\u001b[39;00m\n\u001b[32m     99\u001b[39m \u001b[33;03m    Query Wolfram|Alpha using the v2.0 API\u001b[39;00m\n\u001b[32m    100\u001b[39m \n\u001b[32m   (...)\u001b[39m\u001b[32m    117\u001b[39m \u001b[33;03m    https://products.wolframalpha.com/api/documentation.html#6\u001b[39;00m\n\u001b[32m    118\u001b[39m \u001b[33;03m    \"\"\"\u001b[39;00m\n\u001b[32m--> \u001b[39m\u001b[32m119\u001b[39m     \u001b[38;5;28;01mreturn\u001b[39;00m \u001b[43masyncio\u001b[49m\u001b[43m.\u001b[49m\u001b[43mrun\u001b[49m\u001b[43m(\u001b[49m\u001b[38;5;28;43mself\u001b[39;49m\u001b[43m.\u001b[49m\u001b[43maquery\u001b[49m\u001b[43m(\u001b[49m\u001b[38;5;28;43minput\u001b[39;49m\u001b[43m,\u001b[49m\u001b[43m \u001b[49m\u001b[43mparams\u001b[49m\u001b[43m,\u001b[49m\u001b[43m \u001b[49m\u001b[43m*\u001b[49m\u001b[43m*\u001b[49m\u001b[43mkwargs\u001b[49m\u001b[43m)\u001b[49m\u001b[43m)\u001b[49m\n",
            "\u001b[36mFile \u001b[39m\u001b[32mc:\\Users\\Simar\\AppData\\Local\\Programs\\Python\\Python312\\Lib\\asyncio\\runners.py:194\u001b[39m, in \u001b[36mrun\u001b[39m\u001b[34m(main, debug, loop_factory)\u001b[39m\n\u001b[32m    190\u001b[39m     \u001b[38;5;28;01mraise\u001b[39;00m \u001b[38;5;167;01mRuntimeError\u001b[39;00m(\n\u001b[32m    191\u001b[39m         \u001b[33m\"\u001b[39m\u001b[33masyncio.run() cannot be called from a running event loop\u001b[39m\u001b[33m\"\u001b[39m)\n\u001b[32m    193\u001b[39m \u001b[38;5;28;01mwith\u001b[39;00m Runner(debug=debug, loop_factory=loop_factory) \u001b[38;5;28;01mas\u001b[39;00m runner:\n\u001b[32m--> \u001b[39m\u001b[32m194\u001b[39m     \u001b[38;5;28;01mreturn\u001b[39;00m \u001b[43mrunner\u001b[49m\u001b[43m.\u001b[49m\u001b[43mrun\u001b[49m\u001b[43m(\u001b[49m\u001b[43mmain\u001b[49m\u001b[43m)\u001b[49m\n",
            "\u001b[36mFile \u001b[39m\u001b[32mc:\\Users\\Simar\\AppData\\Local\\Programs\\Python\\Python312\\Lib\\asyncio\\runners.py:118\u001b[39m, in \u001b[36mRunner.run\u001b[39m\u001b[34m(self, coro, context)\u001b[39m\n\u001b[32m    116\u001b[39m \u001b[38;5;28mself\u001b[39m._interrupt_count = \u001b[32m0\u001b[39m\n\u001b[32m    117\u001b[39m \u001b[38;5;28;01mtry\u001b[39;00m:\n\u001b[32m--> \u001b[39m\u001b[32m118\u001b[39m     \u001b[38;5;28;01mreturn\u001b[39;00m \u001b[38;5;28;43mself\u001b[39;49m\u001b[43m.\u001b[49m\u001b[43m_loop\u001b[49m\u001b[43m.\u001b[49m\u001b[43mrun_until_complete\u001b[49m\u001b[43m(\u001b[49m\u001b[43mtask\u001b[49m\u001b[43m)\u001b[49m\n\u001b[32m    119\u001b[39m \u001b[38;5;28;01mexcept\u001b[39;00m exceptions.CancelledError:\n\u001b[32m    120\u001b[39m     \u001b[38;5;28;01mif\u001b[39;00m \u001b[38;5;28mself\u001b[39m._interrupt_count > \u001b[32m0\u001b[39m:\n",
            "\u001b[36mFile \u001b[39m\u001b[32mc:\\Users\\Simar\\AppData\\Local\\Programs\\Python\\Python312\\Lib\\asyncio\\base_events.py:687\u001b[39m, in \u001b[36mBaseEventLoop.run_until_complete\u001b[39m\u001b[34m(self, future)\u001b[39m\n\u001b[32m    684\u001b[39m \u001b[38;5;28;01mif\u001b[39;00m \u001b[38;5;129;01mnot\u001b[39;00m future.done():\n\u001b[32m    685\u001b[39m     \u001b[38;5;28;01mraise\u001b[39;00m \u001b[38;5;167;01mRuntimeError\u001b[39;00m(\u001b[33m'\u001b[39m\u001b[33mEvent loop stopped before Future completed.\u001b[39m\u001b[33m'\u001b[39m)\n\u001b[32m--> \u001b[39m\u001b[32m687\u001b[39m \u001b[38;5;28;01mreturn\u001b[39;00m \u001b[43mfuture\u001b[49m\u001b[43m.\u001b[49m\u001b[43mresult\u001b[49m\u001b[43m(\u001b[49m\u001b[43m)\u001b[49m\n",
            "\u001b[36mFile \u001b[39m\u001b[32mc:\\Users\\Simar\\AppData\\Local\\Programs\\Python\\Python312\\Lib\\site-packages\\wolframalpha\\__init__.py:129\u001b[39m, in \u001b[36mClient.aquery\u001b[39m\u001b[34m(self, input, params, **kwargs)\u001b[39m\n\u001b[32m    122\u001b[39m \u001b[38;5;28;01masync\u001b[39;00m \u001b[38;5;28;01mwith\u001b[39;00m httpx.AsyncClient() \u001b[38;5;28;01mas\u001b[39;00m client:\n\u001b[32m    123\u001b[39m     resp = \u001b[38;5;28;01mawait\u001b[39;00m client.get(\n\u001b[32m    124\u001b[39m         \u001b[38;5;28mself\u001b[39m.url,\n\u001b[32m    125\u001b[39m         params=multidict.MultiDict(\n\u001b[32m    126\u001b[39m             params, appid=\u001b[38;5;28mself\u001b[39m.app_id, \u001b[38;5;28minput\u001b[39m=\u001b[38;5;28minput\u001b[39m, **kwargs\n\u001b[32m    127\u001b[39m         ),\n\u001b[32m    128\u001b[39m     )\n\u001b[32m--> \u001b[39m\u001b[32m129\u001b[39m \u001b[38;5;28;01massert\u001b[39;00m resp.headers[\u001b[33m'\u001b[39m\u001b[33mContent-Type\u001b[39m\u001b[33m'\u001b[39m] == \u001b[33m'\u001b[39m\u001b[33mtext/xml;charset=utf-8\u001b[39m\u001b[33m'\u001b[39m\n\u001b[32m    130\u001b[39m doc = xmltodict.parse(resp.content, postprocessor=Document.make)\n\u001b[32m    131\u001b[39m \u001b[38;5;28;01mreturn\u001b[39;00m doc[\u001b[33m'\u001b[39m\u001b[33mqueryresult\u001b[39m\u001b[33m'\u001b[39m]\n",
            "\u001b[31mAssertionError\u001b[39m: "
          ]
        }
      ],
      "source": [
        "await run_agent_async(\"what is the per litre petrol price today in Mumbai. Divide the per litre price by 85\")"
      ]
    },
    {
      "cell_type": "code",
      "execution_count": null,
      "id": "e6d69a83",
      "metadata": {
        "id": "e6d69a83",
        "outputId": "e299c6db-eee7-4b5f-f0a1-e1c8fedb0024"
      },
      "outputs": [],
      "source": [
        "await run_agent_async(\"what is the per litre petrol price today in Mumbai. Divide the per litre price by 85. What do you think about the future of petrol cars?\")"
      ]
    },
    {
      "cell_type": "markdown",
      "id": "49145cd5",
      "metadata": {
        "id": "49145cd5"
      },
      "source": [
        "### Explain the steps to get: SerpAPI Key\n",
        "\n",
        "Here's a **simple step-by-step guide** to get your **SerpAPI Key** (used for Google Search via API):\n",
        "\n",
        "---\n",
        "\n",
        "## What is SerpAPI?\n",
        "\n",
        "**SerpAPI** is a service that lets you access **Google Search results programmatically** using an API. It's useful for real-time search tasks in AI agents.\n",
        "\n",
        "---\n",
        "\n",
        "## Steps to Get Your SerpAPI Key\n",
        "\n",
        "### **1. Go to SerpAPI's Website**\n",
        "- Open: [https://serpapi.com](https://serpapi.com)\n",
        "\n",
        "---\n",
        "\n",
        "### **2. Sign Up (Free Plan Available)**\n",
        "- Click on **\"Sign Up\"** (top right).\n",
        "- You can sign up using:\n",
        "  - Google\n",
        "  - GitHub\n",
        "  - Email and password\n",
        "\n",
        "---\n",
        "\n",
        "### **3. Verify Your Email**\n",
        "- After signup, check your inbox and click the **verification link** from SerpAPI.\n",
        "\n",
        "---\n",
        "\n",
        "### **4. Go to Your Account Dashboard**\n",
        "- After logging in, you will be redirected to:\n",
        "  [https://serpapi.com/dashboard](https://serpapi.com/dashboard)\n",
        "\n",
        "---\n",
        "\n",
        "### **5. Copy Your API Key**\n",
        "- On the dashboard homepage, you’ll see:\n",
        "  - **Your Account Email**\n",
        "  - **Your Private API Key** (looks like `xxxxxxxxxxxxxxxxxxxxxxxxxxxxxxxx`)\n",
        "- Click **\"Copy\"** beside the key.\n",
        "\n",
        "---\n",
        "\n",
        "### **6. Paste the Key in `.env` File**\n",
        "In your project folder, open or create a `.env` file and paste:\n",
        "\n",
        "```env\n",
        "SERPAPI_API_KEY=your-copied-key-here\n",
        "```\n",
        "\n",
        "Example:\n",
        "```env\n",
        "SERPAPI_API_KEY=86e5c04ab2341dcb01de4fc34b33f2e7b640f9d7b00f7f45e\n",
        "```\n",
        "\n",
        "---\n",
        "\n",
        "## Free Tier Info\n",
        "\n",
        "SerpAPI gives you:\n",
        "- **100 free searches/month** (for non-commercial use)\n",
        "- More if you upgrade your plan\n",
        "\n",
        "---\n",
        "\n"
      ]
    },
    {
      "cell_type": "markdown",
      "id": "d235b2e6",
      "metadata": {
        "id": "d235b2e6"
      },
      "source": []
    },
    {
      "cell_type": "markdown",
      "id": "9ee38288",
      "metadata": {
        "id": "9ee38288"
      },
      "source": []
    },
    {
      "cell_type": "markdown",
      "id": "672209b5",
      "metadata": {
        "id": "672209b5"
      },
      "source": [
        "# Happy Learning"
      ]
    }
  ],
  "metadata": {
    "colab": {
      "provenance": []
    },
    "kernelspec": {
      "display_name": "Python 3",
      "language": "python",
      "name": "python3"
    },
    "language_info": {
      "codemirror_mode": {
        "name": "ipython",
        "version": 3
      },
      "file_extension": ".py",
      "mimetype": "text/x-python",
      "name": "python",
      "nbconvert_exporter": "python",
      "pygments_lexer": "ipython3",
      "version": "3.12.6"
    }
  },
  "nbformat": 4,
  "nbformat_minor": 5
}
