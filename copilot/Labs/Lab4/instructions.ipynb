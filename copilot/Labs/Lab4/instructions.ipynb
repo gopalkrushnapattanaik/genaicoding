{
 "cells": [
  {
   "cell_type": "markdown",
   "id": "fed6a2d5",
   "metadata": {},
   "source": [
    "# Working with MCP Tools"
   ]
  },
  {
   "cell_type": "markdown",
   "id": "ebff2324",
   "metadata": {},
   "source": [
    "## Introduction\n",
    "\n",
    "In this Lab, we will add the Google Map MCP tool into our GitHub Copilot environment."
   ]
  },
  {
   "cell_type": "markdown",
   "id": "b543fd96",
   "metadata": {},
   "source": [
    "<div style=\"background: #111; border-radius: 12px; border: 2px solid #333; padding: 20px; display: flex; align-items: center; gap: 24px;\">\n",
    "    <img src=\"../../images/robo1.png\" alt=\"Robo1\" style=\"width: 120px; height: auto; border-radius: 8px;\">\n",
    "    <div style=\"color: #fff;\">\n",
    "        <strong>Robo1 says:</strong><br>\n",
    "        Ready to explore the world? With Google Map MCP, I can find the fastest route to your favorite pizza place, discover hidden gems, and never get lost—even if I take a wrong turn in cyberspace!\n",
    "    </div>\n",
    "</div>"
   ]
  },
  {
   "cell_type": "markdown",
   "id": "0223e8ff",
   "metadata": {},
   "source": [
    "<div style=\"background: #222; border-radius: 12px; border: 2px solid #444; padding: 20px; color: #fff; margin-top: 16px;\">\n",
    "  <strong>Explore MCP Servers!</strong><br>\n",
    "  Visit <a href=\"https://github.com/modelcontextprotocol/servers?tab=readme-ov-file\" target=\"_blank\" style=\"color: #4fc3f7; text-decoration: underline;\">this link</a> and explore all available MCP Server projects. Discover the variety of tools and integrations you can use in your own AI workflows!\n",
    "</div>"
   ]
  },
  {
   "cell_type": "markdown",
   "id": "ad82d5f7",
   "metadata": {},
   "source": [
    "<div style=\"background: #222; border-radius: 12px; border: 2px solid #444; padding: 20px; color: #fff; margin-top: 16px;\">\n",
    "  From the list of MCP Servers, click on <span style=\"color:#4fc3f7;\">Google Map</span> and review all the APIs available. Explore the endpoints and features provided, and think about how you could use them in your own projects!\n",
    "</div>"
   ]
  }
 ],
 "metadata": {
  "language_info": {
   "name": "python"
  }
 },
 "nbformat": 4,
 "nbformat_minor": 5
}
