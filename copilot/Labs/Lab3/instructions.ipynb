{
 "cells": [
  {
   "cell_type": "markdown",
   "id": "af480b6c",
   "metadata": {},
   "source": [
    "# Lab: Working with GitHub Copilot Agent\n",
    "\n",
    "## Introduction to Agent Mode\n",
    "Agent mode in GitHub Copilot allows you to interact with AI as a coding assistant that can perform tasks, answer questions, and automate workflows directly in your editor. It's like having a super-powered coding partner that understands your intent and helps you get things done faster!\n",
    "\n",
    "<table><tr>\n",
    "<td><img src=\"../../images/robo1.png\" alt=\"Robo 1\" width=\"120\"></td>\n",
    "<td> Why did Copilot Agent get promoted? Because it always commits to helping out and never pushes anyone’s buttons!\n"
   ]
  },
  {
   "cell_type": "markdown",
   "id": "a2ae54ac",
   "metadata": {},
   "source": [
    "## Exercise 1: Create React App with Github Copilot (Agent Mode)\n",
    "<div style=\"background-color:black; padding:10px; border-radius:8px;\">\n",
    "<span style=\"font-size:120%; font-weight:bold; color:#1976d2;\">&#x1F4DD; Step 1:</span> <span style=\"color:#1976d2;\">Open chat in Agent Mode</span>"
   ]
  },
  {
   "cell_type": "markdown",
   "id": "34122a44",
   "metadata": {},
   "source": [
    "\n",
    "<div style=\"background-color:black; padding:10px; border-radius:8px;\">\n",
    "<span style=\"font-size:120%; font-weight:bold; color:#1976d2;\">&#x1F4DD; Step 2:</span> <span style=\"color:#1976d2;\">Run below prompt in chat</span>\n",
    "\n",
    "// Create a React app as emp_front with proper directory structure"
   ]
  },
  {
   "cell_type": "markdown",
   "id": "e7e9279e",
   "metadata": {},
   "source": [
    "\n",
    "<div style=\"background-color:black; padding:10px; border-radius:8px;\">\n",
    "<span style=\"font-size:120%; font-weight:bold; color:#1976d2;\">&#x1F4DD; Step 2:</span> <span style=\"color:#1976d2;\">Create Home page</span>\n",
    "\n",
    "// Create a app with input and a submit button\n"
   ]
  },
  {
   "cell_type": "markdown",
   "id": "2ae40d3b",
   "metadata": {},
   "source": [
    "\n",
    "<div style=\"background-color:black; padding:10px; border-radius:8px;\">\n",
    "<span style=\"font-size:120%; font-weight:bold; color:#1976d2;\">&#x1F4DD; Step 3:</span> <span style=\"color:#1976d2;\">Run App</span>\n",
    "\n",
    "// Run my app\n"
   ]
  },
  {
   "cell_type": "markdown",
   "id": "f0372a6d",
   "metadata": {},
   "source": [
    "<div style=\"background-color:black; padding:10px; border-radius:8px;\">\n",
    "<span style=\"font-size:120%; font-weight:bold; color:#1976d2;\">&#x1F4DD; Step 4:</span> <span style=\"color:#1976d2;\">Run App</span>\n",
    "\n",
    "// When user enter a text and click on submit, App should show text, thanks for submission below the form"
   ]
  },
  {
   "cell_type": "markdown",
   "id": "27c43899",
   "metadata": {},
   "source": [
    "\n",
    "<div style=\"background-color:black; padding:10px; border-radius:8px;\">\n",
    "<span style=\"font-size:120%; font-weight:bold; color:#1976d2;\">&#x1F4DD; Step 5:</span> <span style=\"color:#1976d2;\">Run App</span>\n",
    "\n",
    "// Run my app\n",
    "\n"
   ]
  },
  {
   "cell_type": "markdown",
   "id": "a6b32d2b",
   "metadata": {},
   "source": [
    "# 🎉 Congratulations!\n",
    "\n",
    "<table>\n",
    "<tr>\n",
    "<td><img src=\"../../images/robo1.png\" alt=\"Robo 1\" width=\"120\"></td>\n",
    "<td style=\"vertical-align:middle;\">\n",
    "<b>Awesome job!</b> You just created a React app with zero sweat, thanks to GitHub Copilot Agent.<br>\n",
    "Why work hard when you can work smart (and let the robots do the heavy lifting)?<br>\n",
    "</td>\n",
    "</tr>\n",
    "</table>\n",
    "\n",
    "Keep coding, keep smiling, and let Copilot Agent be your sidekick! 🚀"
   ]
  }
 ],
 "metadata": {
  "language_info": {
   "name": "python"
  }
 },
 "nbformat": 4,
 "nbformat_minor": 5
}
