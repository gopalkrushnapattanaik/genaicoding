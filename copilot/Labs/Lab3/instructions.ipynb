{
 "cells": [
  {
   "cell_type": "markdown",
   "id": "af480b6c",
   "metadata": {},
   "source": [
    "# Lab: Working with GitHub Copilot Agent\n",
    "\n",
    "## Introduction to Agent Mode\n",
    "Agent mode in GitHub Copilot allows you to interact with AI as a coding assistant that can perform tasks, answer questions, and automate workflows directly in your editor. It's like having a super-powered coding partner that understands your intent and helps you get things done faster!\n",
    "\n",
    "<table><tr>\n",
    "<td><img src=\"../../images/robo1.png\" alt=\"Robo 1\" width=\"120\"></td>\n",
    "<td> Why did Copilot Agent get promoted? Because it always commits to helping out and never pushes anyone’s buttons!\n"
   ]
  },
  {
   "cell_type": "markdown",
   "id": "a2ae54ac",
   "metadata": {},
   "source": [
    "## Exercise 1: Create React App with Github Copilot (Agent Mode)\n",
    "<div style=\"background-color:black; padding:10px; border-radius:8px;\">\n",
    "<span style=\"font-size:120%; font-weight:bold; color:#1976d2;\">&#x1F4DD; Step 1:</span> <span style=\"color:#1976d2;\">Open chat in Agent Mode</span>"
   ]
  },
  {
   "cell_type": "markdown",
   "id": "34122a44",
   "metadata": {},
   "source": [
    "\n",
    "<div style=\"background-color:black; padding:10px; border-radius:8px;\">\n",
    "<span style=\"font-size:120%; font-weight:bold; color:#1976d2;\">&#x1F4DD; Step 2:</span> <span style=\"color:#1976d2;\">Run below prompt in chat</span>\n",
    "\n",
    "// Create a React app as emp_front with proper directory structure"
   ]
  }
 ],
 "metadata": {
  "language_info": {
   "name": "python"
  }
 },
 "nbformat": 4,
 "nbformat_minor": 5
}
